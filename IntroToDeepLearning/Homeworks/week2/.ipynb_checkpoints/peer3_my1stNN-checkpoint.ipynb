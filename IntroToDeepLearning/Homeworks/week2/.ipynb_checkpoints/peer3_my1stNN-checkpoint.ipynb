{
 "cells": [
  {
   "cell_type": "code",
   "execution_count": 1,
   "metadata": {},
   "outputs": [
    {
     "name": "stderr",
     "output_type": "stream",
     "text": [
      "/Users/Garrett/anaconda3/lib/python3.6/site-packages/h5py/__init__.py:36: FutureWarning: Conversion of the second argument of issubdtype from `float` to `np.floating` is deprecated. In future, it will be treated as `np.float64 == np.dtype(float).type`.\n",
      "  from ._conv import register_converters as _register_converters\n",
      "Using TensorFlow backend.\n"
     ]
    },
    {
     "name": "stdout",
     "output_type": "stream",
     "text": [
      "(50000, 28, 28) (50000,)\n"
     ]
    },
    {
     "data": {
      "image/png": "[encoded data removed]",
      "text/plain": [
       "<Figure size 432x288 with 1 Axes>"
      ]
     },
     "metadata": {},
     "output_type": "display_data"
    }
   ],
   "source": [
    "from preprocessed_mnist import load_dataset\n",
    "X_train, y_train, X_val, y_val, X_test, y_test = load_dataset()\n",
    "print(X_train.shape, y_train.shape)\n",
    "import matplotlib.pyplot as plt\n",
    "%matplotlib inline\n",
    "plt.imshow(X_train[0], cmap=\"Greys\");"
   ]
  },
  {
   "cell_type": "code",
   "execution_count": 2,
   "metadata": {},
   "outputs": [],
   "source": [
    "import tensorflow as tf\n",
    "from sklearn.model_selection import train_test_split\n",
    "import numpy as np"
   ]
  },
  {
   "cell_type": "code",
   "execution_count": 3,
   "metadata": {},
   "outputs": [],
   "source": [
    "# flaten the dataset\n",
    "X_train = X_train.reshape([50000, 784])\n",
    "X_test = X_test.reshape([10000, 784])\n",
    "X_val = X_val.reshape([-1, 784])\n",
    "y_train = np.eye(10)[y_train]\n",
    "y_val = np.eye(10)[y_val]\n",
    "y_test = np.eye(10)[y_test]"
   ]
  },
  {
   "cell_type": "code",
   "execution_count": 4,
   "metadata": {},
   "outputs": [
    {
     "name": "stdout",
     "output_type": "stream",
     "text": [
      "X_train: (50000, 784), y_train: (50000, 10)\n",
      "X_val: (10000, 784), y_val: (10000, 10)\n",
      "X_test: (10000, 784), y_test: (10000, 10)\n"
     ]
    }
   ],
   "source": [
    "# the dimensions of the dataset\n",
    "print('X_train: {}, y_train: {}'.format(X_train.shape, y_train.shape))\n",
    "print('X_val: {}, y_val: {}'.format(X_val.shape, y_val.shape))\n",
    "print('X_test: {}, y_test: {}'.format(X_test.shape, y_test.shape))"
   ]
  },
  {
   "cell_type": "code",
   "execution_count": 5,
   "metadata": {},
   "outputs": [],
   "source": [
    "# preprocess the dataset, normalize the data\n",
    "X_train = (X_train - X_train.mean()) / X_train.std()\n",
    "X_test = (X_test - X_test.mean()) / X_test.std()\n",
    "X_val = (X_val - X_val.mean()) / X_val.std()"
   ]
  },
  {
   "cell_type": "code",
   "execution_count": 6,
   "metadata": {},
   "outputs": [],
   "source": [
    "# define hyper parameters and constants\n",
    "learning_rate = 1e-3\n",
    "hidden_size = [50,30]\n",
    "input_size = 784\n",
    "output_size = 10\n",
    "epoch = 50\n",
    "batch_size = 600\n",
    "\n",
    "sizes = [input_size, output_size]"
   ]
  },
  {
   "cell_type": "code",
   "execution_count": 7,
   "metadata": {},
   "outputs": [],
   "source": [
    "# weights and bias\n",
    "weight_0 = tf.Variable(1e-2 * np.random.rand(input_size, hidden_size[0]), dtype = 'float64')\n",
    "weight_1 = tf.Variable(1e-2 * np.random.rand(hidden_size[0], hidden_size[1]), dtype = 'float64')\n",
    "weight_2 = tf.Variable(1e-2 * np.random.rand(hidden_size[1], output_size), dtype = 'float64')\n",
    "weights = [weight_0, weight_1, weight_2]\n",
    "\n",
    "bias_0 = tf.Variable(np.zeros(hidden_size[0]), dtype = 'float64')\n",
    "bias_1 = tf.Variable(np.zeros(hidden_size[1]), dtype = 'float64')\n",
    "bias_2 = tf.Variable(np.zeros(output_size), dtype = 'float64')\n",
    "bias = [bias_0, bias_1, bias_2]"
   ]
  },
  {
   "cell_type": "code",
   "execution_count": 8,
   "metadata": {},
   "outputs": [],
   "source": [
    "# input\n",
    "input_X = tf.placeholder(shape = (None, 784), dtype = 'float64', name = 'input_X')\n",
    "input_y = tf.placeholder(shape = (None, 10), dtype = 'int32', name = 'input_y')"
   ]
  },
  {
   "cell_type": "code",
   "execution_count": 9,
   "metadata": {},
   "outputs": [
    {
     "name": "stdout",
     "output_type": "stream",
     "text": [
      "WARNING:tensorflow:From <ipython-input-9-2b5bb6e6a153>:7: softmax_cross_entropy_with_logits (from tensorflow.python.ops.nn_ops) is deprecated and will be removed in a future version.\n",
      "Instructions for updating:\n",
      "\n",
      "Future major versions of TensorFlow will allow gradients to flow\n",
      "into the labels input on backprop by default.\n",
      "\n",
      "See @{tf.nn.softmax_cross_entropy_with_logits_v2}.\n",
      "\n"
     ]
    }
   ],
   "source": [
    "# compute loss\n",
    "layer_0 = tf.nn.relu(tf.matmul(input_X, weights[0]) + bias[0])\n",
    "layer_1 = tf.nn.relu(tf.matmul(layer_0, weights[1]) + bias[1])\n",
    "layer_out = tf.matmul(layer_1, weights[2]) + bias[2]\n",
    "logits = tf.nn.softmax(layer_out)\n",
    "\n",
    "cross_entropy = tf.reduce_sum(tf.nn.softmax_cross_entropy_with_logits(logits = logits, labels = input_y))\n",
    "L2Norm = 1e-2 * (tf.nn.l2_loss(weights[0]) + tf.nn.l2_loss(weights[1]) + tf.nn.l2_loss(weights[2]))\n",
    "loss_total = tf.add(cross_entropy, L2Norm, name='loss') # add L2 regularization\n",
    "\n",
    "optimizer = tf.train.AdamOptimizer(learning_rate).minimize(loss_total)\n",
    "predict = tf.argmax(logits, 1)\n",
    "correct_prediction = tf.equal(predict, tf.argmax(input_y, 1))\n",
    "accuracy = tf.reduce_mean(tf.cast(correct_prediction, \"float\"))\n",
    "init = tf.global_variables_initializer()"
   ]
  },
  {
   "cell_type": "code",
   "execution_count": 10,
   "metadata": {},
   "outputs": [
    {
     "name": "stdout",
     "output_type": "stream",
     "text": [
      "[[ 0  5 10 15]\n",
      " [ 1  6 11 16]\n",
      " [ 2  7 12 17]\n",
      " [ 3  8 13 18]\n",
      " [ 4  9 14 19]] \n",
      " [[2]\n",
      " [3]\n",
      " [1]\n",
      " [4]\n",
      " [0]]\n",
      "[[ 1  6 11 16]\n",
      " [ 3  8 13 18]\n",
      " [ 2  7 12 17]\n",
      " [ 4  9 14 19]\n",
      " [ 0  5 10 15]] \n",
      " [[3]\n",
      " [4]\n",
      " [1]\n",
      " [0]\n",
      " [2]]\n"
     ]
    }
   ],
   "source": [
    "# shuffle the dataset\n",
    "def shuffle(X, y):\n",
    "    N = X.shape[0]\n",
    "    ind = np.random.permutation(N)\n",
    "    X = X[ind, :]\n",
    "    y = y[ind, :]\n",
    "    return (X, y)\n",
    "\n",
    "\n",
    "# test if the shuffle function works as expected\n",
    "y = np.array([[2],\n",
    "       [3],\n",
    "       [1],\n",
    "       [4],\n",
    "       [0]])\n",
    "X = np.array([[ 0,  5, 10, 15],\n",
    "       [ 1,  6, 11, 16],\n",
    "       [ 2,  7, 12, 17],\n",
    "       [ 3,  8, 13, 18],\n",
    "       [ 4,  9, 14, 19]])\n",
    "print(X,'\\n', y)\n",
    "X, y = shuffle(X, y)\n",
    "print(X,'\\n', y)"
   ]
  },
  {
   "cell_type": "code",
   "execution_count": 11,
   "metadata": {
    "scrolled": false
   },
   "outputs": [
    {
     "name": "stdout",
     "output_type": "stream",
     "text": [
      "epoch 1\n",
      "training accuracy: 0.2966666519641876, val accuracy: 0.272599995136261\n",
      "training loss: 22296.928696932326, val loss: 21886.240120406626\n",
      "epoch 2\n",
      "training accuracy: 0.40666666626930237, val accuracy: 0.39259999990463257\n",
      "training loss: 21267.37798030467, val loss: 20668.02122396728\n",
      "epoch 3\n",
      "training accuracy: 0.5266666412353516, val accuracy: 0.5338000059127808\n",
      "training loss: 19972.346807011498, val loss: 19454.98751207759\n",
      "epoch 4\n",
      "training accuracy: 0.5866666436195374, val accuracy: 0.6179999709129333\n",
      "training loss: 19075.106166687892, val loss: 18449.65541411463\n",
      "epoch 5\n",
      "training accuracy: 0.7383333444595337, val accuracy: 0.7409999966621399\n",
      "training loss: 17894.523144191302, val loss: 17260.204698778936\n",
      "epoch 6\n",
      "training accuracy: 0.8799999952316284, val accuracy: 0.8978000283241272\n",
      "training loss: 16494.51130307959, val loss: 15978.20035911164\n",
      "epoch 7\n",
      "training accuracy: 0.9100000262260437, val accuracy: 0.9196000099182129\n",
      "training loss: 15580.348912623489, val loss: 15455.410681216128\n",
      "epoch 8\n",
      "training accuracy: 0.9316666722297668, val accuracy: 0.9280999898910522\n",
      "training loss: 15378.544501634027, val loss: 15352.145502709802\n",
      "epoch 9\n",
      "training accuracy: 0.9383333325386047, val accuracy: 0.9337999820709229\n",
      "training loss: 15283.066604305088, val loss: 15299.39126415189\n",
      "epoch 10\n",
      "training accuracy: 0.9383333325386047, val accuracy: 0.9399999976158142\n",
      "training loss: 15223.571188162005, val loss: 15239.632083107757\n",
      "epoch 11\n",
      "training accuracy: 0.9316666722297668, val accuracy: 0.942300021648407\n",
      "training loss: 15170.116965934712, val loss: 15208.534570909855\n",
      "epoch 12\n",
      "training accuracy: 0.9599999785423279, val accuracy: 0.9456999897956848\n",
      "training loss: 15132.47912643142, val loss: 15176.706344770648\n",
      "epoch 13\n",
      "training accuracy: 0.949999988079071, val accuracy: 0.9477999806404114\n",
      "training loss: 15100.458423654196, val loss: 15156.167985015425\n",
      "epoch 14\n",
      "training accuracy: 0.9483333230018616, val accuracy: 0.9495999813079834\n",
      "training loss: 15068.407037053228, val loss: 15135.232450965486\n",
      "epoch 15\n",
      "training accuracy: 0.9566666483879089, val accuracy: 0.9528999924659729\n",
      "training loss: 15045.670163649664, val loss: 15104.265549652831\n",
      "epoch 16\n",
      "training accuracy: 0.9683333039283752, val accuracy: 0.9538999795913696\n",
      "training loss: 15024.683057299306, val loss: 15093.28153203355\n",
      "epoch 17\n",
      "training accuracy: 0.9700000286102295, val accuracy: 0.9556999802589417\n",
      "training loss: 15007.980291296339, val loss: 15077.131807301139\n",
      "epoch 18\n",
      "training accuracy: 0.9416666626930237, val accuracy: 0.9557999968528748\n",
      "training loss: 14991.76155865477, val loss: 15070.449741946788\n",
      "epoch 19\n",
      "training accuracy: 0.9750000238418579, val accuracy: 0.9563000202178955\n",
      "training loss: 14972.338734629691, val loss: 15064.007045831526\n",
      "epoch 20\n",
      "training accuracy: 0.95333331823349, val accuracy: 0.95660001039505\n",
      "training loss: 14960.652969259469, val loss: 15061.101251512917\n",
      "epoch 21\n",
      "training accuracy: 0.9750000238418579, val accuracy: 0.9587000012397766\n",
      "training loss: 14946.496697123526, val loss: 15050.01953850124\n",
      "epoch 22\n",
      "training accuracy: 0.95333331823349, val accuracy: 0.9577000141143799\n",
      "training loss: 14934.324883399928, val loss: 15050.442731471829\n",
      "epoch 23\n",
      "training accuracy: 0.9633333086967468, val accuracy: 0.9581000208854675\n",
      "training loss: 14922.56775670271, val loss: 15047.117625916297\n",
      "epoch 24\n",
      "training accuracy: 0.9616666436195374, val accuracy: 0.9580000042915344\n",
      "training loss: 14912.184281216649, val loss: 15044.540720619061\n",
      "epoch 25\n",
      "training accuracy: 0.9666666388511658, val accuracy: 0.9592000246047974\n",
      "training loss: 14902.37342456303, val loss: 15034.552437747401\n",
      "epoch 26\n",
      "training accuracy: 0.9583333134651184, val accuracy: 0.957099974155426\n",
      "training loss: 14890.236210929046, val loss: 15053.708768307812\n",
      "epoch 27\n",
      "training accuracy: 0.9733333587646484, val accuracy: 0.9592999815940857\n",
      "training loss: 14884.347864664738, val loss: 15034.27871439285\n",
      "epoch 28\n",
      "training accuracy: 0.9800000190734863, val accuracy: 0.9587000012397766\n",
      "training loss: 14873.131971799845, val loss: 15034.578415164156\n",
      "epoch 29\n",
      "training accuracy: 0.971666693687439, val accuracy: 0.9596999883651733\n",
      "training loss: 14870.46228775869, val loss: 15023.003738629171\n",
      "epoch 30\n",
      "training accuracy: 0.9816666841506958, val accuracy: 0.9595999717712402\n",
      "training loss: 14861.170884137613, val loss: 15028.213677297399\n",
      "epoch 31\n",
      "training accuracy: 0.9800000190734863, val accuracy: 0.9595000147819519\n",
      "training loss: 14853.53818114843, val loss: 15022.265467127845\n",
      "epoch 32\n",
      "training accuracy: 0.9766666889190674, val accuracy: 0.9610000252723694\n",
      "training loss: 14847.829692745954, val loss: 15015.48482215534\n",
      "epoch 33\n",
      "training accuracy: 0.9816666841506958, val accuracy: 0.9607999920845032\n",
      "training loss: 14840.046575830953, val loss: 15008.074854238623\n",
      "epoch 34\n",
      "training accuracy: 0.9733333587646484, val accuracy: 0.9611999988555908\n",
      "training loss: 14836.126443225183, val loss: 15010.785607411315\n",
      "epoch 35\n",
      "training accuracy: 0.9700000286102295, val accuracy: 0.9603999853134155\n",
      "training loss: 14833.32182364256, val loss: 15015.035841769779\n",
      "epoch 36\n",
      "training accuracy: 0.9683333039283752, val accuracy: 0.9613000154495239\n",
      "training loss: 14830.549569281651, val loss: 15011.550063851399\n",
      "epoch 37\n",
      "training accuracy: 0.9633333086967468, val accuracy: 0.9617000222206116\n",
      "training loss: 14820.016775027569, val loss: 15006.385103648376\n",
      "epoch 38\n",
      "training accuracy: 0.9833333492279053, val accuracy: 0.9613999724388123\n",
      "training loss: 14816.459795283032, val loss: 15005.8249608306\n",
      "epoch 39\n",
      "training accuracy: 0.9700000286102295, val accuracy: 0.9621999859809875\n",
      "training loss: 14809.960938103299, val loss: 14998.8313411346\n",
      "epoch 40\n",
      "training accuracy: 0.971666693687439, val accuracy: 0.961899995803833\n",
      "training loss: 14805.776216782737, val loss: 14998.880206853124\n",
      "epoch 41\n",
      "training accuracy: 0.9866666793823242, val accuracy: 0.9628000259399414\n",
      "training loss: 14803.080505712127, val loss: 14995.01284512296\n",
      "epoch 42\n",
      "training accuracy: 0.9833333492279053, val accuracy: 0.9625999927520752\n",
      "training loss: 14804.811265797549, val loss: 14994.794254861197\n",
      "epoch 43\n",
      "training accuracy: 0.9816666841506958, val accuracy: 0.963100016117096\n",
      "training loss: 14797.855458577786, val loss: 14988.958758620272\n",
      "epoch 44\n",
      "training accuracy: 0.9850000143051147, val accuracy: 0.9635000228881836\n",
      "training loss: 14794.687872773322, val loss: 14985.797806245324\n",
      "epoch 45\n",
      "training accuracy: 0.9833333492279053, val accuracy: 0.9639000296592712\n",
      "training loss: 14793.662316118778, val loss: 14983.362711644144\n",
      "epoch 46\n",
      "training accuracy: 0.9783333539962769, val accuracy: 0.9628000259399414\n",
      "training loss: 14787.055782177244, val loss: 14992.811407580575\n",
      "epoch 47\n",
      "training accuracy: 0.9816666841506958, val accuracy: 0.9634000062942505\n",
      "training loss: 14789.795084736339, val loss: 14987.049855135452\n",
      "epoch 48\n",
      "training accuracy: 0.9833333492279053, val accuracy: 0.9627000093460083\n",
      "training loss: 14783.552415257622, val loss: 14989.046560385583\n",
      "epoch 49\n",
      "training accuracy: 0.9750000238418579, val accuracy: 0.9635000228881836\n",
      "training loss: 14777.868335936184, val loss: 14988.065190294647\n",
      "epoch 50\n",
      "training accuracy: 0.971666693687439, val accuracy: 0.9645000100135803\n",
      "training loss: 14774.550792891041, val loss: 14975.27567235718\n",
      "\n",
      "training finished\n",
      "test accuracy: 0.9634000062942505 , test loss: 14982.902478415252\n"
     ]
    }
   ],
   "source": [
    "num_train = X_train.shape[0]\n",
    "num_batch = num_train // batch_size\n",
    "validation_size = X_val.shape[0] // num_batch\n",
    "\n",
    "with tf.Session() as sess:\n",
    "    sess.run(init)\n",
    "    train_acc_hist = []\n",
    "    train_loss_hist = []\n",
    "    val_acc_hist = []\n",
    "    val_loss_hist = []\n",
    "    \n",
    "    for e in range(epoch):\n",
    "        X_train, y_train = shuffle(X_train, y_train) # shuffle the training set\n",
    "        train_loss = 0\n",
    "        for i in range(num_batch):\n",
    "            X_batch = X_train[i * batch_size:(i+1)*batch_size]\n",
    "            y_batch = y_train[i * batch_size:(i+1)*batch_size]\n",
    "            sess.run(optimizer, feed_dict = {input_X: X_batch, input_y:y_batch})\n",
    "            train_loss += loss_total.eval({input_X: X_batch, input_y: y_batch})\n",
    "        train_loss = train_loss / 5\n",
    "        train_accuracy = accuracy.eval({input_X: X_batch, input_y: y_batch})\n",
    "        val_loss = loss_total.eval({input_X: X_val, input_y: y_val})\n",
    "        val_accuracy = accuracy.eval({input_X: X_val, input_y: y_val})\n",
    "        train_acc_hist.append(train_accuracy)\n",
    "        train_loss_hist.append(train_loss)\n",
    "        val_acc_hist.append(val_accuracy)\n",
    "        val_loss_hist.append(val_loss)\n",
    "        print('epoch {}'.format(e + 1))\n",
    "        print('training accuracy: {}, val accuracy: {}'.format(train_accuracy, val_accuracy))\n",
    "        print('training loss: {}, val loss: {}'.format(train_loss, val_loss))\n",
    "        \n",
    "    test_accuracy = accuracy.eval({input_X: X_test, input_y: y_test})\n",
    "    test_loss = loss_total.eval({input_X: X_test, input_y: y_test})\n",
    "    print('\\ntraining finished\\ntest accuracy: {} , test loss: {}'.format(test_accuracy, test_loss))"
   ]
  },
  {
   "cell_type": "code",
   "execution_count": 12,
   "metadata": {},
   "outputs": [
    {
     "data": {
      "image/png": "[encoded data removed]",
      "text/plain": [
       "<Figure size 432x288 with 1 Axes>"
      ]
     },
     "metadata": {},
     "output_type": "display_data"
    }
   ],
   "source": [
    "iterations = list(range(50))\n",
    "plt.plot(iterations, train_acc_hist, label='Train')\n",
    "plt.plot(iterations, val_acc_hist, label='Val')\n",
    "plt.legend(loc = 'lower right')\n",
    "plt.ylabel('accuracy')\n",
    "plt.xlabel('iterations')\n",
    "plt.show()"
   ]
  },
  {
   "cell_type": "code",
   "execution_count": 13,
   "metadata": {},
   "outputs": [
    {
     "data": {
      "image/png": "[encoded data removed]",
      "text/plain": [
       "<Figure size 432x288 with 1 Axes>"
      ]
     },
     "metadata": {},
     "output_type": "display_data"
    }
   ],
   "source": [
    "plt.plot(iterations, train_loss_hist, label='Train')\n",
    "plt.plot(iterations, val_loss_hist, label='Val')\n",
    "plt.legend(loc = 'lower right')\n",
    "plt.ylabel('loss')\n",
    "plt.xlabel('iterations')\n",
    "plt.show()"
   ]
  },
  {
   "cell_type": "code",
   "execution_count": null,
   "metadata": {},
   "outputs": [],
   "source": []
  }
 ],
 "metadata": {
  "kernelspec": {
   "display_name": "Python 3",
   "language": "python",
   "name": "python3"
  },
  "language_info": {
   "codemirror_mode": {
    "name": "ipython",
    "version": 3
   },
   "file_extension": ".py",
   "mimetype": "text/x-python",
   "name": "python",
   "nbconvert_exporter": "python",
   "pygments_lexer": "ipython3",
   "version": "3.6.5"
  }
 },
 "nbformat": 4,
 "nbformat_minor": 2
}
