{
 "cells": [
  {
   "cell_type": "code",
   "execution_count": 1,
   "metadata": {},
   "outputs": [
    {
     "name": "stderr",
     "output_type": "stream",
     "text": [
      "/Users/Garrett/anaconda3/lib/python3.6/site-packages/h5py/__init__.py:36: FutureWarning: Conversion of the second argument of issubdtype from `float` to `np.floating` is deprecated. In future, it will be treated as `np.float64 == np.dtype(float).type`.\n",
      "  from ._conv import register_converters as _register_converters\n",
      "Using TensorFlow backend.\n"
     ]
    },
    {
     "name": "stdout",
     "output_type": "stream",
     "text": [
      "(50000, 28, 28) (50000,)\n"
     ]
    },
    {
     "data": {
      "image/png": "[encoded data removed]",
      "text/plain": [
       "<Figure size 432x288 with 1 Axes>"
      ]
     },
     "metadata": {},
     "output_type": "display_data"
    }
   ],
   "source": [
    "from preprocessed_mnist import load_dataset\n",
    "X_train, y_train, X_val, y_val, X_test, y_test = load_dataset()\n",
    "print(X_train.shape, y_train.shape)\n",
    "import matplotlib.pyplot as plt\n",
    "%matplotlib inline\n",
    "plt.imshow(X_train[0], cmap=\"Greys\");"
   ]
  },
  {
   "cell_type": "code",
   "execution_count": 2,
   "metadata": {},
   "outputs": [],
   "source": [
    "import tensorflow as tf\n",
    "import matplotlib.pyplot as plt\n",
    "import numpy as np\n",
    "%matplotlib inline"
   ]
  },
  {
   "cell_type": "code",
   "execution_count": 3,
   "metadata": {},
   "outputs": [],
   "source": [
    "X_train = np.reshape(X_train, (X_train.shape[0], -1))\n",
    "X_val = np.reshape(X_val, (X_val.shape[0], -1))\n",
    "X_test = np.reshape(X_test, (X_test.shape[0], -1))\n",
    "\n",
    "y_train = np.eye(10)[y_train]\n",
    "y_val = np.eye(10)[y_val]\n",
    "y_test = np.eye(10)[y_test]"
   ]
  },
  {
   "cell_type": "code",
   "execution_count": 4,
   "metadata": {},
   "outputs": [],
   "source": [
    "\n",
    "w1 = tf.Variable(tf.random_normal(shape=(X_train.shape[1], 128), stddev=0.01), name=\"w1\")\n",
    "b1 = tf.Variable(np.zeros(128, dtype='float32'), name='b1')\n",
    "\n",
    "w2 = tf.Variable(tf.random_normal(shape=(128, 128), stddev=0.01), name=\"w2\")\n",
    "b2 = tf.Variable(np.zeros(128, dtype='float32'), dtype=tf.float32, name='b2')\n",
    "\n",
    "w3 = tf.Variable(tf.random_normal(shape=(128, 10), stddev=0.01), name=\"w3\")\n",
    "b3 = tf.Variable(np.zeros(10, dtype='float32'), dtype=tf.float32, name='b3')\n",
    "\n",
    "input_X = tf.placeholder(tf.float32, shape=(None, 784))\n",
    "input_Y = tf.placeholder(tf.float32, shape=(None, 10))"
   ]
  },
  {
   "cell_type": "code",
   "execution_count": 5,
   "metadata": {},
   "outputs": [],
   "source": [
    "\n",
    "z1 = tf.matmul(input_X, w1) + b1\n",
    "a1 = tf.nn.relu(z1)\n",
    "\n",
    "z2 = tf.matmul(a1, w2) + b2\n",
    "a2 = tf.nn.relu(z2)\n",
    "\n",
    "z3 = tf.matmul(a2, w3) + b3\n",
    "a3 = tf.nn.sigmoid(z3)\n"
   ]
  },
  {
   "cell_type": "code",
   "execution_count": 6,
   "metadata": {},
   "outputs": [
    {
     "name": "stdout",
     "output_type": "stream",
     "text": [
      "WARNING:tensorflow:From <ipython-input-6-235a89127620>:2: softmax_cross_entropy_with_logits (from tensorflow.python.ops.nn_ops) is deprecated and will be removed in a future version.\n",
      "Instructions for updating:\n",
      "\n",
      "Future major versions of TensorFlow will allow gradients to flow\n",
      "into the labels input on backprop by default.\n",
      "\n",
      "See @{tf.nn.softmax_cross_entropy_with_logits_v2}.\n",
      "\n"
     ]
    }
   ],
   "source": [
    "\n",
    "loss = tf.reduce_mean(tf.nn.softmax_cross_entropy_with_logits(labels=input_Y, logits=a3))\n",
    "optimizer = tf.train.MomentumOptimizer(0.3, 0.8).minimize(loss)\n",
    "init = tf.global_variables_initializer()"
   ]
  },
  {
   "cell_type": "code",
   "execution_count": 7,
   "metadata": {},
   "outputs": [
    {
     "name": "stdout",
     "output_type": "stream",
     "text": [
      "0 train : 2.112554\n",
      "0 test : 2.1079109\n",
      "10 train : 1.5165268\n",
      "10 test : 1.5183775\n",
      "20 train : 1.4896843\n",
      "20 test : 1.4976664\n",
      "30 train : 1.4811156\n",
      "30 test : 1.4926494\n",
      "40 train : 1.4765298\n",
      "40 test : 1.4897053\n",
      "50 train : 1.4741014\n",
      "50 test : 1.4889994\n",
      "60 train : 1.47292\n",
      "60 test : 1.4887441\n",
      "70 train : 1.4715364\n",
      "70 test : 1.4884766\n",
      "80 train : 1.4707849\n",
      "80 test : 1.4881787\n",
      "90 train : 1.4702969\n",
      "90 test : 1.4879998\n"
     ]
    },
    {
     "data": {
      "image/png": "[encoded data removed]",
      "text/plain": [
       "<Figure size 432x288 with 1 Axes>"
      ]
     },
     "metadata": {},
     "output_type": "display_data"
    },
    {
     "name": "stdout",
     "output_type": "stream",
     "text": [
      "Train Accuracy: 0.98948\n",
      "Test Accuracy: 0.9753\n"
     ]
    }
   ],
   "source": [
    "batch_size = 512\n",
    "train_loss = []\n",
    "test_loss = []\n",
    "with tf.Session() as sess:\n",
    "    sess.run(init)\n",
    "    for epoch in range(100):\n",
    "        for i in range(0, 50000, batch_size):\n",
    "            sess.run(optimizer, \n",
    "                     feed_dict={input_X: X_train[i: i+batch_size], \n",
    "                                input_Y: y_train[i: i+batch_size]})\n",
    "        \n",
    "        train_loss.append(sess.run(loss, feed_dict={input_X: X_train,\n",
    "                                                    input_Y: y_train}))\n",
    "        test_loss.append(sess.run(loss, feed_dict={input_X: X_test,\n",
    "                                                   input_Y: y_test}))\n",
    "        if epoch%10 == 0:\n",
    "            print(str(epoch)+ \" train : \"+ str(train_loss[-1]))\n",
    "            print(str(epoch)+ \" test : \"+ str(test_loss[-1]))\n",
    "            \n",
    "   \n",
    "    plt.plot(train_loss, label='train')\n",
    "    plt.plot(test_loss, label='test')\n",
    "    plt.show()\n",
    "    \n",
    "    prediction = tf.argmax(a3, 1)\n",
    "    correct = tf.equal(prediction, tf.argmax(input_Y, 1))\n",
    "    accuracy = tf.reduce_mean(tf.cast(correct, 'float32'))\n",
    "\n",
    "    print('Train Accuracy:', accuracy.eval({input_X: X_train, \n",
    "                                            input_Y: y_train}))\n",
    "\n",
    "    print(\"Test Accuracy:\", accuracy.eval({input_X: X_test, \n",
    "                                            input_Y: y_test}))"
   ]
  },
  {
   "cell_type": "code",
   "execution_count": null,
   "metadata": {},
   "outputs": [],
   "source": []
  }
 ],
 "metadata": {
  "kernelspec": {
   "display_name": "Python 3",
   "language": "python",
   "name": "python3"
  },
  "language_info": {
   "codemirror_mode": {
    "name": "ipython",
    "version": 3
   },
   "file_extension": ".py",
   "mimetype": "text/x-python",
   "name": "python",
   "nbconvert_exporter": "python",
   "pygments_lexer": "ipython3",
   "version": "3.6.5"
  }
 },
 "nbformat": 4,
 "nbformat_minor": 2
}
