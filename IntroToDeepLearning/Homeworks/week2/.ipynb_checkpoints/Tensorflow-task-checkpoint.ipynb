{
 "cells": [
  {
   "cell_type": "markdown",
   "metadata": {
    "slideshow": {
     "slide_type": "slide"
    }
   },
   "source": [
    "# Going deeper with Tensorflow\n",
    "\n",
    "In this video, we're going to study the tools you'll use to build deep learning models. Namely, [Tensorflow](https://www.tensorflow.org/).\n",
    "\n",
    "If you're running this notebook outside the course environment, you'll need to install tensorflow:\n",
    "* `pip install tensorflow` should install cpu-only TF on Linux & Mac OS\n",
    "* If you want GPU support from offset, see [TF install page](https://www.tensorflow.org/install/)"
   ]
  },
  {
   "cell_type": "code",
   "execution_count": 11,
   "metadata": {},
   "outputs": [],
   "source": [
    "import sys\n",
    "sys.path.append(\"..\")\n",
    "import grading"
   ]
  },
  {
   "cell_type": "markdown",
   "metadata": {},
   "source": [
    "# Visualization"
   ]
  },
  {
   "cell_type": "markdown",
   "metadata": {},
   "source": [
    "Plase note that if you are running on the Coursera platform, you won't be able to access the tensorboard instance due to the network setup there. If you run the notebook locally, you should be able to access TensorBoard on http://127.0.0.1:7007/"
   ]
  },
  {
   "cell_type": "code",
   "execution_count": 12,
   "metadata": {},
   "outputs": [
    {
     "name": "stdout",
     "output_type": "stream",
     "text": [
      "No matching processes belonging to you were found\r\n"
     ]
    }
   ],
   "source": [
    "! killall tensorboard\n",
    "import os\n",
    "os.system(\"tensorboard --logdir=/tmp/tboard --port=7007 &\");"
   ]
  },
  {
   "cell_type": "code",
   "execution_count": 13,
   "metadata": {},
   "outputs": [
    {
     "name": "stderr",
     "output_type": "stream",
     "text": [
      "/Users/Garrett/anaconda3/lib/python3.6/site-packages/tensorflow/python/client/session.py:1711: UserWarning: An interactive session is already active. This can cause out-of-memory errors in some cases. You must explicitly call `InteractiveSession.close()` to release resources held by the other session(s).\n",
      "  warnings.warn('An interactive session is already active. This can '\n"
     ]
    }
   ],
   "source": [
    "import tensorflow as tf\n",
    "s = tf.InteractiveSession()"
   ]
  },
  {
   "cell_type": "markdown",
   "metadata": {},
   "source": [
    "# Warming up\n",
    "For starters, let's implement a python function that computes the sum of squares of numbers from 0 to N-1."
   ]
  },
  {
   "cell_type": "code",
   "execution_count": 14,
   "metadata": {},
   "outputs": [],
   "source": [
    "import numpy as np\n",
    "def sum_sin(N):\n",
    "    return np.sum(np.arange(N)**2)"
   ]
  },
  {
   "cell_type": "code",
   "execution_count": 15,
   "metadata": {},
   "outputs": [
    {
     "name": "stdout",
     "output_type": "stream",
     "text": [
      "CPU times: user 839 ms, sys: 2.08 s, total: 2.92 s\n",
      "Wall time: 3.45 s\n"
     ]
    },
    {
     "data": {
      "text/plain": [
       "662921401752298880"
      ]
     },
     "execution_count": 15,
     "metadata": {},
     "output_type": "execute_result"
    }
   ],
   "source": [
    "%%time\n",
    "sum_sin(10**8)"
   ]
  },
  {
   "cell_type": "markdown",
   "metadata": {},
   "source": [
    "# Tensoflow teaser\n",
    "\n",
    "Doing the very same thing"
   ]
  },
  {
   "cell_type": "code",
   "execution_count": 16,
   "metadata": {},
   "outputs": [],
   "source": [
    "# An integer parameter\n",
    "N = tf.placeholder('int64', name=\"input_to_your_function\")\n",
    "\n",
    "# A recipe on how to produce the same result\n",
    "result = tf.reduce_sum(tf.range(N)**2)"
   ]
  },
  {
   "cell_type": "code",
   "execution_count": 17,
   "metadata": {},
   "outputs": [
    {
     "data": {
      "text/plain": [
       "<tf.Tensor 'Sum:0' shape=() dtype=int64>"
      ]
     },
     "execution_count": 17,
     "metadata": {},
     "output_type": "execute_result"
    }
   ],
   "source": [
    "result"
   ]
  },
  {
   "cell_type": "code",
   "execution_count": 18,
   "metadata": {},
   "outputs": [
    {
     "name": "stdout",
     "output_type": "stream",
     "text": [
      "CPU times: user 1.08 s, sys: 343 ms, total: 1.43 s\n",
      "Wall time: 690 ms\n"
     ]
    },
    {
     "data": {
      "text/plain": [
       "662921401752298880"
      ]
     },
     "execution_count": 18,
     "metadata": {},
     "output_type": "execute_result"
    }
   ],
   "source": [
    "%%time\n",
    "result.eval({N: 10**8})"
   ]
  },
  {
   "cell_type": "code",
   "execution_count": 19,
   "metadata": {},
   "outputs": [],
   "source": [
    "writer = tf.summary.FileWriter(\"/tmp/tboard\", graph=s.graph)"
   ]
  },
  {
   "cell_type": "markdown",
   "metadata": {},
   "source": [
    "# How does it work?\n",
    "1. Define placeholders where you'll send inputs\n",
    "2. Make symbolic graph: a recipe for mathematical transformation of those placeholders\n",
    "3. Compute outputs of your graph with particular values for each placeholder\n",
    "  * `output.eval({placeholder:value})`\n",
    "  * `s.run(output, {placeholder:value})`\n",
    "\n",
    "So far there are two main entities: \"placeholder\" and \"transformation\"\n",
    "* Both can be numbers, vectors, matrices, tensors, etc.\n",
    "* Both can be int32/64, floats, booleans (uint8) of various size.\n",
    "\n",
    "* You can define new transformations as an arbitrary operation on placeholders and other transformations\n",
    " * `tf.reduce_sum(tf.arange(N)**2)` are 3 sequential transformations of placeholder `N`\n",
    " * There's a tensorflow symbolic version for every numpy function\n",
    "   * `a+b, a/b, a**b, ...` behave just like in numpy\n",
    "   * `np.mean` -> `tf.reduce_mean`\n",
    "   * `np.arange` -> `tf.range`\n",
    "   * `np.cumsum` -> `tf.cumsum`\n",
    "   * If if you can't find the op you need, see the [docs](https://www.tensorflow.org/api_docs/python).\n",
    "   \n",
    "`tf.contrib` has many high-level features, may be worth a look."
   ]
  },
  {
   "cell_type": "code",
   "execution_count": 20,
   "metadata": {},
   "outputs": [],
   "source": [
    "with tf.name_scope(\"Placeholders_examples\"):\n",
    "    # Default placeholder that can be arbitrary float32\n",
    "    # scalar, vertor, matrix, etc.\n",
    "    arbitrary_input = tf.placeholder('float32')\n",
    "\n",
    "    # Input vector of arbitrary length\n",
    "    input_vector = tf.placeholder('float32', shape=(None,))\n",
    "\n",
    "    # Input vector that _must_ have 10 elements and integer type\n",
    "    fixed_vector = tf.placeholder('int32', shape=(10,))\n",
    "\n",
    "    # Matrix of arbitrary n_rows and 15 columns\n",
    "    # (e.g. a minibatch your data table)\n",
    "    input_matrix = tf.placeholder('float32', shape=(None, 15))\n",
    "    \n",
    "    # You can generally use None whenever you don't need a specific shape\n",
    "    input1 = tf.placeholder('float64', shape=(None, 100, None))\n",
    "    input2 = tf.placeholder('int32', shape=(None, None, 3, 224, 224))\n",
    "\n",
    "    # elementwise multiplication\n",
    "    double_the_vector = input_vector*2\n",
    "\n",
    "    # elementwise cosine\n",
    "    elementwise_cosine = tf.cos(input_vector)\n",
    "\n",
    "    # difference between squared vector and vector itself plus one\n",
    "    vector_squares = input_vector**2 - input_vector + 1"
   ]
  },
  {
   "cell_type": "code",
   "execution_count": 21,
   "metadata": {},
   "outputs": [],
   "source": [
    "my_vector =  tf.placeholder('float32', shape=(None,), name=\"VECTOR_1\")\n",
    "my_vector2 = tf.placeholder('float32', shape=(None,))\n",
    "my_transformation = my_vector * my_vector2 / (tf.sin(my_vector) + 1)"
   ]
  },
  {
   "cell_type": "code",
   "execution_count": 22,
   "metadata": {},
   "outputs": [
    {
     "name": "stdout",
     "output_type": "stream",
     "text": [
      "Tensor(\"truediv:0\", shape=(?,), dtype=float32)\n"
     ]
    }
   ],
   "source": [
    "print(my_transformation)"
   ]
  },
  {
   "cell_type": "code",
   "execution_count": 23,
   "metadata": {},
   "outputs": [
    {
     "name": "stdout",
     "output_type": "stream",
     "text": [
      "[0. 1. 2. 3. 4.]\n"
     ]
    },
    {
     "data": {
      "text/plain": [
       "array([0.       , 1.6291324, 2.0950115, 2.6289961, 0.       ],\n",
       "      dtype=float32)"
      ]
     },
     "execution_count": 23,
     "metadata": {},
     "output_type": "execute_result"
    }
   ],
   "source": [
    "dummy = np.arange(5).astype('float32')\n",
    "print(dummy)\n",
    "my_transformation.eval({my_vector:dummy, my_vector2:dummy[::-1]})"
   ]
  },
  {
   "cell_type": "code",
   "execution_count": 24,
   "metadata": {},
   "outputs": [],
   "source": [
    "writer.add_graph(my_transformation.graph)\n",
    "writer.flush()"
   ]
  },
  {
   "cell_type": "markdown",
   "metadata": {},
   "source": [
    "TensorBoard allows writing scalars, images, audio, histogram. You can read more on tensorboard usage [here](https://www.tensorflow.org/get_started/graph_viz)."
   ]
  },
  {
   "cell_type": "markdown",
   "metadata": {},
   "source": [
    "# Summary\n",
    "* Tensorflow is based on computation graphs\n",
    "* The graphs consist of placehlders and transformations"
   ]
  },
  {
   "cell_type": "markdown",
   "metadata": {},
   "source": [
    "# Mean squared error\n",
    "\n",
    "Your assignment is to implement mean squared error in tensorflow."
   ]
  },
  {
   "cell_type": "code",
   "execution_count": 25,
   "metadata": {},
   "outputs": [],
   "source": [
    "with tf.name_scope(\"MSE\"):\n",
    "    y_true = tf.placeholder(\"float32\", shape=(None,), name=\"y_true\")\n",
    "    y_predicted = tf.placeholder(\"float32\", shape=(None,), name=\"y_predicted\")\n",
    "    # Your code goes here\n",
    "    # You want to use tf.reduce_mean\n",
    "    squared = (y_predicted - y_true) ** 2\n",
    "    mse = tf.reduce_mean(squared)\n",
    "def compute_mse(vector1, vector2):\n",
    "    return mse.eval({y_true: vector1, y_predicted: vector2})"
   ]
  },
  {
   "cell_type": "code",
   "execution_count": 26,
   "metadata": {},
   "outputs": [],
   "source": [
    "writer.add_graph(mse.graph)\n",
    "writer.flush()"
   ]
  },
  {
   "cell_type": "markdown",
   "metadata": {},
   "source": [
    "Tests and result submission. Please use the credentials obtained from the Coursera assignment page."
   ]
  },
  {
   "cell_type": "code",
   "execution_count": 27,
   "metadata": {},
   "outputs": [],
   "source": [
    "import submit"
   ]
  },
  {
   "cell_type": "code",
   "execution_count": 28,
   "metadata": {},
   "outputs": [
    {
     "ename": "SyntaxError",
     "evalue": "invalid syntax (<ipython-input-28-677eb58fda78>, line 1)",
     "output_type": "error",
     "traceback": [
      "\u001b[0;36m  File \u001b[0;32m\"<ipython-input-28-677eb58fda78>\"\u001b[0;36m, line \u001b[0;32m1\u001b[0m\n\u001b[0;31m    submit.submit_mse(compute_mse, <your email>, <your token>)\u001b[0m\n\u001b[0m                                   ^\u001b[0m\n\u001b[0;31mSyntaxError\u001b[0m\u001b[0;31m:\u001b[0m invalid syntax\n"
     ]
    }
   ],
   "source": [
    "# submit.submit_mse(compute_mse, <your email>, <your token>)"
   ]
  },
  {
   "cell_type": "markdown",
   "metadata": {},
   "source": [
    "# Variables\n",
    "\n",
    "The inputs and transformations have no value outside function call. This isn't too comfortable if you want your model to have parameters (e.g. network weights) that are always present, but can change their value over time.\n",
    "\n",
    "Tensorflow solves this with `tf.Variable` objects.\n",
    "* You can assign variable a value at any time in your graph\n",
    "* Unlike placeholders, there's no need to explicitly pass values to variables when `s.run(...)`-ing\n",
    "* You can use variables the same way you use transformations \n",
    " "
   ]
  },
  {
   "cell_type": "code",
   "execution_count": 29,
   "metadata": {},
   "outputs": [],
   "source": [
    "# Creating a shared variable\n",
    "shared_vector_1 = tf.Variable(initial_value=np.ones(5),\n",
    "                              name=\"example_variable\")"
   ]
  },
  {
   "cell_type": "code",
   "execution_count": 30,
   "metadata": {},
   "outputs": [
    {
     "name": "stdout",
     "output_type": "stream",
     "text": [
      "Initial value [1. 1. 1. 1. 1.]\n"
     ]
    }
   ],
   "source": [
    "# Initialize variable(s) with initial values\n",
    "s.run(tf.global_variables_initializer())\n",
    "\n",
    "# Evaluating shared variable (outside symbolicd graph)\n",
    "print(\"Initial value\", s.run(shared_vector_1))\n",
    "\n",
    "# Within symbolic graph you use them just\n",
    "# as any other inout or transformation, not \"get value\" needed"
   ]
  },
  {
   "cell_type": "code",
   "execution_count": 31,
   "metadata": {},
   "outputs": [
    {
     "name": "stdout",
     "output_type": "stream",
     "text": [
      "New value [0. 1. 2. 3. 4.]\n"
     ]
    }
   ],
   "source": [
    "# Setting a new value\n",
    "s.run(shared_vector_1.assign(np.arange(5)))\n",
    "\n",
    "# Getting that new value\n",
    "print(\"New value\", s.run(shared_vector_1))"
   ]
  },
  {
   "cell_type": "markdown",
   "metadata": {},
   "source": [
    "# tf.gradients - why graphs matter\n",
    "* Tensorflow can compute derivatives and gradients automatically using the computation graph\n",
    "* True to its name it can manage matrix derivatives\n",
    "* Gradients are computed as a product of elementary derivatives via the chain rule:\n",
    "\n",
    "$$ {\\partial f(g(x)) \\over \\partial x} = {\\partial f(g(x)) \\over \\partial g(x)}\\cdot {\\partial g(x) \\over \\partial x} $$\n",
    "\n",
    "It can get you the derivative of any graph as long as it knows how to differentiate elementary operations"
   ]
  },
  {
   "cell_type": "code",
   "execution_count": 32,
   "metadata": {},
   "outputs": [],
   "source": [
    "my_scalar = tf.placeholder('float32')\n",
    "\n",
    "scalar_squared = my_scalar**2\n",
    "\n",
    "# A derivative of scalar_squared by my_scalar\n",
    "derivative = tf.gradients(scalar_squared, [my_scalar, ])"
   ]
  },
  {
   "cell_type": "code",
   "execution_count": 33,
   "metadata": {},
   "outputs": [
    {
     "data": {
      "text/plain": [
       "[<tf.Tensor 'gradients/pow_1_grad/Reshape:0' shape=<unknown> dtype=float32>]"
      ]
     },
     "execution_count": 33,
     "metadata": {},
     "output_type": "execute_result"
    }
   ],
   "source": [
    "derivative"
   ]
  },
  {
   "cell_type": "code",
   "execution_count": 34,
   "metadata": {},
   "outputs": [
    {
     "data": {
      "image/png": "[encoded data removed]",
      "text/plain": [
       "<Figure size 432x288 with 1 Axes>"
      ]
     },
     "metadata": {},
     "output_type": "display_data"
    }
   ],
   "source": [
    "import matplotlib.pyplot as plt\n",
    "%matplotlib inline\n",
    "\n",
    "x = np.linspace(-3, 3)\n",
    "x_squared, x_squared_der = s.run([scalar_squared, derivative[0]],\n",
    "                                 {my_scalar:x})\n",
    "\n",
    "plt.plot(x, x_squared,label=\"$x^2$\")\n",
    "plt.plot(x, x_squared_der, label=r\"$\\frac{dx^2}{dx}$\")\n",
    "plt.legend();"
   ]
  },
  {
   "cell_type": "markdown",
   "metadata": {},
   "source": [
    "# Why that rocks"
   ]
  },
  {
   "cell_type": "code",
   "execution_count": 35,
   "metadata": {},
   "outputs": [],
   "source": [
    "my_vector = tf.placeholder('float32', [None])\n",
    "# Compute the gradient of the next weird function over my_scalar and my_vector\n",
    "# Warning! Trying to understand the meaning of that function may result in permanent brain damage\n",
    "weird_psychotic_function = tf.reduce_mean(\n",
    "    (my_vector+my_scalar)**(1+tf.nn.moments(my_vector,[0])[1]) + \n",
    "    1./ tf.atan(my_scalar))/(my_scalar**2 + 1) + 0.01*tf.sin(\n",
    "    2*my_scalar**1.5)*(tf.reduce_sum(my_vector)* my_scalar**2\n",
    "                      )*tf.exp((my_scalar-4)**2)/(\n",
    "    1+tf.exp((my_scalar-4)**2))*(1.-(tf.exp(-(my_scalar-4)**2)\n",
    "                                    )/(1+tf.exp(-(my_scalar-4)**2)))**2\n",
    "\n",
    "der_by_scalar = tf.gradients(weird_psychotic_function, my_scalar)\n",
    "der_by_vector = tf.gradients(weird_psychotic_function, my_vector)"
   ]
  },
  {
   "cell_type": "code",
   "execution_count": 36,
   "metadata": {},
   "outputs": [
    {
     "data": {
      "image/png": "[encoded data removed]",
      "text/plain": [
       "<Figure size 432x288 with 1 Axes>"
      ]
     },
     "metadata": {},
     "output_type": "display_data"
    }
   ],
   "source": [
    "# Plotting the derivative\n",
    "scalar_space = np.linspace(1, 7, 100)\n",
    "\n",
    "y = [s.run(weird_psychotic_function, {my_scalar:x, my_vector:[1, 2, 3]})\n",
    "     for x in scalar_space]\n",
    "\n",
    "plt.plot(scalar_space, y, label='function')\n",
    "\n",
    "y_der_by_scalar = [s.run(der_by_scalar,\n",
    "                         {my_scalar:x, my_vector:[1, 2, 3]})\n",
    "                   for x in scalar_space]\n",
    "\n",
    "plt.plot(scalar_space, y_der_by_scalar, label='derivative')\n",
    "plt.grid()\n",
    "plt.legend();"
   ]
  },
  {
   "cell_type": "markdown",
   "metadata": {},
   "source": [
    "# Almost done - optimizers\n",
    "\n",
    "While you can perform gradient descent by hand with automatic grads from above, tensorflow also has some optimization methods implemented for you. Recall momentum & rmsprop?"
   ]
  },
  {
   "cell_type": "code",
   "execution_count": 37,
   "metadata": {},
   "outputs": [],
   "source": [
    "y_guess = tf.Variable(np.zeros(2, dtype='float32'))\n",
    "y_true = tf.range(1, 3, dtype='float32')\n",
    "loss = tf.reduce_mean((y_guess - y_true + tf.random_normal([2]))**2) \n",
    "#loss = tf.reduce_mean((y_guess - y_true)**2) \n",
    "optimizer = tf.train.MomentumOptimizer(0.01, 0.5).minimize(\n",
    "    loss, var_list=y_guess)"
   ]
  },
  {
   "cell_type": "code",
   "execution_count": 38,
   "metadata": {},
   "outputs": [
    {
     "data": {
      "image/png": "[encoded data removed]",
      "text/plain": [
       "<Figure size 432x288 with 1 Axes>"
      ]
     },
     "metadata": {},
     "output_type": "display_data"
    }
   ],
   "source": [
    "from matplotlib import animation, rc\n",
    "import matplotlib_utils\n",
    "from IPython.display import HTML, display_html\n",
    "\n",
    "fig, ax = plt.subplots()\n",
    "y_true_value = s.run(y_true)\n",
    "level_x = np.arange(0, 2, 0.02)\n",
    "level_y = np.arange(0, 3, 0.02)\n",
    "X, Y = np.meshgrid(level_x, level_y)\n",
    "Z = (X - y_true_value[0])**2 + (Y - y_true_value[1])**2\n",
    "ax.set_xlim(-0.02, 2)\n",
    "ax.set_ylim(-0.02, 3)\n",
    "s.run(tf.global_variables_initializer())\n",
    "ax.scatter(*s.run(y_true), c='red')\n",
    "contour = ax.contour(X, Y, Z, 10)\n",
    "ax.clabel(contour, inline=1, fontsize=10)\n",
    "line, = ax.plot([], [], lw=2)\n",
    "\n",
    "def init():\n",
    "    line.set_data([], [])\n",
    "    return (line,)\n",
    "\n",
    "guesses = [s.run(y_guess)]\n",
    "\n",
    "def animate(i):\n",
    "    s.run(optimizer)\n",
    "    guesses.append(s.run(y_guess))\n",
    "    line.set_data(*zip(*guesses))\n",
    "    return (line,)\n",
    "\n",
    "anim = animation.FuncAnimation(fig, animate, init_func=init,\n",
    "                               frames=400, interval=20, blit=True)"
   ]
  },
  {
   "cell_type": "code",
   "execution_count": 39,
   "metadata": {},
   "outputs": [
    {
     "data": {
      "text/html": [
       "<img src=\"data:image/jpeg;base64,/9j/4AAQSkZJRgABAQEASABIAAD/2wBDAAIBAQEBAQIBAQECAgICAgQDAgICAgUEBAMEBgUGBgYFBgYGBwkIBgcJBwYGCAsICQoKCgoKBggLDAsKDAkKCgr/2wBDAQICAgICAgUDAwUKBwYHCgoKCgoKCgoKCgoKCgoKCgoKCgoKCgoKCgoKCgoKCgoKCgoKCgoKCgoKCgoKCgoKCgr/wAARCAEgAbADASIAAhEBAxEB/8QAHwAAAQUBAQEBAQEAAAAAAAAAAAECAwQFBgcICQoL/8QAtRAAAgEDAwIEAwUFBAQAAAF9AQIDAAQRBRIhMUEGE1FhByJxFDKBkaEII0KxwRVS0fAkM2JyggkKFhcYGRolJicoKSo0NTY3ODk6Q0RFRkdISUpTVFVWV1hZWmNkZWZnaGlqc3R1dnd4eXqDhIWGh4iJipKTlJWWl5iZmqKjpKWmp6ipqrKztLW2t7i5usLDxMXGx8jJytLT1NXW19jZ2uHi4%2BTl5ufo6erx8vP09fb3%2BPn6/8QAHwEAAwEBAQEBAQEBAQAAAAAAAAECAwQFBgcICQoL/8QAtREAAgECBAQDBAcFBAQAAQJ3AAECAxEEBSExBhJBUQdhcRMiMoEIFEKRobHBCSMzUvAVYnLRChYkNOEl8RcYGRomJygpKjU2Nzg5OkNERUZHSElKU1RVVldYWVpjZGVmZ2hpanN0dXZ3eHl6goOEhYaHiImKkpOUlZaXmJmaoqOkpaanqKmqsrO0tba3uLm6wsPExcbHyMnK0tPU1dbX2Nna4uPk5ebn6Onq8vP09fb3%2BPn6/9oADAMBAAIRAxEAPwD9/KKKKACiiigAooooAKKKKACiiigAooooAKKKKACiiigAooooAKKKKACiiigAooooAKKKKACiiigAooooAKKKKACiiigAooooAKKKKACiiigAooooAKKKKACiiigAooooAKKKKACiiigAooooAKKKKACiiigAorj/AAR%2B0J8A/iZ431n4Z/Dj44eD/EHiTw5JJH4h8P6J4ltbu%2B0t0kMTrcQRSNJAVkBQh1GGG088VZsPjb8GNV%2BKV78DdL%2BLvhi58babZLeaj4Pt9ftn1S1tiEImktA/nJGRJHh2UA7155FAHT0UUUAFFFFABRRRQAUUUUAFFFFABRRRQAUUUUAFFFFABRRRQAUUUUAFFFFABRRRQAUUUUAFFFFABRRRQAUUUUAFFFFABRRRQAUUUUAFFFFABRRRQAUUUUAFFFFABRRRQAUUUUAFFFFAHyM/iK78Sf8ABRXRvjLpWnfFnWdA8OeFNe0jVrLxH8LL/T9N8KS3FxpcStpco06CXVDdy2xaQ%2BZfIiIZkktohiTl/hp4A%2BIMH7T3hD4cXHwo8UW%2Bu%2BFP2lfG3jrxN4xuPDN1HpV34c1HS9bisfL1Joxb3UhGpaTam1SRpU%2BwMzIqwIT9w0UAeIftr%2BO/2nfhZ4W0Xxt8A/H3gPTba58X%2BHPD%2BoWPi/wHe6rI76rrtjpf2iOW21WzEYiS8MnllH3mMDegORZ/4Qf/AIKF/wDR0HwZ/wDDD6t/81FH7eH/ACRDQ/8Ass3w4/8AU10SvZqAPGf%2BEH/4KF/9HQfBn/ww%2Brf/ADUVW1nQP28/DmkXXiDxD%2B1t8ELCwsrd5729vfgdqkUNvEgLNI7t4pCooAJJJAAGa7b4c/HXS/iD8QvEvwzufBeuaBqfh0xyJFrsUMf9p2byTRLeW4jlctCZYJUywVuFJUB1J8J8Y%2BGPjJ4e0nxP8PPjbo1/rGmfETxRL4atPGUvjN57hUvHkNhJDpUcKw2sELMkLmNhKQjTsCqkjrpYRznyzdnpp1afbWzsrv8Ap2xnVSjdK%2B/9feZ3iT47ft2anB4Xj%2BAH7SfwE8d3Piq8vYrJYvhPqlnCBaQ%2BdOvmnxJJ%2B%2B2lQsJUFt24lUVnHcfCjUv27vi94B0/4geHv2mvhBDBerIktrd/ATVlmtZ4pGhngkH/AAlPDxyxyRsOmUNY/hn4NfFz4x/Eq58Y%2BK/Bep/D7WNLsNLun15mtZobjxHavKj3FvFFKfOtpLSWWJywjLR3LJ95cp7n8FfhhcfCjwZJoOp%2BIxq%2BpXuq3mp6vqaWItkuLq5neaQpCGby0Bbaq7mICjLMck6YqnhaVNRg/e9b736rTa1rWflrpNKVWUrvb%2BvmeDeBx/wWR8RfFHWNF8XeKPgJ4e8H2FxPDpniCf4dapc32qbWxHMlnF4gKRRuAW/eThxkZTOcegf8IP8A8FC/%2BjoPgz/4YfVv/mor2aiuOclN3UUvS/6tm0U0tXc8Z/4Qf/goX/0dB8Gf/DD6t/8ANRR/wg//AAUL/wCjoPgz/wCGH1b/AOaivZqw/iF8T/ht8JPDsni/4qfEDRPDWlQ/63Ute1SGzgXjODJKyrn8amMZSdoq7K3PNf8AhB/%2BChf/AEdB8Gf/AAw%2Brf8AzUUf8IP/AMFC/wDo6D4M/wDhh9W/%2BaiuQn/4Kh/BjxncPpn7Lfwu%2BInxlulcx/afAPhOX%2BzEkzgB9SvDBaBf9pZH78HFNHiv/gqv8XOfD3wo%2BFXwe0%2BX5Wl8V65ceJtVjH98QWQgtVb2M7jPr1rs/s/ER/i2h/iaT%2B7WX/kpfJLrodj/AMIP/wAFC/8Ao6D4M/8Ahh9W/wDmorK8XH9tXwBpZ1vx5%2B2j8BNEsl%2B9eav8F9Stoh/wOTxUB%2BtYn/DB3xr%2BIH779or/AIKJfFfXc8PpvgZ7TwnYsvdStjGbgj63BODyTWt4R/4JZ/sB%2BE9UGv3H7NOh%2BItT6vqnjiWfX7h267i%2BoyTHOeeMY7Yo9lgYfHVcv8Mf1k1%2BQWgup4x4q/4KMP4T1I6Kf%2BCo37O2tXwyBZeD/gRrmuzE%2BgTTvEs5J7YxWb/w3d%2B3rr//ACSnwjrXi1H/AOPe8tP2O9a022l9CJdT8W2w2%2B/P0r7m8K%2BCvBvgTTRovgjwlpmjWa/dtNKsI7eIf8BjUD9K06Pa4CPw0pP1lb8Ix/ULw7HwPH8av%2BDgjxA4bwj%2BzN8I7OBz8k3jHRfsJx6lLTxNeMv0IzXffCy1/wCC7ev%2BI7T/AIW94p/ZT8N6I%2B77ZLo/hPxHqd9F8jbdsTalBE3z7QcyjAJPJAB%2BuqKieIpSjaNKK/8AAm/xl%2BgnJdjxn/hB/wDgoX/0dB8Gf/DD6t/81FH/AAg//BQv/o6D4M/%2BGH1b/wCaivZqK5STxn/hB/8AgoX/ANHQfBn/AMMPq3/zUUf8IP8A8FC/%2BjoPgz/4YfVv/mor2aigDxn/AIQf/goX/wBHQfBn/wAMPq3/AM1FH/CD/wDBQv8A6Og%2BDP8A4YfVv/mor2aigDxn/hB/%2BChf/R0HwZ/8MPq3/wA1FH/CD/8ABQvt%2B1B8Gf8Aww%2Brf/NRXs1FAHxJ4k1P/g4i8P7pdK0j9kfX0H3E0%2Bw8RW8jD3E96qg/8CNYI/aJ/wCC63hg%2Bd8Sv2XvBot1/wBZP4J8CQ6wf%2BAxyeMLaRv%2B%2BRX3zRXZHE0bWlRi/wDwJflJ/kVzLsfK/wCz98Sv%2BChPx%2B0zUr9/GnhvwRNpk8cU1j8Qf2YtX06WYspO6EjxY6TKMYLIxAJA71pfEvxF/wAFBvh74t8EeC7f9oL4M6he%2BNvEj6Xbr/wpTVYRaxRWNzeTXJ/4qZt4VLbbs%2BXLSKNwr6Wrzbx/%2BzPoHjv4y6D8dU%2BI/jDSdb8O288NhbafrKyaeVmiaKQtZ3EcsIYqeXRVf5R83XMU5Yd13Jq0bOy1lrZ27PfW/QFy3PBf2g/jh/wUO%2BCWpXmmaH8V/hH4kfQPDMniXxhJD8GdStk0nR42kDT5fxOTNKfJmKQqAWELfMOM61j8cv2qtQ%2BKkHwitv2sPhYdRubsWMV8f2bdeFgdQNoLz7B9q/4SbyhdfZj5piLbtobupA7f4xfsl%2BOviR4rvrnSPitZ2mj%2BLfD%2Bn6N4%2BS70Uve3dvaTSS7raRJUjhMyyPDIrRsoViyYbOfPfEX7On7TEMWv%2BGPDPhextbLw9rXiTxV4Z1yLWVMmtalcQyLpduIwN8BjWRo5pH4JRSgIchOynRwFSkk5JO3e2/e/Z9F01flSUGjsfA3iP9rf4nXWpWXw4/bp/Z71%2BfRrn7Pq8OjfB3ULl7KXn5Jlj8VkxscHAbGcZFdD/wAIP/wUL/6Og%2BDP/hh9W/8Amormv2OfBt2fGEHi3w/4F13w14W8N/DXR/B2lWviLRJtNur%2BS2BleQ286rIqRGQxq7ABmkmKllIY9x8S/wBtr9lT4MfFW3%2BC3xg%2BNmj%2BFfEF3Zx3NnF4jZ7K2uEcsFCXcyrbs%2BVOUEm8ZGQNwzy1cLL27p0U5WV9rvz2vt%2BF/Ilx1sjM/wCEH/4KF/8AR0HwZ/8ADD6t/wDNRR/wg/8AwUL/AOjoPgz/AOGH1b/5qK9f0vVdM1zTodX0XUoLy0uYxJb3VrMskcqHoyspIYH1FT1ybEnjP/CD/wDBQv8A6Og%2BDP8A4YfVv/morz/wGP8AgshqPxS1Xwf8S/FHwE0nw5BbyzaN4v0f4dapfR3mJVVIZbaTxBDLBKUYucB4xsYbz8ufqairjNRTTinf1081r%2BdyWm2tT5n%2BPHiL/gof8FfhxceNbD47/BfXdRe6t7HRtCPwa1e0bUb64lWG3gWQeI5dpaR1BOw4Xcx4U1f%2BIniP9sD4QaPaa98WP22vgJ4ds729js4LvVvgpqkMLXD52pvfxSAM4PJwOO1egfFb4Bar8Qfid4X%2BK2l/E3UrSXwrdm6tvDN9BHc6PdzfZ7iFZpItqypMouWKyJIANqkoxAxwv7TUPxJ8QeJvDS%2BF/hX4sbxdoN5BJ4c1jSngm0C5Nz5dvfx3gkLFIkgknyZYkcqMwsXO0ddGlQqqEL923s12WullbfXd6aGU51Iczt2t/SNm08Jf8FAL%2B1iv7D9qr4KzwTxrJDND8CtVZJEIyGUjxTggg5BFSf8ACD/8FC/%2BjoPgz/4YfVv/AJqK801T4y654d1/S/i3D8S7rQvDdv4u1Gy0/wAH2NrDHp8PhnSxPFf3U0ITfvLwO6uCNoSMJwxDeyfBX48eL/iL4qn8HfED4Wf8Irfv4bste060bWBdTGzuWkQR3CeUn2e4R4yrRgyLyMOSGCzVwVWlDn3X5f52ur20HCtGTscXqXjH9s34S/Gn4VeGvij8W/hh4l8P%2BPPGt3oOp2mgfC7UdIvLcR%2BH9X1OOaK4m1y7QHzdOjRlaE5WRsFSAa%2Bga8Z/ag/5Lf8As4/9lmvv/UK8UV7NXGbBRRRQAUUUUAFFFFABRRRQAUUUUAeM/t4f8kQ0P/ss3w4/9TXRK6fwD%2B0p8OPih8W/EXwg8BwaxqNz4UDR69rUejyrpdteK6q1iLpgEkuV3bmRN20A5IIxXMft4f8AJEND/wCyzfDj/wBTXRK9lREjBEaBQSSQBjk8k1cXTUXzK76a2t/n6aEtSbVmeXfF34PfFDxf8avB3xM%2BGPjHSPDn9h2d7aa7qN1YPeXN/ZTmJjZpDuSNRviWQTOzbHQYjYM2ertPg78Pk8T2Hj3WfD1tq/iPTLVrey8RarbRy3kKMzFgj7QI87iDsC5GAeAK6eirdeq4qN7WVtNNPN7vf/gCVOKbfcKraxrOkeHtKude1/VbaxsbOBpry9vJ1iigjUZZ3diAqgAkknAAqn43HjVvCOor8OJdLTXTasNKfWopHtFmx8plWNldkHcKyk9MjrXiR1vxV%2B09%2ByR43%2BF/xFvtJ0rxvo73fh7xRiMwWA1OAo8MoWRmZLa5ja2mUFmIjudu4suadKj7Rczel0n3V%2Btu36miVzoPiJ%2B13o9na%2BHH/Z/8OWnxMl8S2mo3tidB8RQJbyW1lDHLMsc4DpJcN50Sxw5XfuZiyqjGvG5v2mfG9/4p8afHjw58W9Uks/Dl3pWoaf4Gu1t47C/8LXHkRSuiGISpepdJfRtIXYK6xqTsdVF/wh8G/iV8Yfjjr3xC0nwbrvwzv7WHT9Tlv9W0xHt/%2BEnidre5aFFkC3lrc2UUCSspQELGVfeXCevfD/8AY%2B%2BFWj%2BDdD0j4seFfD/jTWdE1e91W21jUfDsYS3u7q8lu5Ps0UjSm3hWWX93F5j%2BWEjwxKKR6V8DhI2au9L7N66%2Bceyumn1NPcieh%2BOfDd3408Far4T0/wAV6noM%2Bp6dNbQ63ozol3YM6FRPCZEdBIhO5dysMgZB6V4x8Pf%2BCZ37IngzxFH498YeA7r4ieK05bxb8UtVl8QX5bsym7LRwkdvJjjA7CvfaK82nicRRg405NJ720v81r8r28jNSkloMt7eC0gS1tYEjijQLHHGoVVUDAAA6AU%2BiisBBRRXP/Ej4r/C34N%2BG5PGXxd%2BJOgeFdIiz5uqeI9YgsbdOM8yTMqj86ajKTsldjScnZLU6CivlW8/4LDfso%2BJbyXSP2aPDfxG%2BN99C5SWL4Q%2BALzU7VGHHzX8qw2IGeM%2Bfgd%2B1MH7RH/BVv4r/u/hN/wT88HfD21k%2BaDV/jH8Ukll2di1jo0NyVbHO1p1PY4611fUcSvjSj/iaj%2BDd/wOn6liF8aUf8TS/Bu/4H1bRXymP2dP%2BCsHxF/0v4kf8FGfB3gZJOJdL%2BFXwchk2DuFutYubo59/JHrS/8ADrIeJP3nxf8A%2BChH7THixpObm2HxROjWsnqPJ0iC1wv%2BySfrR9Xw8firL5KT/SKD2FCPxVV8lJ/okfVTukal3YKoGSScACuR8S/tBfAXwYzJ4w%2BN3hDSSn3xqXiW1gK/XfIMV4Kn/BFH/gmpdsJvF37Pl14pmzmSfxn441rWWkb1IvLyRfyAFdd4a/4JX/8ABNPwkqjRP2BvhAGT7st18PdPuJB/wOWJm/WjlwC%2B1J/9uxX5yYcuCX2pP5JfnJm1qv8AwUO/YB0Jimt/ty/B6zK/eF18TNKjI/76uBWPN/wVL/4JoQNtf/goJ8Fyf9j4m6W38p67DSv2Nf2QdCULon7Knw2swv3Ra%2BBtPjx/3zCK2If2d/2f7ddkHwM8HIPRPDNoP5R0Xy/tP/yT/IP9h7T/APJf8jzq2/4Kif8ABNS7YJD/AMFBPgrk9A/xQ0pf/QrgVvaN%2B3p%2Bwz4iYJ4f/bP%2BE98W%2B6LP4i6ZLn/vmc10l1%2Bzf%2BzversvfgJ4LmB6iXwtaMP1jrB1j9hz9inxCpTX/wBj74W3wb7wvPh/psuf%2B%2BoTR/wn/wB//wAkD/Yf7/8A5Kdn4X%2BK3wu8blV8F/EnQNXLfdGl6xBcZ%2Bnlsa36%2BdPFH/BIn/gl74vDDVv2B/hVFu6nS/BtrYn8DbIhFYB/4Iv/ALBGknz/AIa%2BD/G3ga5H%2BruvA3xZ8Q6YY/8AdSK%2B8sf98UcmAe05L1in%2BUg5cE9pyXrFP8pH1VRXyp/w7X%2BLPg7/AEr4I/8ABUf9ojQrhf8AVQ%2BJ9f07xPar6ZTU7KWRvxlpP%2BFW/wDBY74Z/wDIm/tY/Bf4oQdfI%2BIPw3vNBuSPT7Rpd1LGD/tfZ8f7NP6tRl8FaPzUo/mmvxD6vRl8NVfNSj%2Baa/E%2BrKK%2BUT%2B2h%2B338Kv%2BTh/%2BCXWv6pYw/LPrvwV8d6f4hVz/AHlsrv7FdAewVzx3OBWt4H/4K8/sF%2BJfEMPgbx58Xbj4Z%2BJZjtPhn4vaBeeF7tX6bAdRjiikbJA/du/JxSeBxVrxjzL%2B61L8m3%2BAPB4m14x5l/dal%2BTb/A%2BmKKraRrGkeINMg1vQdVtr6yuYxJbXdnOssUqHoyupIYe4NWa5Njl2Cs3xZ4N8IePtCn8LeOvCum61plyuLnTtWsY7mCUejRyAq34itKimm4u6A%2Ba9T/4Je/A3wrqVx4o/ZU8aeMPglrM8hmkk%2BHGuNDps8nUedpdwJbKRAf4REv1FV28af8FL/wBnH/kffh14Z%2BPfhuD7%2BseCGXQPEiRjlnfT7l2tLlsdFhmiJ7L2P05RXasfWnpWSqL%2B9q//AAJWl%2BLL5299Txv4E/t6/s0fH/xG/wAPNA8ZT6B40gH%2Bm/D/AMa6fJpGuW7YyR9kuQrSgd3i8xP9qvZK4T48fsxfAD9p3w4nhb48/CjSPEltCd1nLfW%2BLmyf/npb3CFZbd/9uN1b3rxZ/gh%2B3H%2ByT/p/7MnxUf4v%2BDoOW%2BGvxR1TZq9vGP4NP1vblj0Cx3iuoAx5o60eywmI/hS5JdpbfKf/AMkl6haMttD6korxz9nj9uH4M/tA%2BIbn4ZFNU8HfEHTYt%2BsfDfxrZfYNYtVHWRI2JW6h4yJoGkjIIORnFex1y1aNWhPkqKz/AK%2B9eabXmS007M828ffspfBrxh4a8X6XongrSdA1Pxnb7dX13S9JhW4mlDiRZZMrib94qsytkSYw2c1pfCP4P3nw/wBT1nxp4v8AGD%2BIvFHiJoBrGsmyFtGYYA4gt4YQzCKFPMlYKWYlpXJYk129FU8RWdNwcrp/8DrvbRabaLsZ%2BzgpXSPGP2nWL/G39nIlCv8Axee/GD7eCvFHNez14z%2B1B/yW/wDZx/7LNff%2BoV4or2asSwooooAKKKKACiiigAooooA8H8KfGb9oLQ/2z7f9nT4heIPA/iTS9Z8I6r4iWLwr4cvLG%2B8K20F7bQWK30s17cR3QuhNcKjrHakvYzFEkVZDFhfCz9qf4u67%2B2l4q%2BBvxY8TaJ4Z0W38T3Om%2BANAv/hPrdpc%2BJ7aLS7e7Nxa69PdjT7uRXa7LW8EDSCO1ckAIzjovhN%2BxLefBz4heN/iN4c/ay%2BJt3dePtcn1XW4NWtvDs4Wd2QRLHN/ZAuPKt4UW3hieV0ji4Clvnrfvv2WoPEXxy0X41%2BPfjf418RQ%2BFtaudX8I%2BDtSOmR6Tot9NZ3Fk08X2ayiupittd3UaC5uJlUTsQNyoygHGf8FC/i58KPDXg/wZ8KPEfxO8Paf4p8QfGH4ey6D4avdagi1DUkj8Z6M0jW9uziSYKqsWKKQApJxg19D14z%2B3h/yRDQ/wDss3w4/wDU10SvZqACuJ%2BPv7Q/wh/Zj%2BHs3xM%2BM/i%2BHStNSVYLWPY0tzf3L8R21tCgL3EznhY0BY8noCRj/tT/ALUngz9lrwPa65q%2BkXuveItdvl03wX4L0YB9Q8Q6i4%2BS2gXsB955W%2BSNAWbsDwn7O37IvjPU/iDB%2B1r%2B2nqtl4l%2BKLxMNB0i2JfR/Ats/W005G4acjAlvG/eSEYUqnDdlHDwVP21d2h0S3k%2By7JdZPRbK70VKKtd7Hon7NPxQ%2BMXxh8E3Xj34t/A2b4fR3uos3hrQtT1NZ9SOnbE8uW%2BjRdlrOzbyYA7lFKqxDAik0b9lr4UaZ8add%2BP2pW%2Boat4k14QJLJquoNJa2sUKqsUcNqu2BSu3IlZGm5IMhHFejUVi60lOTp%2B6paWV9u2uvT5/gK%2BugUUUViIKKK8D/ag/wCCgPw9%2BAvjS2%2BAvw18Gat8Ufi/qtsJtI%2BF/g0o12kRwBdX87nydMtMlczzkZB%2BRXIIrSlSqVp8sFd/1q%2BiXm7I0p0qlaXLBXf9b9l5s96lligiaaaRURFLO7HAUDqSewr5h8f/APBVT4KXHi%2B9%2BEv7I3gbxL8fvG1lJ5N3pPwwtkn03TZj0W%2B1eVksbQZyCDKzqRylYFp%2BwV8f/wBsCRfFP/BTr4zfbtEmYSW3wI%2BG1/PYeGbZeqx6jdKUutZkGFLB2jt9wOIipr6l%2BHvw4%2BH3wl8IWXw/%2BFvgfSPDmhadF5dho%2Bh6dHaWtuvokUSqq/gK6eXCUPifPLstI/fu/kkvM35cLQ%2BJ877LSP37v5JLzPmVfhD/AMFU/wBpv/SPjP8AtD%2BGfgF4auPveFPhFZLrOvtE3WObWdQj8iGQf3ra1Ps9dF8Nv%2BCS/wCw14F8SR/EHxj8KZviX4uXmTxl8XdXn8T6i75zvVr9pI4T6eSkYHYV9JUVMsbiLcsHyLtHT72tX85CeMr2tB8q7R0/Fav5sisrKy02zi0/TrSK3t4UCQwQRhEjUDAVVHAAHYVLRRXIcoUUUUAFFFFABRRRQAUUUUAFFFFABRRRQAVkeOPh94C%2BJ3h2bwh8SvBGkeIdJuBi40vXNNiu7eX/AHo5VZW/EVr0U03F3Q02ndHytrP/AASG/Zp8M6nP4q/ZK8W%2BOPgHrk0hle4%2BEniaSy0%2BeTqPO0qYS2EqZ6r5C5HccEU38Sf8Faf2Wxu8V%2BEvBv7S3haD/Wah4YCeFfFkcfUu1pM76feMB/DHLbsx6LyBX1rRXWsbWlpVtNf3tX/4FpL8WdKxlWWlW01/e1f36S/FnhP7Ov8AwUc/Zb/aP8Wv8KtJ8U6h4R%2BINumb74ZfETSpNE8QW/BJxaXGDcLgZ8yBpY8fxV7tXnX7R37JX7OH7W/hNPBf7RXwg0fxRaQP5lhPewFLvT5cgiW1uYys1rICB88To3vXgM3w5/4KCfsCj%2B0/gr4s1T9oz4WWozceA/GGoRp400aAcn%2Bz9TfbHqqqMkW93tmIVVWZiafssNX/AIT5ZdpPT5S0%2B6SXqP2eHr/w3yvtJ6fKX/ySXqfYdFeZfsuftf8AwH/bC8GXHi/4KeLXuJtMufsniPw9qlo9nq2g3gzutL6zlAltpVIYYYYbaSpZea9NrlnTnSm4zVmujOacJ05OMlZoKKKKgk85/aM/ZR%2BB37U/h620T4u%2BEBPd6bL5%2Bg%2BIdOuGtNV0W4GCs9ndxESwOCAflO07QGDDivFR8bf2kv2AZ00j9re/vPiP8JUcR2fxk07T/wDia%2BH484VdctIRiWIDj7dAuOMyxqW3V9YUy4t7e7t3tbqBJYpUKSRyKGV1IwQQeCCO1ddHFuEPZVVzQ7Pp5xe8X%2BD6p7lKVlZ7FXw34l8O%2BMdAsvFfhLXbPVNL1G2S40/UdPuVmguYXGVkjdCVdSCCCCQau18keMfhJ8RP%2BCcmvXvxq/ZX8N32v/CC7uXvPH3wcsF8yXQwx3TapoSH7uOXlsRhHG4x7WwB9NfDH4m%2BAfjN4A0n4p/C7xTaa34f1yyS60rVLKTdHPE3cdwQcgqQGVgVIBBFLEYdU4qpTfNB7Pqn2kuj/BrVO2xKNtVsebftQf8AJb/2cf8Ass19/wCoV4or2avGf2oP%2BS3/ALOP/ZZr7/1CvFFezVykhRRRQAUUUUAFFFFABRRRQAUUUUAeM/t4f8kQ0P8A7LN8OP8A1NdEr0L4w/FvwH8B/hdr3xj%2BJ%2BuJp2geHNNlvtUu3GSsaDO1R1Z2OFVRyzMqjkivPf28P%2BSIaH/2Wb4cf%2BprolcH%2B0PbD9q79tnwd%2ByXJ%2B/8GfDmxt/H3xKgHMV9eec0ei6dL2K%2BbFPePGwIYW0WetdOFoxrVff0ik3L0W9vN6Jeb8ioq71L37HHwW8efEXxpcft6ftR6C9t468TWRh8FeFbv5l8DeH3O6KzRTwLyZdslzLgMWYRDaqEH6UooqcRXliKnM9Fsktklsl5L8dW9WxSbkwooorAQUUV84/8FCv2gPih4Q0zwn%2Byr%2BzHqMVt8W/jHqM2l%2BGNSki8xPDenQoH1LXZU6MtrCw2KT888sK4bJFa0aUq9RQj1%2B5Ldt%2BSWppSpSrVFBf8Murfklqc7%2B0B%2B1B8bf2ivjJqv7Ef/BP7V7aw1bRGWH4sfGO5tRc2HgdXGfsVrGfkvNXZDkRE%2BXACGl5O0evfsp/sd/BD9jrwVceFPhLolzLf6tc/bPFPi3XLo3ms%2BI745L3d/dv89xKxLHnCruIRVXitL9l/9mj4W/sjfBXR/gZ8I9Mli0zS0Z7m9vJfNu9UvJDvuL66lPM1xNIWd3PUnAwAAPQK2rV48vsqOkPxk%2B7/AEWy83dm1avHl9lS0h%2BMvN/otl5u7CiiiuQ5QooooAKKKa0sSOsbyKGc4RSeWOM8evFADqKK%2BTE/4LPfsb2XxH8R/DbxdF4y0GfwxqU9nf3%2Bo%2BGHkgYwzNDJIFt2llRA6j/WRofmXIByB24PLcfmHN9WpOfKruyvZN2XXv6nDjczy/LeT61VjDmbS5na7Su%2BnbvY%2Bs6K8S%2BGn/BQv9lj4xfHRvgJ8MviFFrF%2BvhtdY/ti1eMacys8a/ZVlZwzXAEqMYwhCgspIdGRfbayxOExWDmoV4ODaTs1Z2ez19DXDYzCY2Dnh6imk2m001dbq69f%2BCFFFFc50hRRRQAUUUUAFFFFABRRRQAUUUUAFFFFAHzx%2B1h%2BwXp3xf8ZQftK/s7%2BNn%2BGXxw0W28vR/H2l24aLVYVwRp2r2wwuoWTbQNr/vIsBo2UjBt/saftoX/AMd9V1z4CfHnwMngP41eB4oz4z8EtcmSC5t2O2LVtMlbButPmI%2BVx80THy5AGALe%2BV88/t9fso%2BLfjLoGj/H39nO9t9G%2BN3wwkk1L4da3J8sd%2BCP9I0W8OR5lleIDE4JGxykikFDntpVY14qjWf%2BGX8vk/7vdfZ3XVPspVY1oqlVfpL%2BXyf93y6brqn9DUV5t%2ByJ%2B0x4R/a%2B/Z48N/H7wfp9xp6a1asup6LejFzpGoQu0N3YzggESwTxyRNkDOzI4Ir0muScJ05uElZrRnLOEqc3GSs1oFFFFSSFfI/iuw/4drfH1fib4eX7P8CPidr8cHjLS14t/BPiG5cJFqkQ6RWV1IVjnXhY5WSQEBmWvrisH4ofDTwZ8ZPhzrnwo%2BIuix6joXiLS5tP1WylHEsEqFGAP8LYOQw5BAI5ArqwtdUZuM1eEtJLy7rzW6ffTZsqLs9djzf9qD/kt37OP/ZZr7/1CvFFezV8vz/DTx98G7X9kv4U/Ez4jDxbq/h74qXthJ4iNoYXvYYvBnipYGkUsxMohEau%2BfndWbA3YH1BWFSMYTcYu6T37%2BfzE9GFFFFQIKKKKACiiigAooooA5DwL%2B0J8A/ih4y1n4dfDP44eEPEXiHw67J4g0LQvEtrd3mmMrmNluIIpGeAhwVIcDDDHWrFr8bfgzffFO5%2BBdl8XPDE3jezsBe3ng6LX7dtVgtSFIne0D%2BcsZDp85Xb8y88ivmv4a/FfTPix%2B2/q3xT8WfCT4i%2BEtJ%2BFmk614X8C6bcfBrxDD/bX2q8szqOrNdCw%2BzvBJLaQJawRSMzxrNcuDvjEPM%2BDfh/8QYv2pPD3w3m%2BFHiiLXtB/ad8SePda8Zy%2BGrpNKm8O3mhanb20iamY/s08hW9sNP%2ByrIZl%2BzMxjEcKvQB73%2B3h/yRDQ/%2ByzfDj/1NdErkP8AgndF/wAJt4h%2BOf7RV%2BPNu/GXxp1WwtLr%2B9pmjhNKtUH%2ByDbTuPeU1e/4KF6b8V5/B/gzUfDnjTw9a%2BFofjD8PRr2jXvhie41C8c%2BM9G8tre8W9jjtgrbSwe2mLAEApkEV/8AgljNHF%2By/qPh17ZIbzRfil4ysNSiQsdtwniC%2BZs7iTuIdWPPfgAYFdtHTA1murgvleT/ADSLXwP5H0fRRRXEQFFFFABXyX%2ByLZt8df8Agol%2B0P8AtTaywuLbwRfaf8KfBG8c2cNpbQ6jqxX/AK63t7EpbqRaKM8YH1pXyp/wS3ZbDUP2kvCl38t/p37UviqW7jbhtl0lneQOR6GGePB/2fauzD%2B7hq0lvaK%2BTlr%2BSR1UPdw9WS3sl8nLX8kj6rooorjOUKKKKACiiigArzf9pD9lj4ZftRaLpmm%2BP7zXdPvNCvGu9C1vw3rUtjeafOy7WkjdDtyV4%2BZWwCcYPNekUVrQr1sNVVWlJxktmjGvh6GKoulWipRe6Z8wj/gnX8QtCc2ngL/gob8b7Gwl/wCPm21XxFFqEmf%2BmcskYMQ9gDXOyf8ABF39nLxJ4o1Xx78V/i18S/GHiDWNOmtLvWNb8SRGYb7c26yhkgVmZEI2iQunyKGVlyp%2Bn/ix8UfBnwU%2BG%2BtfFf4han9j0XQbB7u/nCFmCL0VVHLMxIVV7swHevgqP/gs745%2BPvii68LfAL/hWnw6sktiI9Z%2BL%2BvyRyyliR5kawDyY2QDPlu77uMZ6H6vK6vFeYwnVwk3GMdJTSjHs7Nxp8z6OyT8z5HNqPCGWThSxkFKUtYwbnLurqMqnKuqu2vI%2BfvC3/BK3w14f/bPvP2Zf2ifiPq/hPRtUv2b4eazDpAmHieAFyIEuziK3uBGU3KyNl/lAGU3/sR4U8O2vhHwvpvhOxu7m4g0uwhtIZ72bzJpEjQIGkbA3OQuSe5JNfOvwN/YZ8HeJvE%2Bh/tKfHz9oDU/jR4ns5Y77w9rE96kei6fKpDLLY2lu3lLhhkNlhlQwVSM19MK6ONyMCMkZB7jiseKM7q5tUpQlVc%2BRWlpyx59m4ppS1SV%2Ba2t7JLRb8KZFRyenVnCkoe0lePvc0uTdKTTcdG3blvpa7b1a0VjePfiH4D%2BFnhi48a/EjxhpuhaTaLm41HVbxIIk9BucgEnsByTwAa/J/8A4Ll/tq/Dn9qHwv4L%2BEX7NXx6bUNFt7q9ufGlpp9tcRwXL4gFmGZ1QTBSLg7QSoLqeoGPnI5fnWMoSll2FlXnslHRN%2BcnaMUt229F0Pucpq8Kzzmlhs%2BzOngMPK7nVmpT5YqLelKF6k5SaUYRitZNJtK7P15or8//APggV%2B0DDrP7MOsfBD4h/Fk6lrfhHXHm0211OVlktdGljgWIKz8NGtx56gBiU3opCgpn0D/goD/wVG1T9hr41%2BF/A5%2BD48R6FrPh97%2B%2BvlvXt33mZolSCTY0bFAhZ0IJxJHyueezCZHnmIxiwVSg4Yi13ByjpZXaUk%2BWWmzT1%2B%2B3lZ5nHDGWuricFjViMHGfLCtGE4qcb2jL2cl7SF%2BsZK8WnurN/YFFflb8DP8Agpn%2B1V%2B1h%2B1bqPgLwT%2B0xpngSy1q9ePwFoeteBLa5srhQWKW88wYzQzsgXnc6O5ZQU/dq3UeL/EX/BSz44fG67%2BDfwA/a7k8Taz4buAnijWfD2h2%2BkeGvD8ucG3kuNskt9L1BjCkpjo2HCe3U4OxmHrezxNaFNqKk781kn3fLbfTST10SbPlqfGuCxNH2uFoVKicnBW5Lya7Ln5tve1ivd1bS1P0qorxr9kD4R/tYfDDStWuP2rP2loPH9/qAtxp9rZaJFawaYIxJ5hWRERpjJuTO5F2%2BX33HHstfMYmjDD13ThUU0vtRvZ%2Bl0n%2BB9Vha1TEYeNSdN02/sytdetm1%2BIUUUVgdAUUUUAFFFFABRRRQB8m/swWq/AD/gpl8df2a9PHlaB8QNC0r4reHrKP/V215cSS6brGPeS4tbWcj%2B9cMf4q%2Bsq%2BVJ2XVP8Agt7afYTu/sT9le5XUyv8JvfElubcN7kWNyQPrX1XXZjNZwk93CLfrZr8kjqxesoSe7jFv7mvySCiiiuM5QooooA8Z/ag/wCS3/s4/wDZZr7/ANQrxRXs1eM/tQf8lv8A2cf%2ByzX3/qFeKK9moAKKKKACiiigAooooAKKKKACiiigDxn9vD/kiGh/9lm%2BHH/qa6JXGfsnTD4N/tn/AB2/Zk1H91Dr%2BsW3xL8Jh%2Btza6jEltqG32jv7ViR/wBPSn%2BKuz/bw/5Ihof/AGWb4cf%2Bprolcv8At%2B%2BBPGnhI%2BFP23vg3oM%2BpeK/hDcz3Gq6LZr%2B91/w1cKq6nYKP45QiJcwg5xLbgAEvXbgmpylQk7c6sv8Sd4/jp/28XDXTufR1FYnw2%2BI3gv4veANH%2BKPw58QQaroWv6dFfaVqFs2UngkUMreoODgg8ggggEEVt1xyjKMnFqzRGwUUUUgCvjySOP9jX/grFf%2BKNavbiPwV%2B1To1jaR3VzcMbbT/GmjWzRRW4BwkP23TgNv8Uktjt5yoH2HXm37Wf7MPgL9r/4Gav8EPH1zdWSXhiutG13TZPLvdD1KBxLaahayDmOeGVVdSDzgqcqzA9OFqwpzcZ/DJWfp3%2BTSf3rqdGGqRhNxn8MlZ/5/JpP711PSaK%2Baf2Jv2ufHev%2BKb79i/8AbFgtdG%2BOXg2yEl00SeVZeNtLU7I9e0zOA8cmB50K/Nby7kZVG2vpas61GdCpyy/4DXRrun/Wt0s6tKdGfLL/AIDXRryf9dUFFFFZGYUUUUAFFFFAEOo6bp2sWE2lavYQ3VrcxNHcW1zEHjlQjBVlYEMCOCDX5uf8FH/%2BCT/7LPwo%2BEnxB/au8O%2BMPEOiXcLvf2%2BgxfZf7NW6uLhUjt4o0gVoojJKFChiFB7AV%2BlNUPE/hbwz428P3fhPxl4esdW0u/hMV9pupWqTwXEZ6q8bgqw9iK9fJs5xmTYuNWjOSjdcyT%2BJJ3a1TXzt8zxs7yTBZ3g5Uq0IuVnytpvlk00no09NHa/TY/E7xV%2Bx1P8ADnwGbH4W/t8fDjXdA8R6Fa3XiLwlb/FSz0ieW7AWT7PNA00lvOI2xsd3HzAnCYBb6k/4JuftOfsZfsL/AAevfAXxh/bFtdT8TazqP2/VLDTYr/UdN05yMBIJYbdo3kIOZXRmDMAASFDH7Psv2K/2OtOwbL9lL4bxkdGHgiwLfmYs13Hh3wJ4H8IaPH4e8JeDdK0vT4s%2BVY6dp0UEKfREUKPyr6XM%2BLsPmmCeGrxnKLab/hQbttdxjK9vRN2V30Pl8q4NxOVY5YqhKnGSTSX72aV97KUo2v6tK7stbn5RftM/teaZ8XP2uPFPxc8N/DuT48eDNE8Oxj4dWQ0q/bR/Dd80ce6W8tHgQTsZFkZtxwyumH%2BULH9B/CD/AIJ3%2BAv28fhz4E/az/alh8T%2BHPGN1oYil8PeGnt9LsYoYrm4%2BzSpEIGliLxtHNxIOWzgDivuu2tLWzj8m0to4kznbGgUZ9cCvOvDf7Yn7LniubxFBpXx28Nxv4T1ZtM8QjUdRWz%2BxXIJXa3n7NyllZQ65RijAMSpA5anEWKq4WMMtoSpumlHni3J8tuWzSjyrmerainKS3uddLhrCUcXOpmdeNVVW5ckkormupXTcuaXItIpyajF7WPxY/by%2BDPwF/Zy%2BO%2BtfDv9nP4x3GveH7nRLZ/9C1OC/UTGf99ZXM0DIo8t4VkClWIPlhgCNw8PtvDviG90O68T2ehXkum2E8UN7qEdq7QW8kocxI8gG1Gfy5NoJBbY2M4NfuH8CPiT/wAEsf2evihd/CX9n/xX4E0jxBrkMmpX1xpFw1xC0eWYo9%2Bd8MKjBK2/mqF3Dag3rnxb9s/T/wDgnzB498SfFHwR%2B2jP4b8aeLIo7bXdC8G%2BT4kstcZUVEhutLCyRzZCj5HZEySSMsSfvcs4vrqcMLUw1V%2B6rTlF3l0vKMI6Jq9ndrTVWbt%2Be5pwZh3CeLp4mkveleEJLlj1tGU5%2B807XjZPXR3Sv4v%2Bwh%2ByB%2B1T8JPh/YfHHwN%2Bxt4O%2BIOqeMNNg1DwP4u1DxhbxSeE5DnyriS3mO2QglJcRjzF24LA/IP0d/Y0/ZytP2VP2dfD/wAG/tsN7qFnC9xrupwoR9tv5nMk8pJG5hubYpbnYiA4xivM/wDgmf8AFv8Aae8e%2BAdQ8JfHv4I3Xh7SNASCDwbr1x4bj0P%2B0bIKUSM6crEW5RUUjywI9rBQBty307X55xTm%2BPxeMqYevy/FduLcr2vy68zXup7RUVzXbXMfpHCeTZdg8FSxFDmfu2SmlFq7XO7csX7zW8nJ8tknyhRRRXyZ9gFFFFABRRRQAUUUUAFQarqmmaHplzretahBaWdnA893d3MoSOGJFLM7seFUAEkngAVPXxX8fvG%2Bsf8ABT74ran%2Bw98B9YuY/g94b1IW/wC0B8RNOmKRaoyEM3hTT5l/1kknAvJUOIYiYt2%2BQrW%2BHoOtLV2itW%2By/wA3sl1fztvQoutLV2itW%2By/z6JdX87dD/wTKh1L47eJ/ip/wUa12xmgt/jJr9va/D2C6iKPH4Q0pJLbTptrDdGbqR7u8K91uIz0xX1nVXQtC0Xwvoln4a8OaVb2GnadaR2thY2kIjit4Y1CJGirwqqoAAHAAAq1SxFX29ZzSstkuyWiX3L77ir1fbVXJKy6Lslol9y/MKKKKxMQooryL9tP9pO5/Zr%2BDrap4P0ddZ8c%2BJb6PQvhz4aU5fVdauMrAhHaKPmaViQFiickjitKNKdeqqcFq/6%2B7q30SbGk27IrftQf8lv/AGcf%2ByzX3/qFeKK9mr5en%2BFHiT4H2v7Jfwv8Z/EHUvFet6X8VL0a34i1a8knmv72TwZ4qlnkDSEssfmu4ROiRhEGAor6hpVIxjNqLuk9%2B/n8wejCiiioEFFFFABRRRQAUUUUAFFeL/sc/F344fEq6%2BKXg74/XvhS71n4f/ExvD1tfeD9FubC1uLVtG0rUkLRXN1cuZFbUHjLhwriNWCJkiuS/Yo/an%2BLvxn%2BIXiPwR8e/E2iaPrtrc6xLpPw/Pwn1vw/qCaba6tJaQ38d9qN3JDq8DQ/ZWeW0hWNXuo8su9VIB1/7eH/ACRDQ/8Ass3w4/8AU10SvZq%2BeP8AgoX8XPhR4a8H%2BDPhR4j%2BJ3h7T/FPiD4w/D2XQfDV7rUEWoakkfjPRmka3t2cSTBVVixRSAFJOMGvoegD5Cv5Lz/glz8U7zXhbSv%2Bzl431lrjUBDGWX4bazcSfPNtH3NKuZGy2Plt5nJwqPz9cWV7Z6lZw6jp13FcW9xEskE8EgdJEYZVlYcEEEEEcEGo9a0XR/Emj3Xh7xDpVtf2F9bPb3tleQLLDcROpV43RgQyspIIIwQcV8nN4X%2BMf/BMe7kv/hloGs%2BP/wBnxpWku/CdmHu9b%2BHykktJYqSXvtNXJLW%2BTLAPmTeoZa9H3cwWrtV/Cfz6T9dJd1L4r%2BP1/P8A4J9dUVzvwp%2BLfw0%2BOXgLT/ih8IfG2neIfD%2Bqw%2BZY6pplwJI5B3B7qwPDIwDKQQwBBFdFXBKMoScZKzRGwUUUVIHkn7XP7G3wu/bA8I6fpvi671HQfE3hu8OoeBvH3hu4%2Bz6x4Zv8YFxazAcAgASRNmOVfldTgEeOeB/26fix%2ByR4lsfgT/wVIsLHSBc3C2fhX4%2BaNamLwt4lJOI0vuo0W%2BYfeilPkOwcxSYwtfX1Z3i3wj4U8feGb7wX468M6frOj6nbNb6lpWq2aXFtdRMMNHJHICrqe4IINdVLEJQ9lVXNHp3X%2BF/mno/J6nTTrpQ9nVXNH8V6P809H5PUu2t1a31rHe2VzHNDNGHhmicMrqRkMCOCCOQRUlfIUn7BX7Qv7IVzJ4g/4JkfG2303w%2BJDLP8C/ibNcX3hlsnLLp10pa70cnLEIhlg3MP3QArT8Jf8FV/hr4N8Q2nw1/bv%2BFviD9nvxXdSiC3fxzsm8O6jL/05a7BmzlHTiVoZOeUFU8G5rmoPnXZfEvWO/zXMinhXNXoPnXb7S9Y7/NXR9VUVX0nV9J1/TLfW9C1O3vbK6iWW1u7SdZIpkIyGR1JDKRyCDg1Yrj2OTYKKKKACiiigArjvjv8efhh%2BzZ8N7v4sfF/X303RLKWGOe4jtJJ33SSLGgCRqzN8zDoOBzUf7QnxB%2BJPwu%2BE%2Bp%2BNvhL8H7nx3rtp5f2Tw3aaglq9wGdVZt7K33FJbaFLNtwMZyPkX9iL9nTwX%2B3x4DX9pD9tXxRr3jzxbY6xqOlah4J16VrXTfC91FPhoI7OMJslMQhZt398AqWXdXs5fl1CphpY3FStRhJJqNnNt30Sv7qdvilpfRXeh4mY5liKeJjgcJC9acXJOV1BJW1bt7zV/gj71tXyrU9O8T/APBWb9mXUrH%2ByP2ck1/4peKru3VtL8N%2BFfDt5ukkcfIJpZYlWBM/eJyyAHK5GKx/2ev%2BCY/w58Q32pftC/tsfDfQvE3xM8W6rLqmqWIDNpukLIMLaJArCKcquN0jq5L5IY43t9O/Dv4afD74R%2BFLbwN8MfBunaDo9mD9n07S7RYYkyxZjhRySxJJPJJJPJrcqpZrTwlOVLLYypqW8nK82lsrxUVFdWlu93ZWJhlFXGVIVc0lGq4/DFRtCLe8rScnJ9E5aJbRu7nzH46/4I//ALBfxA%2BIlv4/1L4QGwjiszBP4f0K/ew065bjbK8cG1ldQMZjdA2SWDHmvafhn%2Bzr8A/gyA3wn%2BDPhjw7IAQbjSNEggmYHj5pFUO34k12dFcdfNczxVJU61ecorRJybX3X1%2Bdztw%2BU5VhKrq0aEIybu2oxTv620%2BVgooorgPQCiiigAooooAKKK5v4rfGP4S/AnwdcfEL40/EvQvCehWo/f6t4h1WKzt1OM7d8rKCxxwo5PYGnGMpO0VdjUZSdkrs6Sud%2BK3xc%2BGHwL8Baj8UvjJ4%2B0nwz4d0qEy6hrOtXyW9vCvYFnIBYngKMliQACSBXzPN/wAFEvjV%2B0%2BTof8AwTQ/Zkv/ABbYzHYvxe%2BJUNxoPhGAf89YBIgvdVAIIxbxKh4Pm45rY%2BGH/BNPSde8e6d8e/27/ixe/HHx/ps32jRo9csUtfDXhuXsdM0dCYY3XgfaJjLOdobeprs%2Bqxo64iXL/dWsvu2j/wBvP/t06vq0aWtd8vktZfdsv%2B3n8jjb7xp%2B09/wVQU%2BH/hEniT4Ofs9XXGpePLy3ex8VePLY9YtLgcB9LsZF63koE8isvlogLNX1d8HPg18Lv2fPhno/wAHPgv4IsPDnhnQbQW2laRpsWyKFASSe5d2YlmdiWdmZmJYknpqKyrYh1IqEVywWy/Vvq/N%2BiSRnVrupFQiuWK6fq31fn9ySCiiiucwCiivMv2mP2tPhJ%2Byx4fs7zx3eXeoa5rUxtvCvgzQLY3esa/ddoLS2X5nOcbnOETILMoq6dKpWmoQV2%2Bg0m3ZHQ/HD44fDD9nL4Yar8YPjB4ph0jQtIh33NzLlnkYnCQxIPmlldiFSNQWZiABzXiv7LPwg%2BJ3xp%2BLJ/by/an8MTaPrk1hJZfCzwBekM3g3R5cb5Zh0GpXQCmZhzGgWEHhhTfg7%2BzJ8Wvjr8TNL/as/butrRdW0iY3Pw8%2BFFjdC40vwcSPluZ3Hy32p7Tgz48uIkiIdGH0xXbOdPCU3Spu83pKS2S/li%2Bv96XXZaXcqbUVZbnjP7UH/Jb/ANnH/ss19/6hXiivZq8Z/ag/5Lf%2Bzj/2Wa%2B/9QrxRXs1eeQFFFFABRRRQAUUUUAFFFFAHi/wJ/Y81j4E%2BNPF/jW0/ay%2BJXiOTxx4rh8Qa9Y%2BIbTw6IHu0tbezIT7JpEDpG9vaW0TAPnEIZSrs7NqfD/9lqDwn8aF%2BPPjb43%2BNfHWvWWh32jeHf8AhKjpkcGiWN5cW1xdQ28en2VrvMj2VmDJcGaQLbqA43Pv9UooA8Z/bw/5Ihof/ZZvhx/6muiV7NXjP7eH/JEND/7LN8OP/U10StTwz%2B2B8Gta%2BNOo/s8%2BIr2/8LeMLS7kj03SPFdkbI65CpwLnT5GPl3cTc4CMXGDuRcVpClUqpuCvbV26Lv/AF87EynGNru1z1Kiiisyj5x%2BKH7DniHwd491D9oH9hPx/a/DjxtqM32jxD4eurVpvDHiyTub%2BzQgwzN0%2B12%2B2UZYsJM1L8L/APgoJ4ct/Gdp8EP2v/Ad18HfiDdP5VhZeILpZNG15xxu0zUwBDcZyv7lzHMCwUxkjNfRNYHxM%2BFfw2%2BM/g27%2BHnxa8CaV4j0O/Tbd6VrNilxBJ6Ha4IDDqGGCDyCDXdHFwqxUMSua20l8S%2Be0l5S%2BUkXzJ6SN%2Bivl1f2QP2mv2Xf9M/YR%2BPQvPDkPK/CP4sXM%2BoaZEg/5Z2GogteWAAGFRzPHk8qAKvaF/wUp8D%2BB9Wt/BX7a3ws8QfA7XZ5RDDeeLFW48PXkh7W2s2%2BbZhjnExhcZ5UUPAyqK%2BHl7RdlpJesXr/AOA8yDkv8Op9KUVV0TXNE8TaTb6/4b1i11Cwu4hJa3tjcLLDMh6MjqSrA%2BoOKtVwtNOzICs/xT4U8LeOfD934S8beGtP1jSr%2BExX2marZpcW9xGeqSRyAq6%2BxBFaFFNNp3QJtO6Pm7wR/wAEuv2e/gn8U9N%2BKH7Lninxr8KIbbV0vtY8GeB/E8kXhvWwHy8Nxpc4lto1YZXNusLjOQwNdZ%2B3L4t13w98INL8NaD4pvdBbxh420Xw5d69p8pim062u7tEmlSQf6pjGGQPxtMgIIOK9lrN8XeDvCHxA8N3fg3x74V03W9Iv4/LvtK1exjuba5TIO2SKQFXGQDgg9K6PrNSdaM6rcrd9/v6/O%2B3Y6PrE51Yzqvmt9//AAfnc%2BZfg34y%2BKnhr9j/AOKviD9n6XxB4vXSfEmrw/CT7dqEusXV1aIsSRrFNeSs91Gk3nhPMlORGV3YAA0PAH7WnxTh%2BHHhfQdG1LRfih478Taxf2FrbX2kT%2BDV0z7BC73v9qo7Xz2skTosZCRElp4sR7cvXf8A7QHhb9nX4ZfCXUNX8dfEO5%2BGeixG1I1nw54gl0mS3a3jMcEUCwna2EyggVGVwACjYGPjceGP2jfjva6M/wDwTa%2BEeqeG9KisvEVre/Fv4wTHGttrPkm61SOAMs8lz5kKyxT7WiXLIYNpCr62Fwbx1OVXlShf4pWjHbZybV%2B9optu91ZmGIzfKqNb2VV3qSd1FRcpWta7UU2o36%2B6r9e31N4b/wCCjHwW1nR/B%2BoX/h3xJBL4l0XR9R1j7NpZuLfwuupzvbWa6hMpAi8y5imhGAxBjLOEXBr1j4jfG34N/B%2BFJ/iv8V/DnhpZYy8P9u63BaGVQcEoJWBbnjjPNfnZo/8AwRe/a50nxHcfDu9/a98QzeGPEc%2Bmz%2BIPEml%2BIDbJBbWkX/IOGlNCwmPmrmObz1QLNJmFCMP658S/%2BCWP7QPjvxra/GDxJ%2B1r4b8d%2BKvD2niz8Jp8SfhVb3enxQmRmdLyKC4jN3gSS7CxBjdw4yVAraWX5AqvvYv3Un8MZXb6JOS5V2bdrLWzeh52NxWYSVOOEw1nNrWc48sU7azUfeTV2uWPM9N9bnT3/wC0X%2B0t%2B2/44k8L/sJ%2BJ4vBngDRb1ota%2BMGqaHHeDUplVwbfT7S4XbOitt3Skr7EAASeufskfssL%2BzF4f8AER1r4j3vi7xL4w8RTa14o8R3dkloLu6kwMpbxkpCoA6AnJJ5xtVfJtGsv%2BCz3w50uDRdE8Ffsq69p1lGI7ez0u61/wAPYQdFjj8q8jT6ZAFXrX9o7/gq1pMhtvEn/BMzwXqYSN2N34b%2BP8OJGCkhRHdabERkgAZbHPOAKyxVedSi8NhfZwpaaKUeaVndOcmk2762VorotNdMLkEoV1isRWVWrrrz2jG6s1CDaSVtLu8nrd62X1NRXyr/AMNo/wDBQuxP/E5/4I8eM2UdX0r4veFrgfgHvI2/Sl/4b3/bAhGLv/gkH8YlbuIfFnheQfmNTryvqOI6cv8A4FD/AOSPW%2Bp1/L/wKP8A8kfVNFfK3/DeP7Zlx8unf8EgPi4zdhc%2BNPC0I/M6kaT/AIbF/wCCj19/yCv%2BCPviCEH7raz8a/DUA/HyZpiPyo%2Bo1%2BvL/wCBw/8Akg%2Bp1%2Btv/Ao//JH1VRXyqfjv/wAFefE/7nw//wAE9fhZ4ZJ4WfxT8eJboD3KWWkt%2BQY0f2T/AMFs/FH7i98afsx%2BDYn%2B/Lp2ieINdmjH%2ByZZrNCfqtH1OS%2BKcF/28n%2BSYfVGvinFf9vJ/kmfVVFfKf8Awxj/AMFC/Gf7n4r/APBWnxDa2sn%2Bvs/hr8KNF0UgeiT3a3sq49d3vig/8Eff2bvFvP7Q3xc%2BNPxbH/Pv8Q/i9qktrn/r0s5La3wf7vl7fan7DCx%2BKrf/AAxk/wA%2BVB7HDR%2BKr90W/wA%2BVHqHxz/b5/Yn/Zojm/4Xv%2B1T4E8M3EH39O1HxJb/AG0nuFtlYzOfZUNeV/8AD1G3%2BKI%2By/sY/sX/ABk%2BLbTcWWup4UPhvQZT6nUNaNsCvvHHJ7A5GfXfgj%2Bw7%2Bxx%2BzZ5UnwG/Zd8B%2BFLiIfLf6N4XtobpvdrgJ5rn3Zia9To58DT%2BGDl/idl90df/Jh8%2BDh8MHL1dl90dfxPk0%2BCf%2BCvH7Q5z41%2BLfw3/Z80Gf5jp3gXTn8VeIQh4Mb318kNlC2P4o7aXHUH06H4V/8ABKj9kjwL4xt/it8TNF1v4ueObbmLxv8AGPW5PEF7Cc5Bgjn/ANGtMHp9nhjx0HQV9I0UpY2vblhaC7RVvve7%2BchPF1rcsLRX91W%2B97v5sRVVVCqAABgAdqWiiuQ5Qorzfxh%2B1r8AfCeheL9VtfiLpuuXfgezkuPEOh%2BH7%2BG5voChUGPyg4w%2B50Q7ioVnUMVzmvNfGn7VnxW8ca/4d%2BEfw30ZPh54t1HXrrTtei8Z6ZFqB06aPT5L21iUW90sTpchGCzq7geW67NzKR1U8HiKnSy7vTpf128n0KUZM%2BkqpeI/Enh3wfoV34o8W69ZaXplhA019qOo3SQQW8Y6u8jkKijuSQK5n4A/FS6%2BMfwxtPGOq6Omnakl3dWOr6fHIWWC7triSCUKTyULRllPdWWvNfEv/BP7wB8YPivefE/9qP4g%2BIPibZx6q114X8D%2BIZY4vD2hx7sxqLCBVju5FB2%2Bdc%2BaSMcA81MKVKNSUa8uW3ZXb8l0%2BbdvUElfU5jUf20/jB%2B1PeTeDP8AgnR4Bh1LS/MaDUPjX4xtJYfDllg7XNhF8s2rzLhgPL2wBgu6Ug4rvv2bv2Kfh/8AAXxBefFfxN4i1Px78TdZgEev/EnxWVkv506m3t1UeXY2oJO23hCqBjcXIBr2GysrPTbOLTtOtIre3gjWOCCCMIkaKMBVUcAADAA6VLWlTF2g6dGPJF79W/8AFL9FaPkwctLLQKKKZc3NtZW8l5eXCRQxIXlllcKqKBkkk8AAd64yTxz9qD/kt/7OP/ZZr7/1CvFFezV4V8ePFXhjxv8AFD9mjxX4M8RWOraXe/GO/ez1HTLtJ4J1/wCEL8UjckiEqwyCMg9q91ptNOzBNMKKKKQBRRRQAUUUUAFFFFABRXM/Cz40/Bz456Jd%2BJvgn8WfDPjHTbDUpNOvtQ8La9b6hBb3kYVpLeSSB3VJVDoWjJDAOpI5FJ4O%2BNvwZ%2BIni/Xfh78P/i54Y13X/C04h8TaHo%2Bv291eaRISwCXUMbs9uxKsAJApyp9DQBwH7eH/ACRDQ/8Ass3w4/8AU10Su5%2BM3wI%2BEH7Qvg%2BTwH8Z/h/p3iDTHbfHDexfPbydpYZFIeGQdpI2Vh2NcN%2B3h/yRDQ/%2ByzfDj/1NdEr2aqhOdOSlF2a6oTSkrNaHzYvwv/bU/ZU/e/Azxp/wuLwXD93wR481MW%2BvWUf9yz1UjZcgdo7tc4UDzq7D4N/tzfAj4t%2BJx8M9Tv8AUPBXjlQPP8B%2BPLE6ZqgJ/wCeSSHZdKcZDwPIpHOa9jrkvjF8Bvgz%2B0F4YPg741fDTSPEungloodUs1doGP8AHFJ9%2BF/9tCrD1rs%2Bs0a/8eOv80bJ/NfC/wDyV%2BZj7OcP4b07Pb5PdfijraK%2BcV/ZW/ac%2BAv7/wDZE/abnvtJi/1Xw/8Ai75urWKr0EdvqCEXtsoHChjOo/u44p4/b11r4TH7D%2B2b%2Bzd4r%2BHKx8SeKtMhOveHmHQObyzUyW4PXE8MeB1PBNL6lKprQkp%2BS0l/4C9fuch%2B2Uf4i5fy%2B9frY%2Bi6q63oeieJdJuNA8R6Pa6hYXcRjurK9t1lhmQ9VdGBVgfQjFY/wz%2BL3wq%2BM/h9fFfwk%2BI%2BieJdNbH%2Bm6HqcV1GpP8ACxjY7W/2TgjuK6KuSUZ05Waaa%2BT/AENU01dHzbrX/BMn4Q%2BF9XuPF/7JnxB8W/A/Wp5DNIPh5qYTSLmXsZ9JuFkspFHosaH/AGqrjxT/AMFRfgQfJ8UfDfwJ8ddFh%2BUaj4Uvz4Z10qOrvaXbSWcrY/hjniz6Dv8ATVFdax9aStWSqL%2B8rv8A8CVpfizTnfXU%2Bb9J/wCCpn7MGl6lD4c/aAt/Fvwc1ed9kdj8V/C8%2BlQue5S9w9m6%2B6znP51734N8deCPiLocfif4feMtK13TZv8AU6ho2oxXUD/SSNmU/gau6rpGla9p02j65plve2lwhS4tbuFZI5VPUMrAhh7Gvk79q39kn/gl78CdHl%2BNXxC8K2vwt1KZyljrfw21W70DUrm4xnbBHpjx%2BfJ35RgM7mx1rSlSwmMqKnTjNSeiS9%2B78lpL8zKtWw1Ck6tWXLFattqy9W7H1zXzj8cv21fGl58Xv%2BGXP2L/AAXonjnx6mnSXeuahfa2iaV4ZjWbySbsxku8ofAMClXAIPOcV87/AAr%2BA3/BS39oLRtcsfhn%2B1T8Tfh58MdRsmj0Kb4uGz1HxDeZGVkU29vBdW0TdMvcF9uCC%2Ba9D/Z/%2BEH7df7DvhVfC3gb9j74MeObdkxfax4N8Z3ejaxqLbixluTqUEwlYszEKbjaM4XaABXrQy3A5e5OtUhVqraF7RT7zbdnb%2BSMt/ilbQ8V18bm7UcJenS61H7spLtTjJXV/wCeaWnwxbsz0D4ZfsATa/45tPjf%2B2v8TH%2BKvjC0BOl6fd2aw6FohJyRa2eNrMMAebIMnarbQwBr6SVVRQiKAAMAAdK%2BbP8Ah4P438I/6P8AGv8A4J8/HTw5Mn/Hxc6J4atvEVmg7kS6XczOQPXyxxU1h/wVp/4J/wAl2mmeJ/j2vhW8c7Ws/G/h3UdEdG/un7dbxLx7Ej3rgxdPN8dJSqRcktEopOMV2ioNpL0WvVt6np4PLaGBg40Yb6t35pSfeUm22/V%2BiS0Po6ivPfBn7W/7KnxGCH4f/tMfD/XC/wB1dJ8Y2VwT7YjlJz7V39vc295AtzaXCSxuMpJG4ZWHqCOteVOnUpu04teqa/NI6mmtx9FFFQIKKKKACiiigAooooAKKqaxr2h%2BHbQ6h4g1q0sYF6z3lysSD8WIFeZeNv28f2JfhyHHjf8Aa4%2BG%2BnSJ963n8aWXnfhGJS5/AVpTo1qrtTi36Jv8kxpN7HrFFfNjf8FZf2L9YJt/hd4m8WeP7o/6u18AfDrWdVMn%2B7JDamI/990h/bh/aM8a/L8Ef%2BCaXxUvx/z9eO9Q0vwzB9cT3Mk%2BP%2B2O7/Zrp/s7Gr4ocv8Aiaj/AOlNfkVyS7H0pRXzVv8A%2BCs/xJ%2B7b/BH4WWU/d31LxRqNuPoBZW5b/voH2pD%2BwN8WfiF%2B8/aR/4KDfFnxMrcS6V4QubXwpp8i90ZNOjFwy9ubgnHUmj6pSh/ErRXpeT/AASX4hypbs%2BlBLG0jRLIpZQCyg8jPTP5V4t8K/FfxA%2BF3x78X/B/40fFi88Q2N9o0HinwprWs2lpaiC2Ehtb2yBgiijEcD/ZHBYFyLz5mY11H7Pn7KnwD/ZY0nUdH%2BBXw/TRU1i4SfV7iTULi7ub6VFKrJNPcySSysASMsx61oeJP2ePgl4z%2BKenfGvxn8NtN1jxPo1obbRdV1aI3J01CSWNskpZLd2z80kaq7AAMxAAERnh4SnHVxa0dle%2Blurtre%2Buwk4q58yf8KL8TeMPEfhT4L3HgDVryws/EmvzHx5YFDpt94V1X7Tcv/pKkgXRuRYyeXtO6SEPjaxYek%2BDP2NvFvie61fU/wBpLxnp2pXsul6JY6NqHhGOexuIZtMeWWLVTI7M0d27yKGVSYwsKr8wZwfoXp0orWpmNeStHT897v0v2Wg3NnP/AAu%2BGfhf4QeCbXwF4QF21pbSTSvPqF69zcXM80rzTTyyyEtJJJLI7sx7scADAHQUV558a/2sf2cP2dY1Hxl%2BMWiaJdS4%2Bz6VJc%2Bbf3GegitIg08pPoiHqK5YxrYipaKcpPtq/wADOU4xV5Ox6HUd1dW1jbSXt7cRwwxIXlllcKqKBksSeAAO9fO7ftRftV/HAfZf2Vv2UbvSNOl4j8b/ABjkfSLQDs8WnR7r24UjkbxAD6jrTrb9ge5%2BK1zHrf7bPx1174oyK4kXwrGP7I8NQMDlQNPtmzcbTxuuZJcjqBXR9UjS1rzUfJe9L7k7L5y%2BRj7Zy/hxv57L8dX8kWfFP/BQHwf4j165%2BHn7IngDVPjH4mtpDFdN4YlWLRNOk/6e9Wk/0ePv8sZlk4xszWfB%2Bxx8WP2ibiPXv29PivHrWnbxJD8KvBLzWXh2Eg5AupCRcamQQD%2B9KRZB/dYNfQXhjwr4Y8E6DbeFfBnhyw0jTLKMR2enaZZpBBAn91I0AVR7AVfp/W40dMNHl/vPWX37R/7dV/7weyc/4jv5bL/g/P7jwz4/eHPD3hD4pfsz%2BGPCehWemabY/GC9hstP0%2B2SGC3jHgnxRhERAFVR6AAV7nXjP7UH/Jb/ANnH/ss19/6hXiivZq4m23dm%2BwUUUUgCiiigAooooAKKKKAPlX9hb4peGofiz8dtOh%2BF/wARdCtPEHxlt77w2%2Bt/B7xDpNrdWTeHdEsVmjkurCKMRi4sblCcgIIwzYR0ZuI/YU%2BH/wAQdL%2BMPwp8Mat8KPFGh6j8J/hn4x0H4la9rPhq6srPU9Tv9Z0uaFrW6mjWLU1uXs7u%2B863eVYw48wpJMVr7hooA%2BeP%2BChem/Fefwf4M1Hw5408PWvhaH4w/D0a9o174YnuNQvHPjPRvLa3vFvY47YK20sHtpiwBAKZBG145T9uf4ZeMdS8WfD%2BXwv8TvC93dvPD4R1ADRdW06MniG2u13QXCqP%2Be6ox6b%2B9T/t4f8AJEND/wCyzfDj/wBTXRK9mrSlU9m9k0%2BjX/DNfJmNej7aKSk4tbNO3%2Bafo00eJeDf2%2BfgVqevw%2BBfiwdW%2BGPieY7U0D4jWB00zN0/cXLE21wCeAY5WJ9BnFe1wzQ3EK3FvKrxuoZHRshgehBHUVm%2BMfBHgz4h6DN4V8feEtM1vTLgYn07V7GO5gk/3kkBU/lXi0v7BOh%2BAJn1L9lH40%2BLvhXPuLrpOlXv9o6IznqW0683xqD/ANMjF7EVtbCVdm4Pz95feveX3M5r5hQ3SqLy92X3O8X8nE99oIBGCMg9RXgI%2BIf7fXwg/d/EL4JeGfijpcXXWPh7qn9makEHVnsL5jG7kc4juPoO1X/Df/BQv9mS%2B1eLwt8RPEuo/DrXJTgaL8StHm0WXPoslwBBJntskbPbqKHg67V4LmX913/Ba/gNZjhU7VG4PtNcv4v3X8pFj4lf8E/v2VviT4gbxzD8OT4W8UHJTxb4Dv5tE1JXP8Zms2j80/8AXQOPbiudHwN/b0%2BEIz8Ff2stK8d6dHxDoHxh8PgzhPQanpwjkLe8kEnvmvoHStW0rXdPi1bRNTt7y1nTdBc2syyRyL6qykgj6VYJAGSaqONxMVyzfMl0kub89V8mjo9jSfvR081p%2BWj%2B4%2Bdx%2B2N8f/ht%2B5/aN/YV8a2US8Nrvw3uofE9kwHWQxw%2BXdxr3wYCR79am%2BK3/BQ/4b%2BEvEln8M/hB8PPFPxK8bX2mR3x8K%2BFtNPm6bDIqsjX7y4%2BxZDrlXBdCRuVcjPPfHn9r/xn8ZPG1x%2Byf%2BwVfWmseLZEKeKvHkbebpfg%2B3JKs7SLlZrrhgka5wwOclWA9W/Zq/ZU%2BG/7LfwybwF8OxMdQvQ02veKbpVk1DVb1slrqaRw29tzMVVsqucYPOfVnh8FhKMa2MpWnLWNNSkrr%2Bae7hHsk%2BaW/ux1fjPF4vH15UcDU9yOkqjSdn/LD7MpfzSfuw296Wi8E%2BH/AMYv%2BCsX7Qms%2BJ/Duj%2BBfhP8NoNB1wWF7danc3OqXtmz20NysKiJmgmlSK4h3N8qEkgAEEBP2Wfhdo2sfFbV/wBpb9qTxZ4s8d634Yiv7fSPH3i3RNPsPD2mQ2c8kd1LYw29xIISHR8yyrG2I2IA5J92%2BCfwO%2BJ3wUttegk%2BLVp4qbXfEF3rFzdax4eS1unnmiVQryWzrEQGjjGRCCEG3HANeVeMf2Yfi5L4c8fa5pXws8JeH08QaPY2974K8C6kZYddmTUBcXt67S29qn2iS3aWFEZfmZm3y4YEaLMaclUo0VCnGVleCs2nbmXM7z116pWXvaMf9lQ9pCrXlOpKOtpyvFNbNRVoXW97Np/Dbp794L%2BN/wAKPiD4VuvG3hbxvZyaXY3Rt766ut1qLaX5cLIs4RoyQ6EbgNwdSMhgT1Eckc0azQyK6OoKspyCD0INfIPjm0ltfiJpnxp/aI%2BH99pngvxF4r1DUtQ8PajpYvWMltpn2HTY7uCESq0kyyTyANuVWgt1LbtoHvn7K/hnxP4D/Zz8LeHvG1i9pfWelbpdPIJaxjZ2eO1wMn91GyRY/wCmdeRicLTpU1OL3fk/VXW7T36ao9elVlOXK1/X/BPRKhv9PsNUtHsNTsYbmCQYkhniDow9CDwa8Di/4KjfsUWki2vjL4oah4Tuc4e28ZeENU0oofQtc2yJ%2BTGu38J/tnfsh%2BOwo8HftRfD7UXfpDa%2BMLJpB7FPM3A%2BxFZywWNpq8qcl8n%2BaT/MpV6MnpJfeiHxn%2BxD%2Bxn8RC7%2BOv2T/hvq0j/envvBVjJLn1DmLcD7g1wNx/wSN/4J2vM9zpX7Nllo0jnJfw1ruo6Uc%2B32O4ix%2BFfQuk63ouvWovdD1e1vYT0mtLhZFP4qSKtU4Y3HUlaNWS/7el%2BV/wBDdTlbRnzb/wAOufgZpvHgb4y/G7wwo%2B6mhfG3XUVfoJbl/wBaP%2BHct/bcaP8A8FAv2krMDoP%2BFjQXOP8AwKs5c/jX0lRVf2jjus7%2Bqi/zix88%2B582/wDDBnxmtONI/wCCmvx2QDp9tn0K4P5tpgzR/wAMTftNpxB/wVE%2BLQH/AE00Hw8x/P8As6vpKij%2B0MV3X/gMP/kA55f1b/I%2Bbf8AhiP9pSXi7/4KhfF1h38nRfD0Z/MadR/wwF8Ur0Y1v/gpf%2B0DJ6ix1XRLbP8A3zpZxX0lRR/aGL6Nf%2BAw/wDkA55f1b/I%2BbT/AME3oLr/AJDf7dn7SV6D94f8LWe1z/4CQxY/DFH/AA6p/Zd1T/kfPEvxV8VZ%2B9/wkXxn8QyhvqEvEBr6Soo/tHHdKjXpZflFBzz7nzvo/wDwSb/4Jy6Pdi/b9krwvqU4/wCW3iBJtTY/U3ckmfxr03wT%2By5%2BzN8NGRvhz%2Bzt4F0Ax/6ttF8JWdqV%2BhiiWu7rL8R%2BOfBPg%2BIz%2BLfGGlaWgGS%2Bo6hHAMfV2FRPF42vpKpKXleT/C/6Eucras1AAoCqAABwBRXkXi79v79iDwMGHiX9rT4ewyJ9%2B3g8V2s8o/7ZxOz/AKVzB/4Kc/st6x%2B7%2BGQ8c%2BOZv4YfBfw11i%2B3fSQWwjP4PRHA42auqcrejS%2B92X4mLr0E7OS%2B/wD4c%2BhKK%2Be/%2BGyP2gPFvHwj/wCCdvxMvB/z8eM9R0vw/F9cTXMkuP8Atnn2pDq//BUTx189h4N%2BDPw9tpeCNT1bUfEN5CPXbDHaQkj/AHyPaq%2Bo1Y/HKMfWUfyXMxe3g/hTfon%2Btj6Fql4g8SeHfCelya54q16y0yyhGZrzULpIYkHu7kAfia8H/wCGRf2mvHHHxq/4KFeNpYDybD4eaBp/h2MHuPNCT3GP%2B2oPoRVzQP8Agmh%2Bxtp%2BqR%2BIvGPwsl8cashy2rfEbWrvX5nb%2B8RfSyRg/wC6gFHscHD46t/8MX%2BcuVfgHPWltG3q/wDK4viX/gpV%2Bx/peqyeGfBHxIn8fa0nC6J8NdGudfndv7u6yR41P%2B86is8/tC/txfFY%2BV8D/wBjCHwpZS/6nxB8YfE0doVHqdOsPPnJ9neP8O3vPhvwt4Z8HaTHoPhDw5YaVYwjEVlptmkESfREAA/AVfp%2B3wlP%2BHSv5yd/wjyr8WHJVl8Urei/V3Z87H9kT9o34r/vv2m/22PEktpJ80nhf4W2KeG7EZ%2B9G1wrS3syY4/1yZ9OufQvgr%2ByH%2BzR%2BzxI158H/g1oukX8uftGtG3NxqE5PUyXcxeeTPP3nPU%2Btej155f/ABw1/RPilp3gjxJ8J9R0/R9Z1iTStH8Qz6jbN9qu1t5bj/j3Ri6xMkEu1ydxKHKKMGk8Ti68XBO0eytFfcrX%2BdyJLD0GpS3btd3f462/A9DrI8aeOvCvw%2B8N3fi3xZqn2exsdouHigkmfczBVRY4lZ3diyhUVSzFgADmvDviP8Wfib4W%2BIvi7xnH8QpoNO8H%2BI9JsrnwnPbQG0l0m8it0e73iMTeYs0/mb/M2qsLJt6k%2BWeGfh896LH4P/Cezh0/xzaaFPJ4t06SIRKdZ0m8S607UbvAGXubg5%2B1YJlUv8zBMC6eCTXNOWn9PXtutdVqcVbM3GTjThrqteru0rJb6p6XTsj7D8C%2BPvCfxJ8PR%2BKPBmri7s3kaNiYnjkikU4eKSNwHikU8FHAYdxXmnxO/as8RaN44v8A4S/A/wDZ48XePPE2nMiX0iWv9maPZO6LIom1G6Cxk7HVsQrKcHGM8Vs/ATw/40t/E/jbxx4o8EXfhmDxHrNvc2Wi317bzSBo7WOKW4Y28kiL5jrwN24rGhZVYlR6VWD9lRqu65l6/nbe22jR1L6xiMOrS5H1dtbarRS2vo9U7djwH4w3Hjy68efsw3PxP0zS7PX3%2BL16dUtdEu5J7WKX/hCvFPyxySIjMMY5KjnNe/V4z%2B1B/wAlv/Zx/wCyzX3/AKhXiivZqwbu7nXFcsUr3CiiikMKKKKACiiigAooooAKKKKAPGf28P8AkiGh/wDZZvhx/wCprolTeMrX9tjwR4r1DxH8P9T8G%2BO/D9xdPNb%2BGNYhk0fULOIniCG7j82KXA/iljUnu3rD%2B3h/yRDQ/wDss3w4/wDU10SvZI5YpQTFIrbWKnac4I6j61cJ8j2T9TmxWGWJilzyg1qnF2f5NNeTTR4jD%2B3T4H8Iyrp37Rvw18XfDG63BGuvEmkGfTHf0TULTzYCPd2T6dK9a8G%2BPPA/xE0dPEPgDxjpeuWEn3L3SNQjuYj/AMDjYitSaGK4iaCeJXR1KujrkMD1BB6ivJfGP7DX7M/ivWH8VaX8P/8AhFtdbJXX/A99No14rf3i9oyBz/vhqu9CW6cfxX42f4s4uTOcP8MoVV/eXs5ffHmg/nGJ65VHxH4X8M%2BMdIl0Dxd4dsdVsJxiay1K0SeGQf7SOCp/EV45/wAKQ/a7%2BHHzfCL9q6LxFZx/6nRfij4eS7JHob6zME34sr/j39J%2BEmqfF/VfDEj/ABt8IaJo%2Bsw3jxLH4e1eS8tbmEKpWZWkijePLFhsYEjaDnnAUoci5oyT%2B9P7tzahjJ15%2ByrUJwduqUov/t6La%2BTSv2PMtU/4J1/s222oS678JbPxB8M9Tmbc998NfEdxpKk%2B9ujG2YezREdulfPf7X2mftn2XiOw/YP%2BEP7U0/jrVfiHpErX8PiHwzbWt3oOiq4SS7n1C0KDY%2BGi5t3ZgXA%2BYoD6v%2B378aPjB4Q%2BI3w5%2BEP7MPjWSD4heM9VltbSwluIXsrWzjTzJ7u6geJ2cKvIIKkKkhG7aRWZ4E%2BEetfse/FbTL5vGFv4y8f/ABAtZD4w%2BIfj03kUd0ySwrDp9q8CSRWSs0hKRsDkRgc7VVfoMBVlhYRxeIkpys3ThJXbadlKTa0jFq%2B7cmkkrXZ8zmc8LWq1MJQpypxjKMak4OytP7MVFpOck7O8UoJ8zd3FGh8G/Evxo/ZD8B2fw0l/4J2TW%2Bg6cgWS/wDhP4ks9T%2B0uAAZnt7n7LcO7YyWIdj69BXX2n/BR/8AZYs7lNM%2BJfiPXfAF%2B7BTY/EHwnfaQVPvLPEIT%2BDmu1T9oXRD8RU8Bt4S1VrY6yNGl8RReS1kmp/Zhc/ZuZBKf3Zx5gj2b/kJDcVq%2BCfi38LfjC99ovhTVhqa28KSXEdxps0cVxBIWVJojMipcQsUcCSMuh2nmvKq1Y15upXptt6tqT69Xfm/M9rDuFJKjhsRGy91RlFdOi5eR6LsmtHq3cteBfi/8Jvihbi7%2BGnxP8PeIYiu4SaHrUF2MeuYnauiryfx1%2Bwp%2Bxz8SLg33iv9m3wi92W3G/sdHjs7kn1863CSZ991c7/w7%2B8DaB8vwn%2BPnxe8FRL/AKq00T4iXVzbIf8Arjf/AGhMfhWPJg5bTa9Y3/GL/Q7vaZjD4qcZf4ZNfhKP6nvVFeDD4A/tseGefBf7eC6nFH/qrTxr8N7G63D0aaze2f8AHBNH2/8A4KY%2BHPnufDnwU8VxJ1Wz1LVdHmkHsJI7lAf%2BBYo%2BrRfw1Iv5tfmv1D67OPx0Zr0Sl/6TL9D3eWKOaNoZo1dGGGVhkEehFcR4s/Zi/Zr8elj45/Z78D6yX%2B%2BdV8J2dwT%2BMkZrz/8A4aK/bM0XnxV/wT7vrmNf9ZN4W%2BJOl3n4hLj7M5%2BmKP8AhubUNO%2BTxZ%2Bxb8c9NZf9Y0PgiPUEH0NlcTEj8KuGHxcHem//AAGS/SSE8wwTXv3X%2BKEl%2BcGGrf8ABMD9gHVrk3v/AAy14ZsZj0l0SKXT2H0Nq8ePwqr/AMOyv2ZdO58Gan8RvDZHQ6D8Wteh2/QNdsB%2BAq3/AMPH/wBmew%2BTxevjnw6/ePXvhhrcG36kWjKPxNSWv/BS/wDYRuphby/tLeH7SQ/8s9T860YfUTRqRXRz52lvN/e//kjL63k1/jgvml%2BfKUB/wT6tLXjRf2zv2grID7oHxQlucf8AgVFL%2BtH/AAw/8TrH/kB/8FEPjhF6C%2Bv9Husf996cK6/Tf25/2LdXA%2Bw/tZ/Dgk9Fk8aWUbH8HlBrbsv2n/2atSAOnftDeBp89PJ8W2bZ/KWoeIzNfEn84L9aZtGpl0vhnH5TX/yZ5t/wyP8AtP2/Gnf8FJ/iKoHT7T4W8PzfzsRSf8Ms/tjLxF/wUy8YAf7fw78ON/7Z165B8bfgxdDNr8XfDEg/6Z6/bH%2BT1YX4rfC5xlfiToB%2BmsQf/FVH1vGLeK/8Aj/8gaKOFe0v/Jv/ALY8b/4ZW/bBk4uP%2BCmPjMj/AKZ/D/w6n8rOl/4Y/wD2kLrjVP8AgpH8TnB6/ZNB0GD%2BVgcV7E/xa%2BFcQzJ8TPD6j1bWYB/7PVS5%2BO/wPswTefGXwpEB1MniK2X%2Bb0LFY17RX/gEf/kAawq3l/5N/wDbHk//AAwr44vPm1v/AIKDfHmc91tdf0u1U/8AfrTgR%2BdH/DvHw1eceIP2sPj7qan70c/xbvYUb6rbeUK9Evv2rv2W9LBOpftJ%2BALcDr5/jGxTH5y1hap%2B31%2BxFpAJu/2s/h62OotvFlrMf/IbtVqvmkvhT%2BUF%2BlMylVy2HxVI/Oa/%2BTOY/wCHX37H998/ivw34t8QSH7z%2BIPiXrt1u%2BqtebD/AN81qeHP%2BCa/7A3heUTad%2ByP4FncHO/VNBjvmJ9SbgPk1Xf/AIKafsMFzHYftAWGosDjbo%2Bl3t6fwEEL5pv/AA8T%2BB2pceCPAvxR8TE/d/sL4Uay%2B76GS2QVblnTVm5perX6xMli8nT0nB%2Bln%2BSkep%2BEfgr8G/ABU%2BA/hL4Z0Qp9w6RoNvbbfp5aDFdNXgx/bU8dax%2B68EfsJ/Ge/kP3G1TRrDS4j9WurxWH4rR/wvD9u7Xf3Xh79hfS9I3/AHbjxV8VLRdnu0dlBcZ%2BgauaWGxMnebXzkv/AJJs1WYYRK0FJ%2BkJv/21I95orwb%2Bzf8Agph4l/dXfij4LeE4n6vY6ZqmsTxj2MklshP1Wk/4Ze/ak8UfuviT/wAFA/FXkN9%2B38E%2BEdL0fH%2B7I8dxKP8Avs1P1emviqxXpd/kv1H9cqy%2BChN%2BvLH85X/A96rhPiJ%2B1D%2Bzd8JBIPiZ8ePCOhyR53W2o%2BILeOYn0EZfex9gCa4D/h3P8Atc%2Bf4seJPiB4%2Bf/qc/iHqVzH/35jljhx7bMe1d38O/2U/2ZvhKY5Phr8AfB%2BizR423Vh4et0nyO5l2b2PuSaOXBx3lKXokvzb/ACDnzKe0Ix9ZOT%2B6KS/E4M/8FE/gx4j%2BT4K%2BAfiL8R26CTwZ4EvHt89s3NysMGP9rzMe9H/C2/2%2BviF%2B7%2BH/AOyn4Y8FW7cx6l8R/GguJNvqbTTUkwfYzL6HFe90Ue2oR%2BCmv%2B3m3%2BHuoPq2LqfxKz9IpR/F8zOG%2BCPhb4%2B%2BHrPULr4%2B/FnRfEt7eyxvZ22geGTp1tpqgNvjQtNLJMGJB3OQRt6c1lfE74V/F/xj8bvDfjrwr4y8Oabovh/S7hI49S0ae8uhdzyIsssYWeKNT9nQxq7b9vmyHYciuw8c/FT4Y/DGz/tD4kfEXQ9Ag27hLrOrQ2qkexkYZry%2Bf9v34FaxK1n8ItN8W/EW5RirReBPCd1eRA%2B9yypbge5kxSg68pupGO/lp28l%2BJhicTleFgqFesk007Od5uzvsuab/wDATu9Y%2BAvw38Waxpfifx3ow1vV9Il8y01S8xHIcSCVFdYAiSojqrKrqwUqD15rs8AdB1rw8/E39uT4h/J4B/Zz8N%2BCLVuU1H4h%2BJvtU5U9/senhsN7NOvvikP7LPxn8f8A7z49ftf%2BK76FuW0XwLbReHrPB6ozxb7mRe3Mwz%2BlKUG0vaTWnz/BafiZwx7k39Uw05X6tKmn6udpP/wBnofxS%2BPvwT%2BCdn9t%2BLPxT0PQAV3Rw6jqKJNL/wBc4s75D7KpNedf8NfeNviN%2B4/Zo/Zl8WeKIn/1XiHxJF/YGklT0kWS7Xz5l9o4Tn19Ow%2BF37J37OXwZvP7W%2BHnwh0e01ItufWbmA3V%2B7dy11OXmJ%2Br16HU81COyb9dPwX%2BZfsc4xH8SrGku0FzS/8AA56L5QPBPjRJ43l%2BIP7McnxItdLg11vi/enU4tEmkktEl/4QrxTkRNKquy4xywBr3uvGf2oP%2BS3/ALOP/ZZr7/1CvFFezVk3d3PUhHkgo3bt1e79dtfkFFFFIoKKKKACiiigAooooA%2BXfgN%2B2N8bfiD8YvC0njbTPCy%2BA/iZrXi3TPBVnpem3Meq6XJot3LFDJeXD3LxXS3dvbXMxWOGA27eXHmfJkFz4NftT/F3xN%2B2F4r%2BCnxe8T6J4b0y38S6hp/gPw3e/CfW7G68RWlvawzfabbXbi7%2BwXrjdOzwW8BdUhYnaFZq6Pwd%2BwZ4G8BfEuT4keF/i743gFre6vd%2BFdAkn06TT/DE%2Bq3yXupvZI9kZCbiRXX/AEh5/JjnlS38hWwN%2BX9lqDWvjno/xu8ffG/xr4lXwxq95qng7wnqp0yPS9CvLm0nsnmh%2By2UNzMy2t1dQp9pnmCrcPgbtrKAcZ/wUL%2BLnwo8NeD/AAZ8KPEfxO8Paf4p8QfGH4ey6D4avdagi1DUkj8Z6M0jW9uziSYKqsWKKQApJxg12vi/9kP4U%2BIfEt7468L3/iHwf4g1Cdpr7WvB%2BvzWUlxIeS0keWhlJPXfGc96y/28P%2BSIaH/2Wb4cf%2BproldN4i%2BK3xP8H67dxaz8A9V1HRo52FpqvhrUIbuV48/Kz2zGORTjqF3/AI1lWr06CTne3km/vsnb7jzcypZdVpRWMp80U9HyyfK7b3j70dOqa7XOc/4Qv9tD4fc%2BEvi94Y8d2a9LPxlo7afdhR/CLqyyjN7tD9fWj/hqHx94O/d/Gr9lrxnoyr9/UvDaR67ZKvdi1qfOUf70I966LRP2o/gdq96ukX/jaPRNQPDad4ltpNOmU%2BmLhUBP0JrvbS8tNQtkvLC6jnhkGY5YXDKw9QRwaVLEUK6vTmpejT/4K%2BaRwUMLCor5fjZadHKNWK9VP31/4GjgPA37WH7N/wARrr%2BzvCvxj0R73dtOm3119juwfQwXASTP/Aa0/jr8dvht%2Bzl8LtR%2BL3xS1v7JpGnIufKTzJbmVjiOGJB9%2BR2IAHTuSACRf8efCv4W/EmzNv8AEn4faHrcKof%2BQvpkU%2BweoLqSuPUYxXw34W/Zy%2BEn7Z/7Uxtv2fjrvh34P/DKcyz65omrStaax4nRv3Rso7kywbLdST5iR4JJHKyKx9fLcHDE1JVK11Sprmm126RT/mm7RW/V2tFmGPx%2BfYCMaUY06lSo7Qs5Rd%2BsnGXMuWK1k%2BdLZX1sen/stfs1%2BNPjb8ddW/4KAftE%2BEJ/CWta1aC18EeErG4e2udK0/yxGLi9eMq0l1JHwUfIRTgrnasfuvxG%2BBepfElIdB1b4rayvhxxajVNAa1tXW88h0kH78xeahdo13/MQRuAC5zXP/8ACsP2wfCHz%2BDP2l9G8RxJxHZeOPCCBsehuLGSIk%2B5jP40f8LR/bA8KfuvF/7MOkeIETmS98FeNIwSPUQX0cJ/DeTWeLx1TFV/aWUUklFLaKWyV9fm9W7t6sxwqwWCwro4jDVVzNynJx5ueT1k5OjKS17cqVrK1t8zX/2b/irqtxrul2/inSYdLOo6zrWgXKeYbuTUryNhb%2Beu1USO3Z2wVZjIFjztKndsfALwD4stfE1t4s8SeBLnwtZ6F4LsvDOi6Jd3lvNKUiIeaZmt5Hj2ZWJE%2BbOEYkLuxUX/AA2f4M0X/kpfwl%2BI/hJV/wBZcax4KuJoFP8A11sxMh%2Bua2fC37YH7LnjKQQaF8evC5mJwLa81aO1mz6eXMUfPtisHXnKPKzXD1uHFioyhiUpfyykot6trSahKybdkvnexV%2BI3x8%2BKvw58ZXmlj9k3xj4i8Pw%2BX9k8Q%2BFr/T7lrjMas/%2BiyXEcqbWLL0OduR1rD/4b9%2BCOj/L8SfDHj/wY3/U0fDzUoUH/bSOGSPHvux717Npuq6XrNqt/o%2BpW93A/wB2a2mWRD9CpIqxSU6VrOH3N/8ABPWlh8xcnOjidHqlKEZL0TjKLt239WeXeFv22/2QfGTCPQf2lPBjSMcLBda/Bbyk%2BmyZlbP4V6FoXinwx4og%2B1eGvEdhqMWM%2BZY3iTLj6oSKpeKfhh8NfHAZfGvw80PWAwww1TSYbjP18xTXnuu/sCfsYeIJ/tV1%2Bzb4VtZc5Euk6cLFgfUG2KEfhT/2d919z/yJvnkOlKfzqQf5TR69RXiQ/YC%2BBumc%2BB/EvxC8MHt/wj/xL1eID6B7hwPpjFH/AAx14p075/C/7aPxjs2H3VvNfs75B9Rc2jsf%2B%2BqOSi9p/en%2BjYfWs2j8WFT/AMNWP/t0Ys9tqK7srO/iNvfWkU0Z6pLGGH5GvF/%2BGfv2s7D5dG/b11Z0H3V1j4faTcY%2BpjSIn86P%2BFY/t5aZzYftW%2BCtTx0Gp/DB4s/Uw3/9KPZQ6TX4/wCQf2jil8WEqfL2b/Koj0nUvg58ItZJOr/Cvw3dE9ftOh275/76Q1iXv7KP7LepEnUf2bPAFwT187wdYvn84q5H%2By/%2BCjNp8sXjT4L3wHRpvDurQMf%2B%2Bbtx%2BlHn/wDBRyH/AJhfwSuP%2B3/WIc/%2BQnrRe1jtVX/gTMZY2hL48JU/8FRf/tzNyf8AYg/YwuTum/ZI%2BGZJ6keBdPB/SGq7fsGfsSucn9kn4c/h4Osx/KOsv%2B2/%2BCi8P%2Bs%2BHHwam/65eLtVX/0Kxo/4Sn/goYvB%2BDfwnb3XxxqA/nYVfPil/wAvv/J3/mZvEZc98HP/AMEGrH%2Bwf%2BxNGcr%2ByT8OD/veDLI/zjq3bfsU/sb2Z3Wv7Jnw0jI/iXwJp4P5%2BTXP/wDCT/8ABQ5%2BF%2BD/AMJU938b6if5WFH9rf8ABRmb7ngP4LQf9dPFOrOf0sh/OhzxT3rf%2BTv/ADBYjL1tg5/%2BCEdpY/sw/s1aWQdN/Z58DW%2BOnkeErNMflFW7pnwx%2BG2iEHRvh7odoR0NrpMMeP8AvlRXl27/AIKOzf8ALH4JW3/bXWJ8f%2BOpR/YP/BRO/wDlufiZ8HtPB/is/COpzsP%2B/l6oP5VDVSXxVF/4E2axxtGPwYSp/wCC4r/29HtiRpEgjjQKoGAqjAFLXiX/AAqP9ubUPmv/ANsfw1YZ6ppfwrRsfRpr1v5Uf8M4ftM6n8niX9vbxUYz1TRvB%2BjWf5MbeRh%2BZrP2UOs1%2BP8Aka/2hi38OEqfN01%2Bc2e20V4kf2Lbi958Sftd/GrUC33lXxslkp%2Bgs4IiB%2BNU4v2Fv2RtX1G50zxRLrfie/s0D30Wv/EbVLySJTnBkja62gHB5ZecUclBbz%2B5f5sl4vNXZLDxjf8Amqx/9tgz13xN8Tfhv4KVm8ZfEHQ9JC/eOp6tDBj672Feea9%2B33%2Bxp4eufsVx%2B0X4avZ84EGiXh1FyfQLaiQk%2BwqD4XfssfsGX1gdZ%2BFnwU%2BHGrQQTmI39ppdpf7JF6r5rByGGfXPNer6D4V8L%2BFbb7H4X8N2Gmw4x5VhZpCv5IAKP9nXd/cv8xQnnOIgpQlRUXs1zz/G8Ys8g/4bq8E6zz8N/gf8V/FqN/q7jR/h7dQQt/21vRAg/E0f8Ly/bD8UfL4I/YrGlxSf6q98bePbO22j1aG0W5f8Mg17dWb4i8Y%2BEPCFv9r8WeKtN0uLGfN1G%2BjgXH1cgUe0pLaH3tv/ACHPC47l5q%2BLcV/djTgvvlzv8TyL/hEP%2BCgfjEbNe%2BM3w48FRHnHhjwrc6rOPbzLyaNPx8r8DR/wxlqnij958Yv2q/ij4nL/APHxZW2vpo1nKPTydOjhOPYua29b/bd/ZS0S7/s8fG3SNSue1t4fMmpyMfQLaLITVL/hrW/1/wDd/DP9mf4ma8z/AOouZ/D66XbP7%2BbfSRHHuFNHt6i%2BGy9Ev%2BCzypVeGnLlqYh1n29pOr/5LTuvwNDwP%2BxR%2Byh8O7z%2B1PDXwG8PNfbt39papZ/b7rd6%2BfdGSTPvur0%2BGGG3iWC3iVERQqIi4CgdAAOleQf8Jd%2B3B4t/5APwc8DeEIv%2BenibxPNqU2PXyrOJEz7eb%2BNJ/wAKI/aM8W/8lJ/a71S1gfmSw8DeHbXTAvsJ5hPLj3BFZynObvJt%2Bp2YfF0aEOTAYKdvKEaUfvm4v/yVs9c1DUtO0izk1HVb%2BG1t4lzLPcShEQepYkAV5j4h/bU/Zs0TUW0LS/iPF4i1McLpXhC0m1adm/u4tFkCn/eIqlYfsXfs0LrMUnjjRrrxjq4UyLN441%2B41WVwOC3lTyNHj6IBXdfDnWPhQVufCnwwi0u1j05sTWOmWQt40G4ruVQqqy7lZdy5GQRmsnUgpKLauzR1s6rSUW6VG%2B126kvuXs4X%2B84P/hen7RfjobPhN%2Bytf2EEnEerfETWItMRD6m2h86cj2Kof5UH4LftNfED5/ix%2B002i2sn%2Bs0f4b6Ollj2%2B2XJlmP1UJ/h6rr/AIm8N%2BFbI6l4o8QWOm2w63F/dpCg/wCBOQK4S5/as%2BFF3O9j4D/tjxfdI2Gg8J6NNeKPrKAIQPcvWVXFYag7VJpPtfX7tX%2BBhXwuEpu2YYuU2/s8ygn6QpWk/vkch8cPC1n4K%2BI/7MvhTT9Qv7uGx%2BMF7Glzql89zcSf8UV4oO6SWQlnY56k17xXhfx71a9134ofs0axqOgXWlz3Hxhvnk0%2B9ZDLAf8AhCvFHytsZlz9Ca90reMlKKa6nv0lTjSiqatGytvtbTfXbvr3CiiimaBRRRQAUUUUAFFFFABRRRQB4z%2B3h/yRDQ/%2ByzfDj/1NdEr1Ky8b%2BDtR1WbQrHxTp8t9bymKezS7TzUcHBBTOf0ry39vD/kiGh/9lm%2BHH/qa6JXpviX4d%2BBPGAP/AAlHhDTr5iP9bcWilx9HxuH4GuLG/wBoqCeD5G76qfMk15OF2nfq015Ey5uhd1vw9oHiaybTPEeh2eoWzfet762SVD9VYEV8pftQa18KfhH8SbH4Jfsy/A7xBrXxU1rTn1CDR/AniN9Hg0%2B1DBBc3kgfyoYyxwAUOcYJXK5wfFPi/wCKfx/%2BLurfBz9hTxvqngrwj4TvpLLx78UL%2B/kurGG5UYey0%2BCZyssq5G6TcAvYqNjP6l%2Bzv%2Bxrrn7Ktxq/iL4deKbDxdrniNkk8Q%2BJvGT3L6nqJXJUNcCSQBRk4AQA8ZyRmtZ/V8upKpnWD569rqjTcaskn8M6jTpThB62iv3j68qPmMXfO5ctCiuROzrNRe26pXScnfTmuox1tzNHmF1%2Bwt%2B398dPh2vhv9pT9tiGHTrlg994H0LRz5FxHnP2a41CNoriVCPlZcEHnB6Gvbvh3pfxq%2BAPgvT/AIceFv2dPCtzoOlQeVY23gzxAbURJkk/urtBuYkliTKSzEkkkk12P/CxviLpH/I0/BXUWQcGfQtQhvAfcIxjf9KWP4/fDWFxBr9/e6LMTgxa3pc9tj/gTpt/WvOxvF2W4uMadXEvDRjtCUXRiv8At2pTUW%2BnM6kpNdTpw%2BSYLCT9pRq1Izsk5Sk5NpdH7RSVvJcq8jI/4ad0LSePH3wv8b%2BHAvElxfeGpLiBT/11tfNXHvxWr4c/aR%2BAnitxDovxc0FpicC3uNQSCXPp5cpVv0rpNF8ZeEfEgB8PeKdOvs9Psd6kn/oJNM8R%2BBPBHjCMxeLfB2laopGCuo6fHOMf8DU1vRniK1NToVoVI97K3/gUJNHcqeaQXuVYTX96LX4wl%2Bho2t3a3sC3VlcxzROMrJE4ZT9COtZXin4dfD7xxGYfGvgTRtYQjBXVNLiuAR6YkU1yN1%2ByV8AXna80nwKdHnY5E%2BgalcWDKfUCCRR%2BYqP/AIZ513Sv3ng/9ojx7YMv3I73U4dQiH/AbmJ2P/fVa%2B1x0fipJ/4ZL8pJfmTUnjpQ5a2HjNeU4tfdOKKOpfsMfsoX921/afBqw0q4b/lv4euZ9NYfQ2skeKg/4Y%2BsdM/5Ev8AaI%2BK2hqv%2Bqgg8ZvdxJ7BLxJhj2rV/wCEI/ah0b59I%2BOug6vjpFrvg/y8/V7adP0UUf21%2B1tpHz3vgPwLrSjtp2vXVm7fhLA4H/fRo%2BuNfHSmvlf/ANJk/wAjy3gMmTvLASg%2B8YW/GjUj%2BRlf8KS/aj0n5fDf7Zt1PGv3IvEXgWwuuPQvB5DH65o/sz9vPSP3dt4s%2BFOtovR7zR9RsJG%2BpjmmUfgtav8AwuD416d83iD9lvWNg%2B8%2Bj%2BIrC7/JWkjY/lS/8NK29t/yGvgd8R7ED7zP4UadV/G3eQUf2hhV8Ta9YyX/ALaL2WUw%2BGvWp/8Ab9Zf%2BlwmjJ/4T79tjRfl1T9nTwZrOOr6L8QJIM/QXFmP1Io/4X5%2B0Vp/za/%2BxP4iCDq%2Bk%2BLNKuvyBmjY/kK1v%2BGt/gbB8ur65qumv3TU/DF/Bj6loMfrVmx/au/Zu1A7YfjT4fQ%2BlzfrDj6%2BZjFNZhgG7e1j/wCBJfm0NTw17U8za8pSov8A9KhFmB/w1lq9r8usfsm/Fy2I%2B8YvDdtcr%2BBguXJ/Kl/4bO8E2/8AyGvhB8U9OHc3nw21HA/FI2B/Cu3sfjd8GNTwdO%2BLvhi4z08nX7dv5PWtaeM/B9/g2PivTZs9PKvo2z%2BRreNehP4Zp%2BjT/JnVCGPn/Dx8Zf8AcOk//SaiPMv%2BG6f2dYeNT1bxLYt3W88A6wmPx%2BykUf8ADen7KC/6/wCKbQ/9fOgX8X/ocAr12KeGdd8EyuPVGBp1am3sM96Yim/%2B4T/SqeP/APDfX7Hw%2B/8AHXSk/wCusM6/zjFKP2%2Bf2OD/AM3BaB%2BMrj/2WvX6Qqp6gH60B7HP/wDn9S/8Fz/%2BWnkJ/b6/Y4HT9oHQT7LJIf5LR/w3x%2ByEf9X8btOk/wCuVpcP/wCgxmvXwAOgooD2Of8A/P6l/wCC5/8Ay08g/wCG8/2Vm/1HxIup/wDr28MalL/6Bbmj/huT4DT/APIIXxfqB7Cy%2BHurtn/vq2Fev1FcX1laDN1eRRD1kkC/zobS3B0M9triaa9KT/Wqc38LPi1o3xb0661TRPDHiPTYrWYRkeI/D1xp7S5Gd0azqpdfccZ4riPjlZXvhf4leGviJpGpSQwjW7SHWPL8TXRnkSRvJWCKwJNuyNuBdhtf5SQCea9JvPiB4D0/P2/xtpEGOvnalEuPzauT1f4h/sqQeJY/Gmt%2BNfAH9tQIEh1SfULI3aKM4VZCd4AyeAe59axliMPD4pperS/UzxsY1cFGlVrw500%2BZtQ2d7pKT9LXs9btXPM/jveaGfH2t69fXNpL4gktNIl%2BGN0joZp2S4/0m3s27uzHDqhyUk%2Bb5RxQ1DwZe694ou/h/o3h6dPFL3XiSLX7z7A0aXFldxM8cjzEBXSRvKRBklTkAAKceqt%2B1d%2BzJpSrZWvxY0VhGu2OHTy02B6ARKf0pP8AhrD4R3Xy6BF4l1duy6Z4O1CTP0JhAP51i8xwH/P2Pyaf5XPFrYPKa1eU54uHvO7Ss3rq9U5Pm%2BypWuoe60yj8AYNY1Hxjqfih/CWp6Lav4e0uzvYNT02W1M1/FGVk2rIq%2BYI1Cx%2BauUYY2MwGa3/AIp/Cjxt8RdWtptE%2BPnibwpp8Vt5dxYeHbezDTvuJ8zzpoJHU4IGBxxnGc1nf8NF6hefLoX7PPxGu2P3TNoUdqp%2BpuJkI/Kk/wCFo/tCah/yB/2YZIFb7sms%2BMLSHHuVhEp/Cl9fwz%2BFt%2BkZP/21Hp0pZasF9WlKdRXu3GNRXd7/AGFGy8lKz1vuZX/DFvgHVPl8efFL4k%2BJ0P3odZ8fXqxH/gFs0Sj8AK0fD37Fv7KXhif7Xp/wE8Nzz5z9o1SwF7Jn133G9s%2B%2Bc1J9o/a91T5otN%2BHmjI3QTXN7fSL%2BCrCpP40f8K1/aM1X5tc/aShslb78OgeELePA9A9w8p/HAo%2Btzl8FGb%2BSj/6VL9DOGBylS5qeXuT7yhG/wB9Wc2d/onh3w/4atBYeHNCs9PgHSGytUiQfgoAq3uXds3DcRkDPOK81/4ZpstR/wCRv%2BMvxA1lW/1kM3iZ7aJ/bZarEMVv/D/4G/Cv4XalNrXgfwklpe3MHk3F7JcyzzSR7g21pJXZiMgHr2q4VMXOa5qaivOV39yVvxPYoVMa5KPsYwh/jTaXkoxt%2BKKXxr8QfEDwhpUfifwheM8NuR52nw6IbkyEZZmlkD5iiCKclULZxgnIWq/xP0LxD4lvdI8Y%2BHb22u9KtrOSW6tLnxLc2FtIDsdJf3IIlxjgSYXBOTV34rS6bqeoaR4O1G%2B1eKHUp2juxpd4IQYmxGBKcFirMwXCkHJ64rL8cafodgbvTB4M0e90nw9YQajc2Gq2ZuCVw6Aw72KxbEibnaclccZzXjY7McLSdfmk2ouKaV24y5XPbtyJylvpF6N6GGIw9WrUqK/uvltq9JLXSyenddbbHH3up2uua9D4zi0C7g1zX7rRtU8MSyWbGZYpIxDNAXAIURJ5hkQkAglsEtz03w48HeK9H8U6Fot34ZubS38L2l/aPqhePyLu2eX/AEWOPDFm/dhWbKgIyEc5q5c%2BIPGETz3On63IUu9QvdLttPW3jAtXSNzA0eF3bgEJO4sDxgAVe%2BFt/CdS%2BxaPqst3ZXWi21%2B4mu2nMMz/ACkbnJYbtrEqTwQema87CZnh62Ywpcsrye75V1bTsrt8zi22mnFWUl2xoZbGNZTlK7unokr63133lrdWaVkdB4m%2BHvgTxreWeoeMPB2marNp282L6jZJN5BfbuK7wcE7V59hWpDDaafaiGCKOCGJcKiKFVFHsOAKxvGGheIvEc0FnoHxBn0VI1Y3iWdpDJLKDjbhpAfLxzyAc57Y5x0%2BAvge7cTeLbrVvEMgOQ2uarLMo/7ZgrH/AOO17VfFZisTKODwql3nKpCMW7doxnUdttUtfLU9bkUKjlGCTe70V/XS7%2BZxf7TFxb3fxo/ZvubWdJY3%2BMt8UkjYMrD/AIQrxR0I617TXiX7R2mabo3xg/Zt0vSLCG1toPjJfLDb28QREH/CFeKOAo4Fe2169P2ns17S3NZXte1%2Btr62vtfXubK4UUUVYBRRRQAUUUUAFFFFAHMeHPjb8GPGPxB1n4SeEfi74Y1XxX4cRX8Q%2BGdN1%2B2n1DS1bG1ri2RzJADuXBdRnI9aLD42/BjVfile/A3S/i74YufG2m2S3mo%2BD7fX7Z9UtbYhCJpLQP5yRkSR4dlAO9eeRXxx%2Bzx4e8Z%2BC/jZ4A0DxB8IPGunan8NPFXxHvPH3iY%2BB9Ra01G31nWXe0%2BzXSQFNR%2B2PPa3rLbtL5C2jG48lowKu/DTwB8QYP2nvCHw4uPhR4ot9d8KftK%2BNvHXibxjceGbqPSrvw5qOl63FY%2BXqTRi3upCNS0m1NqkjSp9gZmRVgQkA97/AG8P%2BSIaH/2Wb4cf%2Bproldb8a7CXw38JPHPirRNevrS7HhTUpYZPt7BIJRbuyyrk4RgQCCMYriP22fg/%2B0/8YfCui6Z8AfFPgJbbSfGHhvXtQ8OeMNNvYX1VtL16x1Mxx6pbSyCxDJaFcmxutzED5A25fkb4d/s1ft4fta6JqHiz41XFl4v8OW3jDXNGk8Iah%2B0bqOnWE8ul6vdadMJYrbwuTLEZrNzGd6tsKkhWJUbYfAZVi8TTr42SXsZKcfdlJ368tpRW2j5m4tPVOxxY%2Bvj6dB08LT53NNP3oxS00bbTfW/uq%2Bh9G/8ABP8A8HRQfsD/AA1HgzSbNbe88OLNd26q6tLeTSN51wzDO5txbJYcDp0Ar3bxnJplxY20s95ZqbZWmWxusgz4UjavKnIPTg844rzLw3qn7dfg7w/ZeFPCn7IvwQ07TNOtkt7CwsvjlqscVvEgCqiKvhbCqAAABVx/Gv8AwUHkwJP2XPgw2DkZ%2BO%2BrHB9f%2BRWr5bP%2BHaWb4/MMVTm74tq6neSjyyco2tZ6Oz5W5Q921uWUk%2B7LJSwGBw%2BHaX7qKV1pe0Un99n569zv7rUb0XBntbuaBbWe2ggswwIcsA7h85JOxsDnjGat6Xrd/qN7AL3yXtdQSZoYRFyio2FJOSGDLyeBgkV5Y%2Bv/ALe0mpLq7/so/BU3KjCzf8L31bI4x/0K/XBIz71FpWq/t96ROZ7f9mL4POQmyJZfj3qxEKZzsQf8ItwP8B6V5FDI%2BIcNmMZqtem53dpNKyejcWmnzQvT9nC0I2jLWyZ3Sr4adJrl1t2/X11u9Xsepa18IPhb4hYyav8AD/SZXPWZbJEk/wC%2BlAb9azf%2BFE%2BFrL/kWfEXiPRh2TTfEE%2Bz/viRnX8MV4xN8cv27PGXxl1v4HW37NHwzsdV8MeGNJ126vLX4/apHBLBqVxqVvCin/hGCWdW0qcsGUACSPBYlgvX6Z4s/wCCiFhYx2c/7N3wfumQHM8/x41Xe/JPOPCwHt07V6k8ly7E5lONXLoKNrqqnBOT0umoKnUi99XJp280cMqNBwUrq/azX47Hcf8ACvvihp3Gh/G%2B7dB92PV9Gt7j82QRt%2BtG39oXT%2BBJ4Q1NV7stzaO35eYM1x3/AAnH/BQv/o1/4M/%2BH41b/wCZej/hOP8AgoX/ANGv/Bn/AMPxq3/zL10f6vYaH8CtWp/4a02vun7RGXs10b%2B//hzsf%2BE4%2BL1l/wAhL4JGYD7z6Z4hgkz7hZRGaP8Ahcsltxq/wn8Y2pH3mXRxOo/GF3rjv%2BE4/wCChf8A0a/8Gf8Aw/Grf/MvXL6t%2B0d%2B3bo/xn0D4HXH7KHwkbVPEXhfV9ds7lPjrqnkRwadc6bbzI5PhjcHZtUgKgKQQkmSpChj%2By82p/wsfP8A7fp0Z/kqbDln0l%2BR61/w0F8Lovl1PVr2wbuuoaNdQ4%2BpaPH61teFPiJ4G8ctKnhDxTZ6g0KhpktpgzID0JHUV5n/AMJx/wAFC/8Ao1/4M/8Ah%2BNW/wDmXpieL/8AgoFFK08f7K/wWV3HzOvx11UE/U/8ItW%2BGo57Trr29enOHW1OUZfJqpKP3oaVRPVr7v8Agnofj3xtqXh2SCx8P6fHdXBmgN35obZDDJKIwTj%2BJiSFHtzxVf4ga/b2l1LYxeFdP1FrPTXv9Q%2B34AS3UkYX5G3OdrYBwOOSK8o8XaX%2B2x41miu9b/ZD%2BCD3Mc0T/a/%2BF4ap5rLG4YIW/wCEWztOMEehOMVB4ktf%2BCiniA7x8Afg3A1zp7WGpuPjbqhNzbMSdo/4pgeWwDMAwzjceOlebjqXEXNiXTd1Jx5OVrRJTurSVk2%2BRyd5JpStbROJxnJNPVf13PQL3S/hJq%2BsRxXvwT8O3OmyXcdpJf3Om27Oszx7wPLMZBUdGYsCD0BHNUfD/wAJv2dPGmofZLr9nbw7ZpcWxubCY6Nbr9pi3bS2EUFDnB2nsQa8j%2BMHxG/bu%2BDum2njTxJ%2BzP8ACK40O88caHYJpdj8a9UMwvdUv7XSIGMjeG1HkLNeJK4C7wFYqWwEPW%2BE0/4KK%2BHru1udQ/Z7%2BC959h0xbK0CfG3VoiF3ZZ2P/CMtuY4XpgcHjnjmoYXO5Y2Pt6cXDm1vGla2qfTmUbWcPtc1%2BbQ5ZYHC1Je/Sg/WMP8A5E9Bl/ZC/Zplbf8A8Kd0hD6wxtH/AOgsKb/wyD%2BzsP8AVfDzy/8Arjq12n/oMori/F13/wAFEPFkUEcPwM%2BGOkmBmO/SP2gdUjMmccNu8KNkDHH1NYf/AAjn/BSaP/UeC/BA/wCun7QF638/B9ehiqU6NdxpZdGpH%2BZSoxv/ANuySattuRLKcsvphof%2BAxX6I9Q/4ZF%2BAQ%2B54U1BP%2BufijUV/lcUf8MjfAnt4f1gfTxhqn/yTXl/9jf8FOl/1fhD4ej/AHvjndt/7qFcv8bfiF/wUm%2BA/wAGPF3xx8U%2BBPAd1pfgzwxf67qVrYfGm4a4mt7S2kuJEjD%2BE1UuVjIUMyjJGSBzXPzV/wDoVP8A8Dof/JIn%2Byst/wCgaP3RPeP%2BGRvgR38O6ufr4v1Q/wDtzR/wyJ8AOj%2BD71/%2BuniXUG/nPXl/9lf8FQz97wn8Ofw%2BNt0P/dRo/sT/AIKbN/rfB/w/P%2B58dbtf/dQo5q72yp/%2BB0P/AJJh/ZWW/wDQNH7onqH/AAyB%2Bzk3%2Bt%2BGkMv/AF31C5k/9ClNS2/7JH7NNqcx/BjQ2P8A01td/wD6ETXlX/CM/wDBSF%2BZ/BHgpvZP2hb5P5eEKP8AhEf%2BChb/AOv%2BGvg1/wDu5XVk/wDQPCgoX1zplUfnUof/ACDGsqy1bYWH/gMP/kWezWf7OX7P1hg23wR8KAjozeH7dj%2BZQmtex%2BGHw00vH9mfDzQrfHTyNIhTH5LXgX/CDft1yf8AH78EPAtz6if9qDxB/TwyK5f4I3v7Tfx7%2BDHhD45aD%2Bx38NBpvjPwvp%2Bu6db6z%2B0nr7TxW93bR3EaSqvh5kDhZAGClhkHBI5raMs5X8PAUo%2BtWP8A7ZQZvDCYen8FGC9FFflA%2BukTStHh2otvaxjsAqL/AEqhe/EDwHpuf7R8baRb46%2BfqUSY/Nq%2Bf4Pht%2B1HA/mD9hr4ESN63Hx01eU/%2BP8Ahg1p2Wjftf6dg2H7Dn7PsJHeP4x6gD%2Bf/CK1sp8Ty2p0Ies6svyhA6V7RKySX3nq158evg1ZNsk%2BJGlSHsLe5EpP02ZzUB%2BPngC440aLWtSbsun%2BHruTP0PlgH864ez8Tft86eu2w/ZP%2BCUA9Ifjnqq/y8LVP/wnH/BQv/o1/wCDP/h%2BNW/%2BZej6vxLU%2BLEUo/4aUpfjOqvxQWq9193/AATsf%2BFua1efJonwZ8WTsehurWG1U/jLKCPyo/4Sz426h8mn/COwss9JNU8RqcfVYY3/AJ15N4B/aO/bt%2BInivxv4Q0f9lD4SQ3HgPxRFoWqyXPx11QJPPJpWn6mHi2%2BGCSnk6jCpLBTvRxjADN1H/Ccf8FC/wDo1/4M/wDh%2BNW/%2BZej%2ByszqfxcfU/7chSh/wC2Tf4hySe8vyOx/s/9oHUvkuvEvhbSlPez02e6cfjJIgP5Vr%2BEfDXjDRruW78U/ES41nzI9qQNp0NvHEc53AINxPbljXm//Ccf8FC/%2BjX/AIM/%2BH41b/5l6P8AhOP%2BChf/AEa/8Gf/AA/Grf8AzL1vh8lw9CtGtKrVnJbc9WbX/gK5YP5xY1BJ3u/vO98b/DGPxfdvqUPiXUbOdhb4S3uNsX7mQupIUBsgs2MMME5qLx/4RGoWD3Zv5/ttxE1myWu1Fu4CWbyZAwfKhS%2BWGGwW5GTXn174p/4KI3dzbzx/s5fCCBYHLPFD8eNU2zezZ8Kk4%2BmOtcsPjp%2B234y%2BMeufAm5/ZJ%2BEral4a8NaRr9zcv8AHnVlt3g1G41O2hRCvhncXVtMnLgqFxJHgsSwXzczyRYvDYyGHoqNSpZKTnpJ2%2BNJc3K4800rx1fRxbT2pwoRqRlPVdVr/mvw6HtepeF7K6nsPGWg6XOt3KY3mNpIudpi27wkp8veFwu8jdjjNVpk0mKSfUdNBsCLSSYGMCJpLmKQiUyBMCR%2BADnPB46157p%2Bpft%2B6dpSaNb/ALM3wgWBFCqsXx91eMjknIKeFgQTnnmrEeu/t6RWkdj/AMMnfBR4om3RrL8dtWfDZzuy3hcnOe/WvDr8LZpjo875acpxg5q7cVVUVFuHJyyim25yd1zSjDTRnZCvhqL91Xs3bRJ2fe99enpc9CtBs1uPdblNRk1LzC4jOXt3RWbLd1HKjngqBXTarZ3V/YvaWmpy2kjYxcQqpZRnnG4Ecjj8a8h/4Tj/AIKFf9Gv/Bn/AMPxq3/zL0f8Jx/wUL/6Nf8Agz/4fjVv/mXr6PKuHqeXYWvh5zco1Xra8HZppu8ZJ875nzTTi3aPVXMa2JdWcZJWa%2Bf59PIh/aRtGsfjF%2BzbaPdzXBj%2BMl8DNOwLv/xRXijkkADP4V7ZXyv8T/Ev7Vur/tJ/s6Wvxr%2BC/wAPfD%2Bjj4uai0d94W%2BJ19rFyZ/%2BEL8TbUME%2Bi2ShCCxL%2BaSCANhySv1RXvUqUKNKNOCsopJbvRKy1bbfq233bepztuTuwooorQQUUUUAFFFFABRRRQAVR8UeIbDwj4a1HxXqof7LpljNd3PlLlvLjQu2B3OFNXqju7S1v7WWxvbdJoZo2jmilUMrqRgqQeCCOMUAfN/7Gv7Uvx8%2BKnjDRvC3x/03wkj%2BN/hPp3xA8Lr4T0%2B5t/7Lt7iUJPpl009xMLqSETWm27jECyl5f3EWwbvJtH/AOCjvxx8F/C/TfilrPgLwPPpfxV%2BF%2Bq%2BOvhNoujabc2T6bN/a2lW1va6rM1xKt01w2v2U8s8MUGxo7obHJRz79%2Bz/wDsL%2BEP2c9Ytda8J/GXx1qkmmaLp%2BgaGniC5064GmeH7IzGDRoStkjG33TAtNIXvJPIhD3LCMCsHSf%2BCY3wItNG1vwrrvjPxlrWiXvhLUfDHhbR9R1K2SLwbpN7dRXc9tpb29tHMn7%2B2s3SS4knkj%2Bw26o6rHtIB2H7Lvxc%2BK/jHxL8Q/hB8crnw9feJ/h54ltbGXW/CukT6fY6paXWm2t9DMtrPc3Mlu6meWFkM8oPkCQECTYnrtef/AH9nzSPgLZ%2BILk%2BPvEPi7XvFmuDVvE3ivxW1p9u1G4W1gtIty2Vvb28SR29tBGqRQovyFiC7u7egUAFfLvwG/bG%2BNvxB%2BMXhaTxtpnhZfAfxM1rxbpngqz0vTbmPVdLk0W7lihkvLh7l4rpbu3trmYrHDAbdvLjzPkyD6irwzwd%2BwZ4G8BfEuT4keF/i743gFre6vd%2BFdAkn06TT/DE%2Bq3yXupvZI9kZCbiRXX/AEh5/JjnlS38hWwACne/FT45eA/22vDXwq8Q6j4B17TPH1rqsq6Z4f8AC91a634f0iwjaS3vr28e8lju4DPMtttFvb7Zr5dhcLJnJ/4Jr/tT/F39pb4X2%2BoftF%2BJtEtPiAfCmiat4j%2BHtr8J9b8JX3hia8t3aWKWLV7ueS9h85JYY7qJY4ma1lwXOQnV/D/9jE/Dr9oTxn%2B0Ppf7THxEvLzx1dmXWtD1KLQpbSOJIHhtbSCb%2BzBew21rvaSGEXOwSPI7iRppjJt/Bj9mO1%2BFPxB1n4t%2BKfjL4w8f%2BK9a0e00iTXvGP8AZscltp9tLPNHbQw6bZ2kCL5txK7OYzI5KhnKoiqAen0UUUAfLv7TX7Y3xt%2BFnxT8Yt8PNM8LN4N%2BE2i%2BG9T8d22s6bczajrEeqX1xFNHYzR3Mcdo1taweeGkiuBPJKIsQhTIZv2uP2lviZ8Ev2mPCekrrHh7wl4EbwpcXWu/EHxF8ItZ1%2B3tJmv7aL7HJqFjd29vo8UkY8wzXRMeYkJ4TFdt8Z/2Ifhx8bvikfiZrnjnxVpcWo2ukWvi/wANaNdWqad4pg0u9kvbGK%2BWW3kmCxzTS5%2BzywGWOQxTGWMKgl%2BOH7I0/wC0H4Ob4afEP9pP4hN4V1LRZNJ8X%2BG7FNFht/E9pIzCaK7kGm%2BfEJInaF/sktvmM44b5qAPPv8Ahsb42f8ADQPmf2Z4W/4Vj/wuf/hWn2D%2Bzbn%2B2/tn9m%2Bf/an2r7T5Hlfbf9F%2By/Z93l/v/Pz%2B5r6irxn/AIYh%2BHH/AAv/AP4Xt/wnPir7P/wlf/CVf8IJ9qtf7E/t/wDs3%2Bzf7U2fZ/tPm/Zv%2BWX2j7P5v7/yfO/eV7NQAV89fteftE/tAeA/iBD8Lv2cLXwiup6f8Ndd8b6zceMtNubqG6gsJLWKHTYRb3EBgkuHuJM3TGVYBAP3Exkwv0LXkf7S/wCx54P/AGmdQsta1H4k%2BL/COoW/h/U/D99qPg28tYZtS0XUPIN5p8xubacLHI1tCwliEdxEUJimj3vuAOT/AGqvj549sf2J/wDhrz4R%2BJvCWk6XYeC18XS6V418BXOuyahi3ju7K2t47fUrLyrkzeWqEmQmRo9oUgE8pqX7Vf7UXw%2B/aV8HfCL49%2BIvCHg3QrjwB4Nudf17/hUWvX%2Bm6z4o1G%2B1K01HS7XWI79bLSQr2titul350jNqEYzKSqn2rxv%2BzD4L%2BIXw80j4U%2BJvEmsv4e0TxbpWuWOl24tIYtmm3kN5ZacwS3G6zjlt4DtP7xliCvIwLbqnxr/Zag%2BPfiazuPG/xv8AGsfhS3vtOvbz4d2B0yPSdRnsrpLqF5pTZNfY86KFnjjukjcRBWUqzq4B6pRRRQB4v/wUF%2BLvxw/Z%2B/ZH8afHr4BXvhSPWPBOhXeuXUHjDRbm%2Btru0tbaWZ7dEtrq2ZJXZEUSFyqAsSj8Crv7YPxP8XeBPB3hrwL8PdM0G4174j%2BMrXwppsvirTZL3TLVZ4Z7i5mubaOWFrlFtLW5xCJY/McopdQSRqftY/s42X7WnwI179n3Wvir4p8I6T4nspbHXL/wgunfa7mylieKa23X9pdRojq/LIiyAqNrrznO8b/srSfEr4dWfgjx5%2B0F461HU9J1PTtU0DxiYtHg1PSdSsySt5CINOS2Z5AzrIksEkLJI6eWFYqQD59vf2/P2q/E3hrUNA%2BHOheAIPF3w/8ADXjTV/iBJq%2Bk3slhq76BrEmmRWtgiXaPZC%2BME0/nSvc/ZBsQxXJJYfYvgXxdpvxA8EaN490aOVLPW9Kt7%2B0SZcOsc0SyKGA6HDDPvXgviP8A4Jk/CHXPA%2BneDNN%2BLHxA0WaPSdf0vxPr2kanZJf%2BK7LW7z7dq0N%2B8lo6A3F1ul821S3lgMji3eBWK19EaZpun6Nptvo%2Bk2Udta2kCQ21vCgVIo1AVUUDgAAAAe1AE9c18YpPibD8MtYn%2BDmtaDp3iWK136Ze%2BJtKmvrGIqwLmWCCe3klHlh8KssfzFctjNdLWF8TPB2qfEHwHqfgvRviDrPhW41G38lPEHh%2BGzkvLMEgs0S3tvcW5JAKnzIXGGOADggA4L4CfFH4wftDfsR/D/41%2BH7nw1o/jXxx8ONE1xpbzSri40uzvLyyguJT9mW4SaSJTI%2B2Pz1YgKDJ1avAb39sz9qPQfg5p6%2BAtI8K3UGj/HO78Cah488HfBrXde0eTQrPRLq5fUbTRNNvWuo1i1GFNJci5liSWCVs4KhfYfCX7DU/gz9ktP2PNJ/a3%2BK66Da%2BCE8K6Vr8M%2BiW2sabYxokUTwXFtpcarMkCCFZShO0lzmXEo0fB/7I3ib4e/BDSfgb4B/a8%2BI2iWuhXCLpOr6XonhWG4tbBLdYI9NSFdE%2BxrbJtDqRb%2BcGOPN2YQAHoXwd8b6b8SvhP4a%2BIGkeONI8TW%2Bs6Ha3aeIfD9o1vY6kXiVjcQRPLK0MbklljaSRkBCs7EEnpK5f4K/CHwb8A/hToPwc%2BH8VyukeHtPS0s2vrlpp5QMlpZZG5eR2LOzd2YnA6V1FABXi/wCxz8Xfjh8Srr4peDvj9e%2BFLvWfh/8AExvD1tfeD9FubC1uLVtG0rUkLRXN1cuZFbUHjLhwriNWCJkivaK8X%2BBP7HmsfAnxp4v8a2n7WXxK8RyeOPFcPiDXrHxDaeHRA92lrb2ZCfZNIgdI3t7S2iYB84hDKVdnZgDwzwR%2B3/8AFXwZ8N/jF8RPi9D4atvF3hvS/EGsaJ8MG%2BFGteGb6/jstQfT7K8bUr%2B6ki1W3kjXT1kubWHZF9piyQNiH3n9mT4ufGPxH4%2B8f/Av4/3fhnUPE3gW60yZdc8IaNcadY6hY39p5sTfZri5uXhlSWK5iYec4ZY45Bs3mNMzXP2CPA3xE1XxBqvx6%2BMHjn4hnXPBOr%2BErSDxJPp1smi6TqckD3sNp/ZtlanzHNpaYnmMsyfZk2upLlux%2BAH7OelfAY%2BIdYuPiR4m8aeIvFeow3fiDxZ4wkszfXfkW0dtBFtsra2t44o4owFWOJcs8jtueR2YA9EooooA8X%2BCvxd%2BOGtftcfFn4C/FS98KXWj%2BGNC8Pa54Qn8P6Lc2tzFaalc6zD9nvHmupluJUXTIm8yNIFzK42HANc/4k%2BIn7S3hX9vzwX8INM8VfDnVfDni7SNY1jxDZwfD68t9Z0vQdORIrffqP8AarxSyHUNRt1VWtFVka6KqpUmug0X9jzWNA/aL8YftJad%2B1l8ShqHjPSrLTL3QntPDp0%2BztLOe6mtIoB/ZHnjyje3ShpJpGZZjvLlUK9ppfwL8K6X8cPEv7QKatqc2v8AiTwxpugN580Zh06yspbuZFtlEYKM8t7K8jMX3lIhwI1AAPHv%2BCcX7U/xd/aP8C%2Bb%2B0X4m0Sy8d/8IzpGq6z8PLf4T634UvvDjXUcpkWRdXu5n1CAyo8Ud1AkcRa2l5cnCfSteXfBv9l%2B2%2BFvxF1T4v8Ai340%2BMviD4p1LRLfRk1vxkdNjez0%2BGWSYW8MWm2VpAoaWVnd2jaRiEBfaiqPUaACvB/2tfjN%2B0F8BvEnhfxd4M8QeB73w9rXi7QvDtt4FvvDl5JrmuXN7fLDctaXsd6sUJgtWkutjWkw8u0mZ3jQF4/eK8Z%2BJP7HK/ET9p3RP2prf9o74gaFqvh/QxpWmaBpkOiXGlwQPN5ty0aX2mXE0MtyBHHNLFKjtHDGisgHIBwv7bH7UPxm%2BFvjLxBZ/Brw54Ouk%2BE/wouviV4mHizSp7qbUYVa6hi0%2BwkiuIRYzyw2uoKbtxOqbo18l1dyKukfts/GLW/jZa67Y6d4XPwqu/i%2Bnw6hsW0u5GuG5bSxcjVDc/afIEX2w/Zvsn2fd5f7/wA/P7mu4%2BOn7CPgr9oNopvG3xg8cW0134Xu/DHi%2BfSLjToG8V6FczCWTTL4fYiqxffRZLYW86JNKFlHmOTaj/Yc%2BGkPx7X44Q%2BNfFCWieKR4oXwEtzaDQ114ab/AGaNTCfZvtPm/ZuPK%2B0fZ/M/feT537ygD2iiiigAooooAKKKKACiiigAooooAKKKKACiiigAooooAKKKKACiiigAooooAKKKKACiiigAooooAKKKKACiiigAooooAKKKKACiiigAooooAKKKKACiiigAooooAKKKKACiiigAooooAKKKKACiiigAooooA//Z\">"
      ]
     },
     "metadata": {},
     "output_type": "display_data"
    }
   ],
   "source": [
    "try:\n",
    "    display_html(HTML(anim.to_html5_video()))\n",
    "# In case the build-in renderers are unaviable, fall back to\n",
    "# a custom one, that doesn't require external libraries\n",
    "except RuntimeError:\n",
    "    anim.save(None, writer=matplotlib_utils.SimpleMovieWriter(0.001))"
   ]
  },
  {
   "cell_type": "markdown",
   "metadata": {},
   "source": [
    "# Logistic regression\n",
    "Your assignment is to implement the logistic regression\n",
    "\n",
    "Plan:\n",
    "* Use a shared variable for weights\n",
    "* Use a matrix placeholder for `X`\n",
    " \n",
    "We shall train on a two-class MNIST dataset\n",
    "* please note that target `y` are `{0,1}` and not `{-1,1}` as in some formulae"
   ]
  },
  {
   "cell_type": "code",
   "execution_count": 40,
   "metadata": {},
   "outputs": [
    {
     "name": "stdout",
     "output_type": "stream",
     "text": [
      "y [shape - (360,)]: [0 1 0 1 0 1 0 0 1 1]\n",
      "X [shape - (360, 64)]:\n"
     ]
    }
   ],
   "source": [
    "from sklearn.datasets import load_digits\n",
    "mnist = load_digits(2)\n",
    "\n",
    "X, y = mnist.data, mnist.target\n",
    "\n",
    "print(\"y [shape - %s]:\" % (str(y.shape)), y[:10])\n",
    "print(\"X [shape - %s]:\" % (str(X.shape)))"
   ]
  },
  {
   "cell_type": "code",
   "execution_count": 41,
   "metadata": {},
   "outputs": [
    {
     "name": "stdout",
     "output_type": "stream",
     "text": [
      "X:\n",
      " [[ 0.  0.  5. 13.  9.  1.  0.  0.  0.  0.]\n",
      " [ 0.  0.  0. 12. 13.  5.  0.  0.  0.  0.]\n",
      " [ 0.  0.  1.  9. 15. 11.  0.  0.  0.  0.]]\n",
      "y:\n",
      " [0 1 0 1 0 1 0 0 1 1]\n"
     ]
    },
    {
     "data": {
      "image/png": "[encoded data removed]",
      "text/plain": [
       "<Figure size 432x288 with 1 Axes>"
      ]
     },
     "metadata": {},
     "output_type": "display_data"
    }
   ],
   "source": [
    "print('X:\\n',X[:3,:10])\n",
    "print('y:\\n',y[:10])\n",
    "plt.imshow(X[0].reshape([8,8]));"
   ]
  },
  {
   "cell_type": "markdown",
   "metadata": {},
   "source": [
    "It's your turn now!\n",
    "Just a small reminder of the relevant math:\n",
    "\n",
    "$$\n",
    "P(y=1|X) = \\sigma(X \\cdot W + b)\n",
    "$$\n",
    "$$\n",
    "\\text{loss} = -\\log\\left(P\\left(y_\\text{predicted} = 1\\right)\\right)\\cdot y_\\text{true} - \\log\\left(1 - P\\left(y_\\text{predicted} = 1\\right)\\right)\\cdot\\left(1 - y_\\text{true}\\right)\n",
    "$$\n",
    "\n",
    "$\\sigma(x)$ is available via `tf.nn.sigmoid` and matrix multiplication via `tf.matmul`"
   ]
  },
  {
   "cell_type": "code",
   "execution_count": 42,
   "metadata": {},
   "outputs": [],
   "source": [
    "from sklearn.model_selection import train_test_split\n",
    "X_train, X_test, y_train, y_test = train_test_split(\n",
    "    X, y, random_state=42)"
   ]
  },
  {
   "cell_type": "markdown",
   "metadata": {},
   "source": [
    "__Your code goes here.__ For the training and testing scaffolding to work, please stick to the names in comments."
   ]
  },
  {
   "cell_type": "code",
   "execution_count": 53,
   "metadata": {},
   "outputs": [],
   "source": [
    "# Model parameters - weights and bias\n",
    "weights = tf.Variable(tf.zeros((X.shape[1], 1), dtype=tf.float32)) # shape should be (X.shape[1], 1)\n",
    "b = tf.Variable(0.0, dtype=tf.float32)\n",
    "s.run(tf.global_variables_initializer())"
   ]
  },
  {
   "cell_type": "code",
   "execution_count": 54,
   "metadata": {},
   "outputs": [],
   "source": [
    "# Placeholders for the input data\n",
    "input_X = tf.placeholder(dtype=tf.float32, shape=(None, None))\n",
    "input_y = tf.placeholder(dtype=tf.float32, shape=(None, ))"
   ]
  },
  {
   "cell_type": "code",
   "execution_count": 55,
   "metadata": {},
   "outputs": [],
   "source": [
    "# The model code\n",
    "\n",
    "# Compute a vector of predictions, resulting shape should be [input_X.shape[0],]\n",
    "# This is 1D, if you have extra dimensions, you can  get rid of them with tf.squeeze .\n",
    "# Don't forget the sigmoid.\n",
    "predicted_y = tf.squeeze(tf.nn.sigmoid(tf.matmul(input_X, weights) + b))\n",
    "\n",
    "# Loss. Should be a scalar number - average loss over all the objects\n",
    "# tf.reduce_mean is your friend here\n",
    "loss = tf.reduce_mean(- tf.log(predicted_y) * input_y - tf.log(1 - predicted_y) * (1 - input_y))\n",
    "\n",
    "# See above for an example. tf.train.*Optimizer\n",
    "optimizer = tf.train.MomentumOptimizer(0.01, 0.5).minimize(loss, var_list=[weights, b])"
   ]
  },
  {
   "cell_type": "markdown",
   "metadata": {},
   "source": [
    "A test to help with the debugging"
   ]
  },
  {
   "cell_type": "code",
   "execution_count": 56,
   "metadata": {},
   "outputs": [],
   "source": [
    "validation_weights = 1e-3 * np.fromiter(map(lambda x:\n",
    "        s.run(weird_psychotic_function, {my_scalar:x, my_vector:[1, 0.1, 2]}),\n",
    "                                   0.15 * np.arange(1, X.shape[1] + 1)),\n",
    "                                   count=X.shape[1], dtype=np.float32)[:, np.newaxis]\n",
    "# Compute predictions for given weights and bias\n",
    "prediction_validation = s.run(\n",
    "    predicted_y, {\n",
    "    input_X: X,\n",
    "    weights: validation_weights,\n",
    "    b: 1e-1})\n",
    "\n",
    "# Load the reference values for the predictions\n",
    "validation_true_values = np.loadtxt(\"validation_predictons.txt\")\n",
    "\n",
    "assert prediction_validation.shape == (X.shape[0],),\\\n",
    "       \"Predictions must be a 1D array with length equal to the number \" \\\n",
    "       \"of examples in input_X\"\n",
    "assert np.allclose(validation_true_values, prediction_validation)\n",
    "loss_validation = s.run(\n",
    "        loss, {\n",
    "            input_X: X[:100],\n",
    "            input_y: y[-100:],\n",
    "            weights: validation_weights+1.21e-3,\n",
    "            b: -1e-1})\n",
    "assert np.allclose(loss_validation, 0.728689)"
   ]
  },
  {
   "cell_type": "code",
   "execution_count": 57,
   "metadata": {},
   "outputs": [
    {
     "name": "stdout",
     "output_type": "stream",
     "text": [
      "loss at iter 0:0.1252\n",
      "train auc: 0.9999451032059727\n",
      "test auc: 1.0\n",
      "loss at iter 1:0.0450\n",
      "train auc: 1.0\n",
      "test auc: 1.0\n",
      "loss at iter 2:0.0269\n",
      "train auc: 1.0\n",
      "test auc: 1.0\n",
      "loss at iter 3:0.0200\n",
      "train auc: 1.0\n",
      "test auc: 1.0\n",
      "loss at iter 4:0.0169\n",
      "train auc: 1.0\n",
      "test auc: 1.0\n"
     ]
    }
   ],
   "source": [
    "from sklearn.metrics import roc_auc_score\n",
    "s.run(tf.global_variables_initializer())\n",
    "for i in range(5):\n",
    "    s.run(optimizer, {input_X: X_train, input_y: y_train})\n",
    "    loss_i = s.run(loss, {input_X: X_train, input_y: y_train})\n",
    "    print(\"loss at iter %i:%.4f\" % (i, loss_i))\n",
    "    print(\"train auc:\", roc_auc_score(y_train, s.run(predicted_y, {input_X:X_train})))\n",
    "    print(\"test auc:\", roc_auc_score(y_test, s.run(predicted_y, {input_X:X_test})))"
   ]
  },
  {
   "cell_type": "markdown",
   "metadata": {},
   "source": [
    "### Coursera submission"
   ]
  },
  {
   "cell_type": "code",
   "execution_count": 58,
   "metadata": {},
   "outputs": [],
   "source": [
    "grade_submitter = grading.Grader(\"BJCiiY8sEeeCnhKCj4fcOA\")"
   ]
  },
  {
   "cell_type": "code",
   "execution_count": 59,
   "metadata": {},
   "outputs": [],
   "source": [
    "test_weights = 1e-3 * np.fromiter(map(lambda x:\n",
    "    s.run(weird_psychotic_function, {my_scalar:x, my_vector:[1, 2, 3]}),\n",
    "                               0.1 * np.arange(1, X.shape[1] + 1)),\n",
    "                               count=X.shape[1], dtype=np.float32)[:, np.newaxis]"
   ]
  },
  {
   "cell_type": "markdown",
   "metadata": {},
   "source": [
    "First, test prediction and loss computation. This part doesn't require a fitted model."
   ]
  },
  {
   "cell_type": "code",
   "execution_count": 60,
   "metadata": {},
   "outputs": [],
   "source": [
    "prediction_test = s.run(\n",
    "    predicted_y, {\n",
    "    input_X: X,\n",
    "    weights: test_weights,\n",
    "    b: 1e-1})"
   ]
  },
  {
   "cell_type": "code",
   "execution_count": 61,
   "metadata": {},
   "outputs": [],
   "source": [
    "assert prediction_test.shape == (X.shape[0],),\\\n",
    "       \"Predictions must be a 1D array with length equal to the number \" \\\n",
    "       \"of examples in X_test\""
   ]
  },
  {
   "cell_type": "code",
   "execution_count": 62,
   "metadata": {},
   "outputs": [],
   "source": [
    "grade_submitter.set_answer(\"0ENlN\", prediction_test)"
   ]
  },
  {
   "cell_type": "code",
   "execution_count": 63,
   "metadata": {},
   "outputs": [],
   "source": [
    "loss_test = s.run(\n",
    "    loss, {\n",
    "        input_X: X[:100],\n",
    "        input_y: y[-100:],\n",
    "        weights: test_weights+1.21e-3,\n",
    "        b: -1e-1})\n",
    "# Yes, the X/y indices mistmach is intentional"
   ]
  },
  {
   "cell_type": "code",
   "execution_count": 64,
   "metadata": {},
   "outputs": [],
   "source": [
    "grade_submitter.set_answer(\"mMVpM\", loss_test)"
   ]
  },
  {
   "cell_type": "code",
   "execution_count": 65,
   "metadata": {},
   "outputs": [],
   "source": [
    "grade_submitter.set_answer(\"D16Rc\", roc_auc_score(y_test, s.run(predicted_y, {input_X:X_test})))"
   ]
  },
  {
   "cell_type": "markdown",
   "metadata": {},
   "source": [
    "Please use the credentials obtained from the Coursera assignment page."
   ]
  },
  {
   "cell_type": "code",
   "execution_count": 67,
   "metadata": {},
   "outputs": [
    {
     "name": "stdout",
     "output_type": "stream",
     "text": [
      "Submitted to Coursera platform. See results on assignment page!\n"
     ]
    }
   ],
   "source": [
    "grade_submitter.submit(\"garrett.wu@hotmail.com\", \"XkyaJiyDqnJBQu8v\")"
   ]
  },
  {
   "cell_type": "code",
   "execution_count": null,
   "metadata": {},
   "outputs": [],
   "source": []
  }
 ],
 "metadata": {
  "kernelspec": {
   "display_name": "Python 3",
   "language": "python",
   "name": "python3"
  },
  "language_info": {
   "codemirror_mode": {
    "name": "ipython",
    "version": 3
   },
   "file_extension": ".py",
   "mimetype": "text/x-python",
   "name": "python",
   "nbconvert_exporter": "python",
   "pygments_lexer": "ipython3",
   "version": "3.6.5"
  }
 },
 "nbformat": 4,
 "nbformat_minor": 1
}
