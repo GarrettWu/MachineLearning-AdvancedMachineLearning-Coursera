{
 "cells": [
  {
   "cell_type": "code",
   "execution_count": 1,
   "metadata": {},
   "outputs": [
    {
     "name": "stderr",
     "output_type": "stream",
     "text": [
      "/Users/Garrett/anaconda3/lib/python3.6/site-packages/h5py/__init__.py:36: FutureWarning: Conversion of the second argument of issubdtype from `float` to `np.floating` is deprecated. In future, it will be treated as `np.float64 == np.dtype(float).type`.\n",
      "  from ._conv import register_converters as _register_converters\n",
      "Using TensorFlow backend.\n"
     ]
    },
    {
     "name": "stdout",
     "output_type": "stream",
     "text": [
      "(50000, 28, 28) (50000,)\n"
     ]
    },
    {
     "data": {
      "image/png": "[encoded data removed]",
      "text/plain": [
       "<Figure size 432x288 with 1 Axes>"
      ]
     },
     "metadata": {},
     "output_type": "display_data"
    }
   ],
   "source": [
    "from preprocessed_mnist import load_dataset\n",
    "X_train, y_train, X_val, y_val, X_test, y_test = load_dataset()\n",
    "print(X_train.shape, y_train.shape)\n",
    "import matplotlib.pyplot as plt\n",
    "%matplotlib inline\n",
    "plt.imshow(X_train[0], cmap=\"Greys\");"
   ]
  },
  {
   "cell_type": "code",
   "execution_count": 2,
   "metadata": {},
   "outputs": [],
   "source": [
    "import tensorflow as tf\n",
    "import numpy as np"
   ]
  },
  {
   "cell_type": "code",
   "execution_count": 3,
   "metadata": {},
   "outputs": [],
   "source": [
    "img_h = img_w = 28             # MNIST images are 28x28 \n",
    "img_size = img_h * img_w       # 28x28=784, the total number of pixels\n",
    "n_classes = 10                 # Number of classes, one class per digit"
   ]
  },
  {
   "cell_type": "code",
   "execution_count": 4,
   "metadata": {},
   "outputs": [
    {
     "name": "stdout",
     "output_type": "stream",
     "text": [
      "[1 3 1 2 1]\n",
      "(50000, 784)\n",
      "(50000, 10)\n",
      "[[0. 1. 0. 0. 0. 0. 0. 0. 0. 0.]\n",
      " [0. 0. 0. 1. 0. 0. 0. 0. 0. 0.]\n",
      " [0. 1. 0. 0. 0. 0. 0. 0. 0. 0.]\n",
      " [0. 0. 1. 0. 0. 0. 0. 0. 0. 0.]\n",
      " [0. 1. 0. 0. 0. 0. 0. 0. 0. 0.]]\n"
     ]
    }
   ],
   "source": [
    "X_train = X_train.reshape([-1, img_size])\n",
    "X_val = X_val.reshape([-1, img_size])\n",
    "X_test = X_test.reshape([-1, img_size])\n",
    "\n",
    "def shuffle():\n",
    "    permutation = np.random.permutation(y_train.shape[0])\n",
    "    shuffled_X = X_train[permutation, :]\n",
    "    shuffled_y = y_train[permutation]\n",
    "    return shuffled_X, shuffled_y\n",
    "\n",
    "X_train, y_train = shuffle()\n",
    "\n",
    "print(y_train[0:5])\n",
    "def get_one_hot(y):\n",
    "    y_one_hot = np.eye(n_classes)[y]\n",
    "    \n",
    "    return y_one_hot\n",
    "\n",
    "y_train = get_one_hot(y_train)\n",
    "y_val = get_one_hot(y_val)\n",
    "y_test = get_one_hot(y_test)\n",
    "\n",
    "print(X_train.shape)\n",
    "print(y_train.shape)\n",
    "print(y_train[0:5])"
   ]
  },
  {
   "cell_type": "code",
   "execution_count": 5,
   "metadata": {},
   "outputs": [],
   "source": [
    "# Hyper-parameters\n",
    "epochs = 100             # Total number of training epochs\n",
    "learning_rate = 0.0003       # The optimization initial learning rate\n",
    "n_neurons_1 = 512          # number of neurons in hidden layer 1\n",
    "n_neurons_2 = 256          # number of neurons in hidden layer 2\n",
    "batch_size = 256         # batch size \n",
    "dropout_keep_prob = 0.65          # dropout keep prob"
   ]
  },
  {
   "cell_type": "code",
   "execution_count": 6,
   "metadata": {},
   "outputs": [],
   "source": [
    "X = tf.placeholder(tf.float32, shape=(None, img_size), name='X')\n",
    "y = tf.placeholder(tf.float32, shape=(None, n_classes), name='y')\n",
    "keep_prob = tf.placeholder(tf.float32)"
   ]
  },
  {
   "cell_type": "code",
   "execution_count": 7,
   "metadata": {},
   "outputs": [],
   "source": [
    "# init_w = tf.truncated_normal_initializer(stddev=0.01)\n",
    "init_w = tf.contrib.layers.xavier_initializer()\n",
    "W1 = tf.get_variable('W1', dtype=tf.float32, shape=(img_size, n_neurons_1), initializer=init_w)\n",
    "W2 = tf.get_variable('W2', dtype=tf.float32, shape=(n_neurons_1, n_neurons_2), initializer=init_w)\n",
    "W3 = tf.get_variable('W3', dtype=tf.float32, shape=(n_neurons_2, n_classes), initializer=init_w)\n",
    "\n",
    "b1 = tf.get_variable('b1', dtype=tf.float32, shape=(n_neurons_1), initializer=tf.zeros_initializer())\n",
    "b2 = tf.get_variable('b2', dtype=tf.float32, shape=(n_neurons_2), initializer=tf.zeros_initializer())\n",
    "b3 = tf.get_variable('b3', dtype=tf.float32, shape=(n_classes), initializer=tf.zeros_initializer())\n",
    "\n",
    "Z1 = tf.matmul(X, W1) + b1\n",
    "A1 = tf.nn.tanh(Z1)\n",
    "A1 = tf.nn.dropout(A1, keep_prob)\n",
    "Z2 = tf.matmul(A1, W2) + b2\n",
    "A2 = tf.nn.tanh(Z2)\n",
    "A2 = tf.nn.dropout(A2, keep_prob)\n",
    "Z3 = tf.matmul(A2, W3) + b3\n",
    "# A3 = tf.nn.softmax(Z3)\n",
    "A3 = Z3\n",
    "output = A3"
   ]
  },
  {
   "cell_type": "code",
   "execution_count": 8,
   "metadata": {},
   "outputs": [
    {
     "name": "stdout",
     "output_type": "stream",
     "text": [
      "WARNING:tensorflow:From <ipython-input-8-c33ed883778e>:2: softmax_cross_entropy_with_logits (from tensorflow.python.ops.nn_ops) is deprecated and will be removed in a future version.\n",
      "Instructions for updating:\n",
      "\n",
      "Future major versions of TensorFlow will allow gradients to flow\n",
      "into the labels input on backprop by default.\n",
      "\n",
      "See @{tf.nn.softmax_cross_entropy_with_logits_v2}.\n",
      "\n"
     ]
    }
   ],
   "source": [
    "# Define the loss function, optimizer, and accuracy\n",
    "loss = tf.reduce_mean(tf.nn.softmax_cross_entropy_with_logits(labels=y, logits=output), name='loss')\n",
    "optimizer = tf.train.AdamOptimizer(learning_rate=learning_rate, name='Adam').minimize(loss)\n",
    "# _, accuracy = tf.metrics.accuracy(labels=tf.argmax(y, 1), predictions=tf.argmax(A2, 1), name='accuracy')\n",
    "\n",
    "correct_prediction = tf.equal(tf.argmax(output, 1), tf.argmax(y, 1), name='correct_pred')\n",
    "accuracy = tf.reduce_mean(tf.cast(correct_prediction, tf.float32), name='accuracy')"
   ]
  },
  {
   "cell_type": "code",
   "execution_count": 9,
   "metadata": {},
   "outputs": [],
   "source": [
    "def get_batch(start, end):\n",
    "    X_batch = X_train[start: end]\n",
    "    y_batch = y_train[start: end]\n",
    "    \n",
    "    return X_batch, y_batch\n",
    "\n",
    "n_instance = X_train.shape[0]\n",
    "batches = np.ceil(n_instance / batch_size).astype(int)"
   ]
  },
  {
   "cell_type": "code",
   "execution_count": 10,
   "metadata": {},
   "outputs": [
    {
     "name": "stdout",
     "output_type": "stream",
     "text": [
      "before start,    train loss 2.44,    train accuracy 5.5%\n"
     ]
    }
   ],
   "source": [
    "sess = tf.Session()\n",
    "\n",
    "init = tf.group(tf.local_variables_initializer(), tf.global_variables_initializer())\n",
    "sess.run(init)\n",
    "    \n",
    "# loss and accuracy before start\n",
    "feed_dict_train = {X: X_train, y: y_train, keep_prob: 1}\n",
    "loss_train, accuracy_train = sess.run([loss, accuracy], feed_dict=feed_dict_train)    \n",
    "print(\"before start,    train loss {0:.2f},    train accuracy {1:.01%}\".format(loss_train, accuracy_train))"
   ]
  },
  {
   "cell_type": "code",
   "execution_count": 11,
   "metadata": {},
   "outputs": [
    {
     "name": "stdout",
     "output_type": "stream",
     "text": [
      "epoch   0,    train loss 0.3025,    train accuracy 91.23%     val loss 0.2824,    val accuracy 91.89%\n",
      "epoch   1,    train loss 0.2563,    train accuracy 92.52%     val loss 0.2469,    val accuracy 92.84%\n",
      "epoch   2,    train loss 0.2283,    train accuracy 93.33%     val loss 0.2230,    val accuracy 93.69%\n",
      "epoch   3,    train loss 0.2068,    train accuracy 93.87%     val loss 0.2070,    val accuracy 94.18%\n",
      "epoch   4,    train loss 0.1871,    train accuracy 94.44%     val loss 0.1906,    val accuracy 94.61%\n",
      "epoch   5,    train loss 0.1674,    train accuracy 95.03%     val loss 0.1743,    val accuracy 95.19%\n",
      "epoch   6,    train loss 0.1554,    train accuracy 95.37%     val loss 0.1652,    val accuracy 95.23%\n",
      "epoch   7,    train loss 0.1405,    train accuracy 95.74%     val loss 0.1528,    val accuracy 95.60%\n",
      "epoch   8,    train loss 0.1297,    train accuracy 96.15%     val loss 0.1448,    val accuracy 95.81%\n",
      "epoch   9,    train loss 0.1208,    train accuracy 96.36%     val loss 0.1383,    val accuracy 96.03%\n",
      "epoch  10,    train loss 0.1112,    train accuracy 96.64%     val loss 0.1293,    val accuracy 96.31%\n",
      "epoch  11,    train loss 0.1037,    train accuracy 96.84%     val loss 0.1249,    val accuracy 96.41%\n",
      "epoch  12,    train loss 0.0979,    train accuracy 97.06%     val loss 0.1204,    val accuracy 96.50%\n",
      "epoch  13,    train loss 0.0913,    train accuracy 97.28%     val loss 0.1161,    val accuracy 96.51%\n",
      "epoch  14,    train loss 0.0857,    train accuracy 97.42%     val loss 0.1126,    val accuracy 96.73%\n",
      "epoch  15,    train loss 0.0822,    train accuracy 97.53%     val loss 0.1103,    val accuracy 96.67%\n",
      "epoch  16,    train loss 0.0776,    train accuracy 97.68%     val loss 0.1070,    val accuracy 96.82%\n",
      "epoch  17,    train loss 0.0720,    train accuracy 97.85%     val loss 0.1013,    val accuracy 97.06%\n",
      "epoch  18,    train loss 0.0685,    train accuracy 97.96%     val loss 0.0996,    val accuracy 97.02%\n",
      "epoch  19,    train loss 0.0647,    train accuracy 98.10%     val loss 0.0977,    val accuracy 97.10%\n",
      "epoch  20,    train loss 0.0612,    train accuracy 98.19%     val loss 0.0955,    val accuracy 97.21%\n",
      "epoch  21,    train loss 0.0584,    train accuracy 98.30%     val loss 0.0945,    val accuracy 97.12%\n",
      "epoch  22,    train loss 0.0553,    train accuracy 98.31%     val loss 0.0928,    val accuracy 97.29%\n",
      "epoch  23,    train loss 0.0528,    train accuracy 98.41%     val loss 0.0903,    val accuracy 97.34%\n",
      "epoch  24,    train loss 0.0496,    train accuracy 98.51%     val loss 0.0877,    val accuracy 97.39%\n",
      "epoch  25,    train loss 0.0472,    train accuracy 98.60%     val loss 0.0860,    val accuracy 97.51%\n",
      "epoch  26,    train loss 0.0445,    train accuracy 98.68%     val loss 0.0837,    val accuracy 97.56%\n",
      "epoch  27,    train loss 0.0434,    train accuracy 98.68%     val loss 0.0850,    val accuracy 97.46%\n",
      "epoch  28,    train loss 0.0408,    train accuracy 98.77%     val loss 0.0837,    val accuracy 97.50%\n",
      "epoch  29,    train loss 0.0398,    train accuracy 98.79%     val loss 0.0835,    val accuracy 97.52%\n",
      "epoch  30,    train loss 0.0371,    train accuracy 98.86%     val loss 0.0803,    val accuracy 97.55%\n",
      "epoch  31,    train loss 0.0351,    train accuracy 98.93%     val loss 0.0797,    val accuracy 97.65%\n",
      "epoch  32,    train loss 0.0331,    train accuracy 99.03%     val loss 0.0789,    val accuracy 97.68%\n",
      "epoch  33,    train loss 0.0327,    train accuracy 99.03%     val loss 0.0804,    val accuracy 97.69%\n",
      "epoch  34,    train loss 0.0312,    train accuracy 99.06%     val loss 0.0773,    val accuracy 97.68%\n",
      "epoch  35,    train loss 0.0283,    train accuracy 99.17%     val loss 0.0756,    val accuracy 97.83%\n",
      "epoch  36,    train loss 0.0282,    train accuracy 99.16%     val loss 0.0773,    val accuracy 97.76%\n",
      "epoch  37,    train loss 0.0263,    train accuracy 99.23%     val loss 0.0770,    val accuracy 97.76%\n",
      "epoch  38,    train loss 0.0256,    train accuracy 99.23%     val loss 0.0755,    val accuracy 97.69%\n",
      "epoch  39,    train loss 0.0239,    train accuracy 99.35%     val loss 0.0739,    val accuracy 97.82%\n",
      "epoch  40,    train loss 0.0222,    train accuracy 99.39%     val loss 0.0732,    val accuracy 97.82%\n",
      "epoch  41,    train loss 0.0213,    train accuracy 99.41%     val loss 0.0744,    val accuracy 97.93%\n",
      "epoch  42,    train loss 0.0210,    train accuracy 99.42%     val loss 0.0734,    val accuracy 97.88%\n",
      "epoch  43,    train loss 0.0203,    train accuracy 99.43%     val loss 0.0747,    val accuracy 97.81%\n",
      "epoch  44,    train loss 0.0188,    train accuracy 99.50%     val loss 0.0723,    val accuracy 97.87%\n",
      "epoch  45,    train loss 0.0177,    train accuracy 99.56%     val loss 0.0729,    val accuracy 97.89%\n",
      "epoch  46,    train loss 0.0167,    train accuracy 99.59%     val loss 0.0724,    val accuracy 97.93%\n",
      "epoch  47,    train loss 0.0167,    train accuracy 99.58%     val loss 0.0731,    val accuracy 97.92%\n",
      "epoch  48,    train loss 0.0153,    train accuracy 99.65%     val loss 0.0725,    val accuracy 97.91%\n",
      "epoch  49,    train loss 0.0150,    train accuracy 99.64%     val loss 0.0726,    val accuracy 97.92%\n",
      "epoch  50,    train loss 0.0148,    train accuracy 99.62%     val loss 0.0739,    val accuracy 97.94%\n",
      "epoch  51,    train loss 0.0139,    train accuracy 99.66%     val loss 0.0728,    val accuracy 97.94%\n",
      "epoch  52,    train loss 0.0130,    train accuracy 99.69%     val loss 0.0704,    val accuracy 97.93%\n",
      "epoch  53,    train loss 0.0128,    train accuracy 99.70%     val loss 0.0728,    val accuracy 97.89%\n",
      "epoch  54,    train loss 0.0125,    train accuracy 99.71%     val loss 0.0719,    val accuracy 97.97%\n",
      "epoch  55,    train loss 0.0115,    train accuracy 99.74%     val loss 0.0708,    val accuracy 97.95%\n",
      "epoch  56,    train loss 0.0120,    train accuracy 99.72%     val loss 0.0730,    val accuracy 97.88%\n",
      "epoch  57,    train loss 0.0105,    train accuracy 99.77%     val loss 0.0729,    val accuracy 97.97%\n",
      "epoch  58,    train loss 0.0109,    train accuracy 99.74%     val loss 0.0724,    val accuracy 97.98%\n",
      "epoch  59,    train loss 0.0094,    train accuracy 99.78%     val loss 0.0712,    val accuracy 98.04%\n",
      "epoch  60,    train loss 0.0095,    train accuracy 99.79%     val loss 0.0740,    val accuracy 97.92%\n",
      "epoch  61,    train loss 0.0090,    train accuracy 99.79%     val loss 0.0718,    val accuracy 97.98%\n",
      "epoch  62,    train loss 0.0088,    train accuracy 99.80%     val loss 0.0728,    val accuracy 97.97%\n",
      "epoch  63,    train loss 0.0078,    train accuracy 99.83%     val loss 0.0706,    val accuracy 98.06%\n",
      "epoch  64,    train loss 0.0076,    train accuracy 99.83%     val loss 0.0724,    val accuracy 97.98%\n",
      "epoch  65,    train loss 0.0073,    train accuracy 99.85%     val loss 0.0697,    val accuracy 98.05%\n",
      "epoch  66,    train loss 0.0069,    train accuracy 99.85%     val loss 0.0709,    val accuracy 97.98%\n",
      "epoch  67,    train loss 0.0070,    train accuracy 99.84%     val loss 0.0717,    val accuracy 97.94%\n",
      "epoch  68,    train loss 0.0064,    train accuracy 99.86%     val loss 0.0710,    val accuracy 98.13%\n",
      "epoch  69,    train loss 0.0062,    train accuracy 99.86%     val loss 0.0715,    val accuracy 98.03%\n",
      "epoch  70,    train loss 0.0060,    train accuracy 99.87%     val loss 0.0715,    val accuracy 97.95%\n",
      "epoch  71,    train loss 0.0057,    train accuracy 99.88%     val loss 0.0725,    val accuracy 98.01%\n",
      "epoch  72,    train loss 0.0056,    train accuracy 99.89%     val loss 0.0720,    val accuracy 98.07%\n",
      "epoch  73,    train loss 0.0051,    train accuracy 99.89%     val loss 0.0720,    val accuracy 98.07%\n",
      "epoch  74,    train loss 0.0050,    train accuracy 99.91%     val loss 0.0716,    val accuracy 98.06%\n",
      "epoch  75,    train loss 0.0048,    train accuracy 99.90%     val loss 0.0725,    val accuracy 97.98%\n",
      "epoch  76,    train loss 0.0047,    train accuracy 99.92%     val loss 0.0723,    val accuracy 98.05%\n",
      "epoch  77,    train loss 0.0044,    train accuracy 99.91%     val loss 0.0714,    val accuracy 98.03%\n",
      "epoch  78,    train loss 0.0045,    train accuracy 99.92%     val loss 0.0732,    val accuracy 98.13%\n",
      "epoch  79,    train loss 0.0039,    train accuracy 99.94%     val loss 0.0710,    val accuracy 98.04%\n",
      "epoch  80,    train loss 0.0041,    train accuracy 99.93%     val loss 0.0704,    val accuracy 98.09%\n"
     ]
    },
    {
     "name": "stdout",
     "output_type": "stream",
     "text": [
      "epoch  81,    train loss 0.0037,    train accuracy 99.94%     val loss 0.0743,    val accuracy 98.02%\n",
      "epoch  82,    train loss 0.0037,    train accuracy 99.94%     val loss 0.0720,    val accuracy 98.11%\n",
      "epoch  83,    train loss 0.0034,    train accuracy 99.94%     val loss 0.0720,    val accuracy 98.10%\n",
      "epoch  84,    train loss 0.0034,    train accuracy 99.95%     val loss 0.0743,    val accuracy 98.07%\n",
      "epoch  85,    train loss 0.0032,    train accuracy 99.95%     val loss 0.0730,    val accuracy 97.99%\n",
      "epoch  86,    train loss 0.0030,    train accuracy 99.95%     val loss 0.0727,    val accuracy 98.13%\n",
      "epoch  87,    train loss 0.0027,    train accuracy 99.96%     val loss 0.0715,    val accuracy 98.08%\n",
      "epoch  88,    train loss 0.0026,    train accuracy 99.97%     val loss 0.0750,    val accuracy 98.02%\n",
      "epoch  89,    train loss 0.0028,    train accuracy 99.95%     val loss 0.0747,    val accuracy 98.08%\n",
      "epoch  90,    train loss 0.0027,    train accuracy 99.96%     val loss 0.0739,    val accuracy 98.04%\n",
      "epoch  91,    train loss 0.0025,    train accuracy 99.97%     val loss 0.0733,    val accuracy 98.12%\n",
      "epoch  92,    train loss 0.0025,    train accuracy 99.95%     val loss 0.0741,    val accuracy 98.07%\n",
      "epoch  93,    train loss 0.0023,    train accuracy 99.96%     val loss 0.0732,    val accuracy 98.09%\n",
      "epoch  94,    train loss 0.0026,    train accuracy 99.96%     val loss 0.0749,    val accuracy 98.04%\n",
      "epoch  95,    train loss 0.0023,    train accuracy 99.97%     val loss 0.0734,    val accuracy 98.19%\n",
      "epoch  96,    train loss 0.0023,    train accuracy 99.97%     val loss 0.0762,    val accuracy 97.97%\n",
      "epoch  97,    train loss 0.0021,    train accuracy 99.97%     val loss 0.0737,    val accuracy 98.06%\n",
      "epoch  98,    train loss 0.0020,    train accuracy 99.97%     val loss 0.0774,    val accuracy 98.02%\n",
      "epoch  99,    train loss 0.0019,    train accuracy 99.97%     val loss 0.0734,    val accuracy 98.08%\n"
     ]
    }
   ],
   "source": [
    "# training phase\n",
    "losses_train = []\n",
    "losses_val = []\n",
    "for epoch in range(epochs):\n",
    "\n",
    "    for batch in range(batches):\n",
    "        begin = batch * batch_size\n",
    "        X_batch, y_batch = get_batch(begin, begin + batch_size)\n",
    "        feed_dict_batch = {X: X_batch, y: y_batch, keep_prob: dropout_keep_prob}\n",
    "        sess.run(optimizer, feed_dict=feed_dict_batch)\n",
    "\n",
    "    feed_dict_train = {X: X_train, y: y_train, keep_prob: 1}\n",
    "    loss_train, accuracy_train = sess.run([loss, accuracy], feed_dict=feed_dict_train)\n",
    "    print(\"epoch {0:3d},    train loss {1:.4f},    train accuracy {2:.02%}\".format(epoch, loss_train, accuracy_train), end=\"\")\n",
    "    losses_train.append(loss_train)\n",
    "\n",
    "    feed_dict_val = {X: X_val, y: y_val, keep_prob: 1}\n",
    "    loss_val, accuracy_val = sess.run([loss, accuracy], feed_dict=feed_dict_val)\n",
    "    print(\"     val loss {1:.4f},    val accuracy {2:.02%}\".format(epoch, loss_val, accuracy_val))\n",
    "    losses_val.append(loss_val)"
   ]
  },
  {
   "cell_type": "code",
   "execution_count": 12,
   "metadata": {},
   "outputs": [
    {
     "data": {
      "image/png": "[encoded data removed]",
      "text/plain": [
       "<Figure size 432x288 with 1 Axes>"
      ]
     },
     "metadata": {},
     "output_type": "display_data"
    }
   ],
   "source": [
    "# plot loss\n",
    "plt.plot(losses_train, label='train')\n",
    "plt.plot(losses_val, label='validation')\n",
    "\n",
    "plt.ylabel('loss')\n",
    "plt.xlabel('epoch')\n",
    "\n",
    "plt.legend()\n",
    "plt.show()"
   ]
  },
  {
   "cell_type": "code",
   "execution_count": 13,
   "metadata": {},
   "outputs": [
    {
     "name": "stdout",
     "output_type": "stream",
     "text": [
      "final,    test loss 0.0677,    test accuracy 98.19%\n"
     ]
    }
   ],
   "source": [
    "# testing phase\n",
    "feed_dict_test = {X: X_test, y: y_test, keep_prob: 1}\n",
    "loss_test, accuracy_test = sess.run([loss, accuracy], feed_dict=feed_dict_test)\n",
    "print(\"final,    test loss {1:.4f},    test accuracy {2:.02%}\".format(epoch, loss_test, accuracy_test))\n",
    "\n",
    "sess.close()"
   ]
  },
  {
   "cell_type": "code",
   "execution_count": null,
   "metadata": {},
   "outputs": [],
   "source": []
  }
 ],
 "metadata": {
  "kernelspec": {
   "display_name": "Python 3",
   "language": "python",
   "name": "python3"
  },
  "language_info": {
   "codemirror_mode": {
    "name": "ipython",
    "version": 3
   },
   "file_extension": ".py",
   "mimetype": "text/x-python",
   "name": "python",
   "nbconvert_exporter": "python",
   "pygments_lexer": "ipython3",
   "version": "3.6.5"
  }
 },
 "nbformat": 4,
 "nbformat_minor": 2
}
